{
  "nbformat": 4,
  "nbformat_minor": 0,
  "metadata": {
    "colab": {
      "provenance": [],
      "collapsed_sections": []
    },
    "kernelspec": {
      "name": "python3",
      "display_name": "Python 3"
    },
    "language_info": {
      "name": "python"
    }
  },
  "cells": [
    {
      "cell_type": "markdown",
      "source": [
        "IMPORTING MODULES"
      ],
      "metadata": {
        "id": "0Dbqfne909Gl"
      }
    },
    {
      "cell_type": "code",
      "execution_count": 84,
      "metadata": {
        "id": "g6403PrP0y5o"
      },
      "outputs": [],
      "source": [
        "import numpy as np\n",
        "import pandas as pd\n",
        "import matplotlib.pyplot as plt\n",
        "import seaborn as sns\n",
        "import tensorflow as tf\n",
        "from tensorflow import keras\n",
        "from tensorflow import math"
      ]
    },
    {
      "cell_type": "markdown",
      "source": [
        "IMPORTING DATASET"
      ],
      "metadata": {
        "id": "E7NOltnk1M5H"
      }
    },
    {
      "cell_type": "code",
      "source": [
        "(X_train,y_train),(X_test,y_test)=keras.datasets.mnist.load_data()\n",
        "print('-'*20+'Dataset Loaded'+'-'*20)"
      ],
      "metadata": {
        "colab": {
          "base_uri": "https://localhost:8080/"
        },
        "id": "s0YLe_UV1Igt",
        "outputId": "288cb249-535d-4992-ec07-104c25027be5"
      },
      "execution_count": 112,
      "outputs": [
        {
          "output_type": "stream",
          "name": "stdout",
          "text": [
            "--------------------Dataset Loaded--------------------\n"
          ]
        }
      ]
    },
    {
      "cell_type": "markdown",
      "source": [],
      "metadata": {
        "id": "9AU4oBiR1L0a"
      }
    },
    {
      "cell_type": "code",
      "source": [
        "plt.matshow(X_train[2])"
      ],
      "metadata": {
        "colab": {
          "base_uri": "https://localhost:8080/",
          "height": 292
        },
        "id": "z7v5079U1GSH",
        "outputId": "9665ebaf-e7b2-4339-a52f-730edb72ebfe"
      },
      "execution_count": 113,
      "outputs": [
        {
          "output_type": "execute_result",
          "data": {
            "text/plain": [
              "<matplotlib.image.AxesImage at 0x7f0666139550>"
            ]
          },
          "metadata": {},
          "execution_count": 113
        },
        {
          "output_type": "display_data",
          "data": {
            "text/plain": [
              "<Figure size 288x288 with 1 Axes>"
            ],
            "image/png": "[encoded data removed]"
          },
          "metadata": {
            "needs_background": "light"
          }
        }
      ]
    },
    {
      "cell_type": "code",
      "source": [
        "print('X_train shape=',X_train.shape)\n",
        "print('X_test shape=',X_test.shape)"
      ],
      "metadata": {
        "colab": {
          "base_uri": "https://localhost:8080/"
        },
        "id": "0QsL22RSXUtL",
        "outputId": "2add7e7e-4f71-47e6-9a20-eabbaeb71561"
      },
      "execution_count": 114,
      "outputs": [
        {
          "output_type": "stream",
          "name": "stdout",
          "text": [
            "X_train shape= (60000, 28, 28)\n",
            "X_test shape= (10000, 28, 28)\n"
          ]
        }
      ]
    },
    {
      "cell_type": "code",
      "source": [
        "X_train=X_train/255\n",
        "X_test=X_test/255"
      ],
      "metadata": {
        "id": "Z5K1qF3-W1Dn"
      },
      "execution_count": 115,
      "outputs": []
    },
    {
      "cell_type": "code",
      "source": [
        "X_train_flattened=X_train.reshape(len(X_train),28*28)\n",
        "X_test_flattened=X_test.reshape(len(X_test),28*28)"
      ],
      "metadata": {
        "id": "IX9KTkuLBVF8"
      },
      "execution_count": 120,
      "outputs": []
    },
    {
      "cell_type": "markdown",
      "source": [
        "BUILDING OUR MODEL"
      ],
      "metadata": {
        "id": "TH6wNC0jDkmQ"
      }
    },
    {
      "cell_type": "code",
      "source": [
        "model=keras.Sequential([\n",
        "    keras.layers.Flatten(input_shape=(784,)),\n",
        "    keras.layers.Dense(50,activation='relu'),\n",
        "    keras.layers.Dropout(0.2),\n",
        "    keras.layers.Dense(40,activation='relu'),\n",
        "    keras.layers.Dropout(0.2),\n",
        "    keras.layers.Dense(30,activation='relu'),\n",
        "    keras.layers.Dropout(0.2),\n",
        "    keras.layers.Dense(10,activation='softmax')\n",
        "])\n",
        "model.compile(\n",
        "    optimizer='adam',\n",
        "    loss='sparse_categorical_crossentropy',\n",
        "    metrics=['accuracy']\n",
        "    )"
      ],
      "metadata": {
        "id": "yxlO9s3f3ouE"
      },
      "execution_count": 123,
      "outputs": []
    },
    {
      "cell_type": "markdown",
      "source": [
        "FITTING OUR MODEL ON THE LOADED DATASET"
      ],
      "metadata": {
        "id": "AZPGBZZjDvBB"
      }
    },
    {
      "cell_type": "code",
      "source": [
        "model.fit(X_train_flattened,y_train,epochs=60,batch_size=256)"
      ],
      "metadata": {
        "colab": {
          "base_uri": "https://localhost:8080/"
        },
        "id": "NyKWc0JPZpF8",
        "outputId": "c9d69eb9-0263-451d-f7df-c90edea1fc71"
      },
      "execution_count": 124,
      "outputs": [
        {
          "output_type": "stream",
          "name": "stdout",
          "text": [
            "Epoch 1/60\n",
            "235/235 [==============================] - 2s 5ms/step - loss: 0.9531 - accuracy: 0.6877\n",
            "Epoch 2/60\n",
            "235/235 [==============================] - 1s 5ms/step - loss: 0.4280 - accuracy: 0.8785\n",
            "Epoch 3/60\n",
            "235/235 [==============================] - 1s 5ms/step - loss: 0.3385 - accuracy: 0.9055\n",
            "Epoch 4/60\n",
            "235/235 [==============================] - 1s 5ms/step - loss: 0.2924 - accuracy: 0.9191\n",
            "Epoch 5/60\n",
            "235/235 [==============================] - 1s 5ms/step - loss: 0.2700 - accuracy: 0.9264\n",
            "Epoch 6/60\n",
            "235/235 [==============================] - 1s 5ms/step - loss: 0.2418 - accuracy: 0.9334\n",
            "Epoch 7/60\n",
            "235/235 [==============================] - 1s 4ms/step - loss: 0.2229 - accuracy: 0.9378\n",
            "Epoch 8/60\n",
            "235/235 [==============================] - 1s 5ms/step - loss: 0.2108 - accuracy: 0.9417\n",
            "Epoch 9/60\n",
            "235/235 [==============================] - 1s 5ms/step - loss: 0.1995 - accuracy: 0.9442\n",
            "Epoch 10/60\n",
            "235/235 [==============================] - 2s 7ms/step - loss: 0.1904 - accuracy: 0.9469\n",
            "Epoch 11/60\n",
            "235/235 [==============================] - 2s 7ms/step - loss: 0.1803 - accuracy: 0.9493\n",
            "Epoch 12/60\n",
            "235/235 [==============================] - 1s 4ms/step - loss: 0.1747 - accuracy: 0.9519\n",
            "Epoch 13/60\n",
            "235/235 [==============================] - 1s 5ms/step - loss: 0.1672 - accuracy: 0.9524\n",
            "Epoch 14/60\n",
            "235/235 [==============================] - 1s 5ms/step - loss: 0.1607 - accuracy: 0.9544\n",
            "Epoch 15/60\n",
            "235/235 [==============================] - 1s 5ms/step - loss: 0.1569 - accuracy: 0.9560\n",
            "Epoch 16/60\n",
            "235/235 [==============================] - 1s 5ms/step - loss: 0.1550 - accuracy: 0.9566\n",
            "Epoch 17/60\n",
            "235/235 [==============================] - 1s 5ms/step - loss: 0.1521 - accuracy: 0.9576\n",
            "Epoch 18/60\n",
            "235/235 [==============================] - 1s 5ms/step - loss: 0.1470 - accuracy: 0.9585\n",
            "Epoch 19/60\n",
            "235/235 [==============================] - 1s 4ms/step - loss: 0.1428 - accuracy: 0.9599\n",
            "Epoch 20/60\n",
            "235/235 [==============================] - 1s 5ms/step - loss: 0.1375 - accuracy: 0.9611\n",
            "Epoch 21/60\n",
            "235/235 [==============================] - 1s 5ms/step - loss: 0.1355 - accuracy: 0.9615\n",
            "Epoch 22/60\n",
            "235/235 [==============================] - 1s 5ms/step - loss: 0.1349 - accuracy: 0.9617\n",
            "Epoch 23/60\n",
            "235/235 [==============================] - 1s 5ms/step - loss: 0.1290 - accuracy: 0.9630\n",
            "Epoch 24/60\n",
            "235/235 [==============================] - 1s 5ms/step - loss: 0.1308 - accuracy: 0.9629\n",
            "Epoch 25/60\n",
            "235/235 [==============================] - 1s 5ms/step - loss: 0.1259 - accuracy: 0.9642\n",
            "Epoch 26/60\n",
            "235/235 [==============================] - 1s 5ms/step - loss: 0.1259 - accuracy: 0.9641\n",
            "Epoch 27/60\n",
            "235/235 [==============================] - 1s 5ms/step - loss: 0.1227 - accuracy: 0.9644\n",
            "Epoch 28/60\n",
            "235/235 [==============================] - 1s 5ms/step - loss: 0.1215 - accuracy: 0.9655\n",
            "Epoch 29/60\n",
            "235/235 [==============================] - 1s 5ms/step - loss: 0.1216 - accuracy: 0.9653\n",
            "Epoch 30/60\n",
            "235/235 [==============================] - 1s 5ms/step - loss: 0.1213 - accuracy: 0.9653\n",
            "Epoch 31/60\n",
            "235/235 [==============================] - 1s 5ms/step - loss: 0.1181 - accuracy: 0.9669\n",
            "Epoch 32/60\n",
            "235/235 [==============================] - 1s 5ms/step - loss: 0.1157 - accuracy: 0.9661\n",
            "Epoch 33/60\n",
            "235/235 [==============================] - 1s 5ms/step - loss: 0.1134 - accuracy: 0.9677\n",
            "Epoch 34/60\n",
            "235/235 [==============================] - 1s 5ms/step - loss: 0.1116 - accuracy: 0.9677\n",
            "Epoch 35/60\n",
            "235/235 [==============================] - 1s 5ms/step - loss: 0.1132 - accuracy: 0.9674\n",
            "Epoch 36/60\n",
            "235/235 [==============================] - 1s 5ms/step - loss: 0.1114 - accuracy: 0.9680\n",
            "Epoch 37/60\n",
            "235/235 [==============================] - 1s 5ms/step - loss: 0.1065 - accuracy: 0.9697\n",
            "Epoch 38/60\n",
            "235/235 [==============================] - 1s 5ms/step - loss: 0.1096 - accuracy: 0.9693\n",
            "Epoch 39/60\n",
            "235/235 [==============================] - 1s 5ms/step - loss: 0.1073 - accuracy: 0.9690\n",
            "Epoch 40/60\n",
            "235/235 [==============================] - 1s 5ms/step - loss: 0.1084 - accuracy: 0.9691\n",
            "Epoch 41/60\n",
            "235/235 [==============================] - 1s 5ms/step - loss: 0.1077 - accuracy: 0.9687\n",
            "Epoch 42/60\n",
            "235/235 [==============================] - 1s 4ms/step - loss: 0.1075 - accuracy: 0.9690\n",
            "Epoch 43/60\n",
            "235/235 [==============================] - 1s 5ms/step - loss: 0.1040 - accuracy: 0.9701\n",
            "Epoch 44/60\n",
            "235/235 [==============================] - 1s 5ms/step - loss: 0.1036 - accuracy: 0.9704\n",
            "Epoch 45/60\n",
            "235/235 [==============================] - 1s 5ms/step - loss: 0.1040 - accuracy: 0.9701\n",
            "Epoch 46/60\n",
            "235/235 [==============================] - 1s 5ms/step - loss: 0.0983 - accuracy: 0.9710\n",
            "Epoch 47/60\n",
            "235/235 [==============================] - 1s 5ms/step - loss: 0.1013 - accuracy: 0.9710\n",
            "Epoch 48/60\n",
            "235/235 [==============================] - 1s 5ms/step - loss: 0.0978 - accuracy: 0.9710\n",
            "Epoch 49/60\n",
            "235/235 [==============================] - 1s 4ms/step - loss: 0.1004 - accuracy: 0.9705\n",
            "Epoch 50/60\n",
            "235/235 [==============================] - 2s 9ms/step - loss: 0.0960 - accuracy: 0.9723\n",
            "Epoch 51/60\n",
            "235/235 [==============================] - 2s 9ms/step - loss: 0.0933 - accuracy: 0.9733\n",
            "Epoch 52/60\n",
            "235/235 [==============================] - 2s 10ms/step - loss: 0.0987 - accuracy: 0.9712\n",
            "Epoch 53/60\n",
            "235/235 [==============================] - 2s 7ms/step - loss: 0.0929 - accuracy: 0.9724\n",
            "Epoch 54/60\n",
            "235/235 [==============================] - 1s 5ms/step - loss: 0.0926 - accuracy: 0.9727\n",
            "Epoch 55/60\n",
            "235/235 [==============================] - 1s 5ms/step - loss: 0.0928 - accuracy: 0.9729\n",
            "Epoch 56/60\n",
            "235/235 [==============================] - 1s 5ms/step - loss: 0.0954 - accuracy: 0.9722\n",
            "Epoch 57/60\n",
            "235/235 [==============================] - 2s 9ms/step - loss: 0.0941 - accuracy: 0.9725\n",
            "Epoch 58/60\n",
            "235/235 [==============================] - 1s 6ms/step - loss: 0.0931 - accuracy: 0.9724\n",
            "Epoch 59/60\n",
            "235/235 [==============================] - 2s 8ms/step - loss: 0.0913 - accuracy: 0.9737\n",
            "Epoch 60/60\n",
            "235/235 [==============================] - 2s 7ms/step - loss: 0.0922 - accuracy: 0.9736\n"
          ]
        },
        {
          "output_type": "execute_result",
          "data": {
            "text/plain": [
              "<keras.callbacks.History at 0x7f0665f1db10>"
            ]
          },
          "metadata": {},
          "execution_count": 124
        }
      ]
    },
    {
      "cell_type": "markdown",
      "source": [
        "EVALUATING THE PERFORMANCE OF OUR MODEL ON TEST DATASET"
      ],
      "metadata": {
        "id": "3EqMzG3KD4Rb"
      }
    },
    {
      "cell_type": "code",
      "source": [
        "model.evaluate(X_test_flattened,y_test)"
      ],
      "metadata": {
        "colab": {
          "base_uri": "https://localhost:8080/"
        },
        "id": "_Mi5KKqoaMGV",
        "outputId": "c97761f0-34aa-4e9b-bab3-5bddc691deaf"
      },
      "execution_count": 125,
      "outputs": [
        {
          "output_type": "stream",
          "name": "stdout",
          "text": [
            "313/313 [==============================] - 1s 2ms/step - loss: 0.1037 - accuracy: 0.9737\n"
          ]
        },
        {
          "output_type": "execute_result",
          "data": {
            "text/plain": [
              "[0.10374222695827484, 0.9736999869346619]"
            ]
          },
          "metadata": {},
          "execution_count": 125
        }
      ]
    },
    {
      "cell_type": "code",
      "source": [
        "plt.matshow(X_test[2])"
      ],
      "metadata": {
        "colab": {
          "base_uri": "https://localhost:8080/",
          "height": 292
        },
        "id": "-kVEHIQZbfyP",
        "outputId": "c368592f-3aae-4212-d9ca-2ec31e042eeb"
      },
      "execution_count": 126,
      "outputs": [
        {
          "output_type": "execute_result",
          "data": {
            "text/plain": [
              "<matplotlib.image.AxesImage at 0x7f0665d60550>"
            ]
          },
          "metadata": {},
          "execution_count": 126
        },
        {
          "output_type": "display_data",
          "data": {
            "text/plain": [
              "<Figure size 288x288 with 1 Axes>"
            ],
            "image/png": "[encoded data removed]"
          },
          "metadata": {
            "needs_background": "light"
          }
        }
      ]
    },
    {
      "cell_type": "code",
      "source": [
        "y_pred=model.predict(X_test_flattened)\n",
        "np.argmax(y_pred[2])"
      ],
      "metadata": {
        "colab": {
          "base_uri": "https://localhost:8080/"
        },
        "id": "qiX4Ts42hXRT",
        "outputId": "e9cf8eaa-d0e9-4d32-c7c0-d54c06f8e00c"
      },
      "execution_count": 127,
      "outputs": [
        {
          "output_type": "execute_result",
          "data": {
            "text/plain": [
              "1"
            ]
          },
          "metadata": {},
          "execution_count": 127
        }
      ]
    },
    {
      "cell_type": "code",
      "source": [
        "y_pred_lb=[np.argmax(i) for i in y_pred]"
      ],
      "metadata": {
        "id": "IF0_2KwV0yPQ"
      },
      "execution_count": 128,
      "outputs": []
    },
    {
      "cell_type": "code",
      "source": [
        "cm=tf.math.confusion_matrix(labels= y_test, predictions= y_pred_lb)\n",
        "\n",
        "plt.figure(figsize=(15,12))\n",
        "sns.heatmap(cm,annot=True,fmt='d')\n",
        "plt.xlabel('Predicted')\n",
        "plt.ylabel('Truth')\n"
      ],
      "metadata": {
        "colab": {
          "base_uri": "https://localhost:8080/",
          "height": 731
        },
        "id": "W_9FpUFViEvI",
        "outputId": "e81ae571-8fa6-4d95-9276-58d1f3564fe4"
      },
      "execution_count": 129,
      "outputs": [
        {
          "output_type": "execute_result",
          "data": {
            "text/plain": [
              "Text(114.0, 0.5, 'Truth')"
            ]
          },
          "metadata": {},
          "execution_count": 129
        },
        {
          "output_type": "display_data",
          "data": {
            "text/plain": [
              "<Figure size 1080x864 with 2 Axes>"
            ],
            "image/png": "[encoded data removed]"
          },
          "metadata": {
            "needs_background": "light"
          }
        }
      ]
    }
  ]
}