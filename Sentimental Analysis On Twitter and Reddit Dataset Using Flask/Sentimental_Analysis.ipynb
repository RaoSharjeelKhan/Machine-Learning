{
 "cells": [
  {
   "cell_type": "code",
   "execution_count": 39,
   "id": "80232c43",
   "metadata": {
    "colab": {
     "base_uri": "https://localhost:8080/"
    },
    "id": "80232c43",
    "outputId": "179424c6-961d-4be7-8f08-1a1f8c5232a6"
   },
   "outputs": [
    {
     "name": "stderr",
     "output_type": "stream",
     "text": [
      "[nltk_data] Downloading package punkt to C:\\Users\\Rao\n",
      "[nltk_data]     Sharjeel\\AppData\\Roaming\\nltk_data...\n",
      "[nltk_data]   Package punkt is already up-to-date!\n",
      "[nltk_data] Downloading package wordnet to C:\\Users\\Rao\n",
      "[nltk_data]     Sharjeel\\AppData\\Roaming\\nltk_data...\n",
      "[nltk_data]   Package wordnet is already up-to-date!\n",
      "[nltk_data] Downloading package omw-1.4 to C:\\Users\\Rao\n",
      "[nltk_data]     Sharjeel\\AppData\\Roaming\\nltk_data...\n",
      "[nltk_data]   Package omw-1.4 is already up-to-date!\n"
     ]
    }
   ],
   "source": [
    "import pandas as pd\n",
    "import numpy as np\n",
    "import nltk\n",
    "from sklearn.model_selection import train_test_split\n",
    "import string\n",
    "from gensim.parsing.preprocessing import remove_stopwords\n",
    "from nltk.tokenize import word_tokenize\n",
    "nltk.download('punkt')\n",
    "nltk.download('wordnet')\n",
    "nltk.download('omw-1.4')\n",
    "from sklearn.feature_extraction.text import TfidfVectorizer\n",
    "from sklearn.feature_extraction.text import CountVectorizer"
   ]
  },
  {
   "cell_type": "code",
   "execution_count": 40,
   "id": "8e45cc14",
   "metadata": {
    "colab": {
     "base_uri": "https://localhost:8080/",
     "height": 206
    },
    "id": "8e45cc14",
    "outputId": "26525d37-57a9-460c-eb5f-d7eff3e0ffa6"
   },
   "outputs": [
    {
     "data": {
      "text/html": [
       "<div>\n",
       "<style scoped>\n",
       "    .dataframe tbody tr th:only-of-type {\n",
       "        vertical-align: middle;\n",
       "    }\n",
       "\n",
       "    .dataframe tbody tr th {\n",
       "        vertical-align: top;\n",
       "    }\n",
       "\n",
       "    .dataframe thead th {\n",
       "        text-align: right;\n",
       "    }\n",
       "</style>\n",
       "<table border=\"1\" class=\"dataframe\">\n",
       "  <thead>\n",
       "    <tr style=\"text-align: right;\">\n",
       "      <th></th>\n",
       "      <th>text</th>\n",
       "      <th>target</th>\n",
       "    </tr>\n",
       "  </thead>\n",
       "  <tbody>\n",
       "    <tr>\n",
       "      <th>0</th>\n",
       "      <td>when modi promised “minimum government maximum...</td>\n",
       "      <td>-1.0</td>\n",
       "    </tr>\n",
       "    <tr>\n",
       "      <th>1</th>\n",
       "      <td>talk all the nonsense and continue all the dra...</td>\n",
       "      <td>0.0</td>\n",
       "    </tr>\n",
       "    <tr>\n",
       "      <th>2</th>\n",
       "      <td>what did just say vote for modi  welcome bjp t...</td>\n",
       "      <td>1.0</td>\n",
       "    </tr>\n",
       "    <tr>\n",
       "      <th>3</th>\n",
       "      <td>asking his supporters prefix chowkidar their n...</td>\n",
       "      <td>1.0</td>\n",
       "    </tr>\n",
       "    <tr>\n",
       "      <th>4</th>\n",
       "      <td>answer who among these the most powerful world...</td>\n",
       "      <td>1.0</td>\n",
       "    </tr>\n",
       "  </tbody>\n",
       "</table>\n",
       "</div>"
      ],
      "text/plain": [
       "                                                text  target\n",
       "0  when modi promised “minimum government maximum...    -1.0\n",
       "1  talk all the nonsense and continue all the dra...     0.0\n",
       "2  what did just say vote for modi  welcome bjp t...     1.0\n",
       "3  asking his supporters prefix chowkidar their n...     1.0\n",
       "4  answer who among these the most powerful world...     1.0"
      ]
     },
     "execution_count": 40,
     "metadata": {},
     "output_type": "execute_result"
    }
   ],
   "source": [
    "df_twitter=pd.read_csv('Twitter_Data.csv')\n",
    "df_twitter.columns=['text', 'target']\n",
    "df_reddit=pd.read_csv('Reddit_Data.csv')\n",
    "df_reddit.columns=['text', 'target']\n",
    "df=pd.concat([df_twitter, df_reddit], axis=0)\n",
    "df.head()"
   ]
  },
  {
   "cell_type": "code",
   "execution_count": 41,
   "id": "f92d8b14",
   "metadata": {
    "id": "f92d8b14"
   },
   "outputs": [],
   "source": [
    "import matplotlib.pyplot as plt\n",
    "import seaborn as sns"
   ]
  },
  {
   "cell_type": "code",
   "execution_count": 42,
   "id": "e95b2d21",
   "metadata": {
    "colab": {
     "base_uri": "https://localhost:8080/",
     "height": 445
    },
    "id": "e95b2d21",
    "outputId": "91a53612-ee97-46f2-f526-20e07590fcf5"
   },
   "outputs": [
    {
     "data": {
      "text/plain": [
       "<BarContainer object of 3 artists>"
      ]
     },
     "execution_count": 42,
     "metadata": {},
     "output_type": "execute_result"
    },
    {
     "data": {
      "image/png": "[encoded data removed]",
      "text/plain": [
       "<Figure size 504x504 with 1 Axes>"
      ]
     },
     "metadata": {
      "needs_background": "light"
     },
     "output_type": "display_data"
    }
   ],
   "source": [
    "ds=['Reddit','Twitter','Total']\n",
    "length=[len(df_reddit),len(df_twitter),len(df)]\n",
    "plt.figure(figsize=(7,7))\n",
    "plt.bar(ds, length,  edgecolor='black')\n"
   ]
  },
  {
   "cell_type": "code",
   "execution_count": 43,
   "id": "51c9c0db",
   "metadata": {
    "colab": {
     "base_uri": "https://localhost:8080/",
     "height": 459
    },
    "id": "51c9c0db",
    "outputId": "14f88ac1-8760-42e7-f10d-6f78edc8ef85"
   },
   "outputs": [
    {
     "data": {
      "text/plain": [
       "<AxesSubplot:xlabel='target', ylabel='count'>"
      ]
     },
     "execution_count": 43,
     "metadata": {},
     "output_type": "execute_result"
    },
    {
     "data": {
      "image/png": "[encoded data removed]",
      "text/plain": [
       "<Figure size 504x504 with 1 Axes>"
      ]
     },
     "metadata": {
      "needs_background": "light"
     },
     "output_type": "display_data"
    }
   ],
   "source": [
    "plt.figure(figsize=(7,7))\n",
    "sns.countplot(data=df,x=df.target)"
   ]
  },
  {
   "cell_type": "code",
   "execution_count": 44,
   "id": "6915314e",
   "metadata": {
    "colab": {
     "base_uri": "https://localhost:8080/"
    },
    "id": "6915314e",
    "outputId": "a790e223-5db0-4418-d3dd-d74ad7051e70"
   },
   "outputs": [
    {
     "data": {
      "text/plain": [
       "index     0\n",
       "text      0\n",
       "target    0\n",
       "dtype: int64"
      ]
     },
     "execution_count": 44,
     "metadata": {},
     "output_type": "execute_result"
    }
   ],
   "source": [
    "df=df.dropna()\n",
    "df=df.drop_duplicates(keep='first')\n",
    "df = df.reset_index()\n",
    "df.isnull().sum()"
   ]
  },
  {
   "cell_type": "code",
   "execution_count": 45,
   "id": "RqBwra1vXyh4",
   "metadata": {
    "colab": {
     "base_uri": "https://localhost:8080/",
     "height": 206
    },
    "id": "RqBwra1vXyh4",
    "outputId": "ff286db7-e4a1-4fe2-cd7e-6be877b8cf74"
   },
   "outputs": [
    {
     "data": {
      "text/html": [
       "<div>\n",
       "<style scoped>\n",
       "    .dataframe tbody tr th:only-of-type {\n",
       "        vertical-align: middle;\n",
       "    }\n",
       "\n",
       "    .dataframe tbody tr th {\n",
       "        vertical-align: top;\n",
       "    }\n",
       "\n",
       "    .dataframe thead th {\n",
       "        text-align: right;\n",
       "    }\n",
       "</style>\n",
       "<table border=\"1\" class=\"dataframe\">\n",
       "  <thead>\n",
       "    <tr style=\"text-align: right;\">\n",
       "      <th></th>\n",
       "      <th>index</th>\n",
       "      <th>text</th>\n",
       "      <th>target</th>\n",
       "      <th>lower</th>\n",
       "    </tr>\n",
       "  </thead>\n",
       "  <tbody>\n",
       "    <tr>\n",
       "      <th>0</th>\n",
       "      <td>0</td>\n",
       "      <td>when modi promised “minimum government maximum...</td>\n",
       "      <td>-1.0</td>\n",
       "      <td>when modi promised “minimum government maximum...</td>\n",
       "    </tr>\n",
       "    <tr>\n",
       "      <th>1</th>\n",
       "      <td>1</td>\n",
       "      <td>talk all the nonsense and continue all the dra...</td>\n",
       "      <td>0.0</td>\n",
       "      <td>talk all the nonsense and continue all the dra...</td>\n",
       "    </tr>\n",
       "    <tr>\n",
       "      <th>2</th>\n",
       "      <td>2</td>\n",
       "      <td>what did just say vote for modi  welcome bjp t...</td>\n",
       "      <td>1.0</td>\n",
       "      <td>what did just say vote for modi  welcome bjp t...</td>\n",
       "    </tr>\n",
       "    <tr>\n",
       "      <th>3</th>\n",
       "      <td>3</td>\n",
       "      <td>asking his supporters prefix chowkidar their n...</td>\n",
       "      <td>1.0</td>\n",
       "      <td>asking his supporters prefix chowkidar their n...</td>\n",
       "    </tr>\n",
       "    <tr>\n",
       "      <th>4</th>\n",
       "      <td>4</td>\n",
       "      <td>answer who among these the most powerful world...</td>\n",
       "      <td>1.0</td>\n",
       "      <td>answer who among these the most powerful world...</td>\n",
       "    </tr>\n",
       "  </tbody>\n",
       "</table>\n",
       "</div>"
      ],
      "text/plain": [
       "   index                                               text  target  \\\n",
       "0      0  when modi promised “minimum government maximum...    -1.0   \n",
       "1      1  talk all the nonsense and continue all the dra...     0.0   \n",
       "2      2  what did just say vote for modi  welcome bjp t...     1.0   \n",
       "3      3  asking his supporters prefix chowkidar their n...     1.0   \n",
       "4      4  answer who among these the most powerful world...     1.0   \n",
       "\n",
       "                                               lower  \n",
       "0  when modi promised “minimum government maximum...  \n",
       "1  talk all the nonsense and continue all the dra...  \n",
       "2  what did just say vote for modi  welcome bjp t...  \n",
       "3  asking his supporters prefix chowkidar their n...  \n",
       "4  answer who among these the most powerful world...  "
      ]
     },
     "execution_count": 45,
     "metadata": {},
     "output_type": "execute_result"
    }
   ],
   "source": [
    "# Convert All the text into Lower Case Letters\n",
    "df['lower']=df['text'].apply(lambda x: x.lower())\n",
    "df.head()"
   ]
  },
  {
   "cell_type": "code",
   "execution_count": 46,
   "id": "tDYxHj0rYjF0",
   "metadata": {
    "colab": {
     "base_uri": "https://localhost:8080/",
     "height": 337
    },
    "id": "tDYxHj0rYjF0",
    "outputId": "d5f1c0de-8997-46da-8a68-d356fba30732"
   },
   "outputs": [
    {
     "data": {
      "text/html": [
       "<div>\n",
       "<style scoped>\n",
       "    .dataframe tbody tr th:only-of-type {\n",
       "        vertical-align: middle;\n",
       "    }\n",
       "\n",
       "    .dataframe tbody tr th {\n",
       "        vertical-align: top;\n",
       "    }\n",
       "\n",
       "    .dataframe thead th {\n",
       "        text-align: right;\n",
       "    }\n",
       "</style>\n",
       "<table border=\"1\" class=\"dataframe\">\n",
       "  <thead>\n",
       "    <tr style=\"text-align: right;\">\n",
       "      <th></th>\n",
       "      <th>index</th>\n",
       "      <th>text</th>\n",
       "      <th>target</th>\n",
       "      <th>lower</th>\n",
       "      <th>Rmv_Punc</th>\n",
       "    </tr>\n",
       "  </thead>\n",
       "  <tbody>\n",
       "    <tr>\n",
       "      <th>0</th>\n",
       "      <td>0</td>\n",
       "      <td>when modi promised “minimum government maximum...</td>\n",
       "      <td>-1.0</td>\n",
       "      <td>when modi promised “minimum government maximum...</td>\n",
       "      <td>when modi promised “minimum government maximum...</td>\n",
       "    </tr>\n",
       "    <tr>\n",
       "      <th>1</th>\n",
       "      <td>1</td>\n",
       "      <td>talk all the nonsense and continue all the dra...</td>\n",
       "      <td>0.0</td>\n",
       "      <td>talk all the nonsense and continue all the dra...</td>\n",
       "      <td>talk all the nonsense and continue all the dra...</td>\n",
       "    </tr>\n",
       "    <tr>\n",
       "      <th>2</th>\n",
       "      <td>2</td>\n",
       "      <td>what did just say vote for modi  welcome bjp t...</td>\n",
       "      <td>1.0</td>\n",
       "      <td>what did just say vote for modi  welcome bjp t...</td>\n",
       "      <td>what did just say vote for modi  welcome bjp t...</td>\n",
       "    </tr>\n",
       "    <tr>\n",
       "      <th>3</th>\n",
       "      <td>3</td>\n",
       "      <td>asking his supporters prefix chowkidar their n...</td>\n",
       "      <td>1.0</td>\n",
       "      <td>asking his supporters prefix chowkidar their n...</td>\n",
       "      <td>asking his supporters prefix chowkidar their n...</td>\n",
       "    </tr>\n",
       "    <tr>\n",
       "      <th>4</th>\n",
       "      <td>4</td>\n",
       "      <td>answer who among these the most powerful world...</td>\n",
       "      <td>1.0</td>\n",
       "      <td>answer who among these the most powerful world...</td>\n",
       "      <td>answer who among these the most powerful world...</td>\n",
       "    </tr>\n",
       "  </tbody>\n",
       "</table>\n",
       "</div>"
      ],
      "text/plain": [
       "   index                                               text  target  \\\n",
       "0      0  when modi promised “minimum government maximum...    -1.0   \n",
       "1      1  talk all the nonsense and continue all the dra...     0.0   \n",
       "2      2  what did just say vote for modi  welcome bjp t...     1.0   \n",
       "3      3  asking his supporters prefix chowkidar their n...     1.0   \n",
       "4      4  answer who among these the most powerful world...     1.0   \n",
       "\n",
       "                                               lower  \\\n",
       "0  when modi promised “minimum government maximum...   \n",
       "1  talk all the nonsense and continue all the dra...   \n",
       "2  what did just say vote for modi  welcome bjp t...   \n",
       "3  asking his supporters prefix chowkidar their n...   \n",
       "4  answer who among these the most powerful world...   \n",
       "\n",
       "                                            Rmv_Punc  \n",
       "0  when modi promised “minimum government maximum...  \n",
       "1  talk all the nonsense and continue all the dra...  \n",
       "2  what did just say vote for modi  welcome bjp t...  \n",
       "3  asking his supporters prefix chowkidar their n...  \n",
       "4  answer who among these the most powerful world...  "
      ]
     },
     "execution_count": 46,
     "metadata": {},
     "output_type": "execute_result"
    }
   ],
   "source": [
    "#Remove the Punctuations from the string\n",
    "df['Rmv_Punc'] =df['lower'].apply( lambda x : x.translate(str.maketrans('', '', string.punctuation)))\n",
    "df.head()"
   ]
  },
  {
   "cell_type": "code",
   "execution_count": 47,
   "id": "7fPVpfxcYRlJ",
   "metadata": {
    "colab": {
     "base_uri": "https://localhost:8080/",
     "height": 354
    },
    "id": "7fPVpfxcYRlJ",
    "outputId": "c85e5d84-5c5b-4139-866d-485fdc4d83d4"
   },
   "outputs": [
    {
     "data": {
      "text/html": [
       "<div>\n",
       "<style scoped>\n",
       "    .dataframe tbody tr th:only-of-type {\n",
       "        vertical-align: middle;\n",
       "    }\n",
       "\n",
       "    .dataframe tbody tr th {\n",
       "        vertical-align: top;\n",
       "    }\n",
       "\n",
       "    .dataframe thead th {\n",
       "        text-align: right;\n",
       "    }\n",
       "</style>\n",
       "<table border=\"1\" class=\"dataframe\">\n",
       "  <thead>\n",
       "    <tr style=\"text-align: right;\">\n",
       "      <th></th>\n",
       "      <th>index</th>\n",
       "      <th>text</th>\n",
       "      <th>target</th>\n",
       "      <th>lower</th>\n",
       "      <th>Rmv_Punc</th>\n",
       "      <th>Rem_SW</th>\n",
       "    </tr>\n",
       "  </thead>\n",
       "  <tbody>\n",
       "    <tr>\n",
       "      <th>0</th>\n",
       "      <td>0</td>\n",
       "      <td>when modi promised “minimum government maximum...</td>\n",
       "      <td>-1.0</td>\n",
       "      <td>when modi promised “minimum government maximum...</td>\n",
       "      <td>when modi promised “minimum government maximum...</td>\n",
       "      <td>modi promised “minimum government maximum gove...</td>\n",
       "    </tr>\n",
       "    <tr>\n",
       "      <th>1</th>\n",
       "      <td>1</td>\n",
       "      <td>talk all the nonsense and continue all the dra...</td>\n",
       "      <td>0.0</td>\n",
       "      <td>talk all the nonsense and continue all the dra...</td>\n",
       "      <td>talk all the nonsense and continue all the dra...</td>\n",
       "      <td>talk nonsense continue drama vote modi</td>\n",
       "    </tr>\n",
       "    <tr>\n",
       "      <th>2</th>\n",
       "      <td>2</td>\n",
       "      <td>what did just say vote for modi  welcome bjp t...</td>\n",
       "      <td>1.0</td>\n",
       "      <td>what did just say vote for modi  welcome bjp t...</td>\n",
       "      <td>what did just say vote for modi  welcome bjp t...</td>\n",
       "      <td>vote modi welcome bjp told rahul main campaign...</td>\n",
       "    </tr>\n",
       "    <tr>\n",
       "      <th>3</th>\n",
       "      <td>3</td>\n",
       "      <td>asking his supporters prefix chowkidar their n...</td>\n",
       "      <td>1.0</td>\n",
       "      <td>asking his supporters prefix chowkidar their n...</td>\n",
       "      <td>asking his supporters prefix chowkidar their n...</td>\n",
       "      <td>asking supporters prefix chowkidar names modi ...</td>\n",
       "    </tr>\n",
       "    <tr>\n",
       "      <th>4</th>\n",
       "      <td>4</td>\n",
       "      <td>answer who among these the most powerful world...</td>\n",
       "      <td>1.0</td>\n",
       "      <td>answer who among these the most powerful world...</td>\n",
       "      <td>answer who among these the most powerful world...</td>\n",
       "      <td>answer powerful world leader today trump putin...</td>\n",
       "    </tr>\n",
       "  </tbody>\n",
       "</table>\n",
       "</div>"
      ],
      "text/plain": [
       "   index                                               text  target  \\\n",
       "0      0  when modi promised “minimum government maximum...    -1.0   \n",
       "1      1  talk all the nonsense and continue all the dra...     0.0   \n",
       "2      2  what did just say vote for modi  welcome bjp t...     1.0   \n",
       "3      3  asking his supporters prefix chowkidar their n...     1.0   \n",
       "4      4  answer who among these the most powerful world...     1.0   \n",
       "\n",
       "                                               lower  \\\n",
       "0  when modi promised “minimum government maximum...   \n",
       "1  talk all the nonsense and continue all the dra...   \n",
       "2  what did just say vote for modi  welcome bjp t...   \n",
       "3  asking his supporters prefix chowkidar their n...   \n",
       "4  answer who among these the most powerful world...   \n",
       "\n",
       "                                            Rmv_Punc  \\\n",
       "0  when modi promised “minimum government maximum...   \n",
       "1  talk all the nonsense and continue all the dra...   \n",
       "2  what did just say vote for modi  welcome bjp t...   \n",
       "3  asking his supporters prefix chowkidar their n...   \n",
       "4  answer who among these the most powerful world...   \n",
       "\n",
       "                                              Rem_SW  \n",
       "0  modi promised “minimum government maximum gove...  \n",
       "1             talk nonsense continue drama vote modi  \n",
       "2  vote modi welcome bjp told rahul main campaign...  \n",
       "3  asking supporters prefix chowkidar names modi ...  \n",
       "4  answer powerful world leader today trump putin...  "
      ]
     },
     "execution_count": 47,
     "metadata": {},
     "output_type": "execute_result"
    }
   ],
   "source": [
    "#Remove Stopwords from the text\n",
    "df['Rem_SW']=df['Rmv_Punc'].apply(lambda x: remove_stopwords(x))\n",
    "df.head()"
   ]
  },
  {
   "cell_type": "code",
   "execution_count": 48,
   "id": "3115991d",
   "metadata": {
    "colab": {
     "base_uri": "https://localhost:8080/",
     "height": 424
    },
    "id": "3115991d",
    "outputId": "2df4037c-9b3f-4263-c55c-26ca0bbffdec"
   },
   "outputs": [
    {
     "data": {
      "text/html": [
       "<div>\n",
       "<style scoped>\n",
       "    .dataframe tbody tr th:only-of-type {\n",
       "        vertical-align: middle;\n",
       "    }\n",
       "\n",
       "    .dataframe tbody tr th {\n",
       "        vertical-align: top;\n",
       "    }\n",
       "\n",
       "    .dataframe thead th {\n",
       "        text-align: right;\n",
       "    }\n",
       "</style>\n",
       "<table border=\"1\" class=\"dataframe\">\n",
       "  <thead>\n",
       "    <tr style=\"text-align: right;\">\n",
       "      <th></th>\n",
       "      <th>index</th>\n",
       "      <th>text</th>\n",
       "      <th>target</th>\n",
       "      <th>lower</th>\n",
       "      <th>Rmv_Punc</th>\n",
       "      <th>Rem_SW</th>\n",
       "      <th>tokenized_text</th>\n",
       "    </tr>\n",
       "  </thead>\n",
       "  <tbody>\n",
       "    <tr>\n",
       "      <th>0</th>\n",
       "      <td>0</td>\n",
       "      <td>when modi promised “minimum government maximum...</td>\n",
       "      <td>-1.0</td>\n",
       "      <td>when modi promised “minimum government maximum...</td>\n",
       "      <td>when modi promised “minimum government maximum...</td>\n",
       "      <td>modi promised “minimum government maximum gove...</td>\n",
       "      <td>[modi, promised, “, minimum, government, maxim...</td>\n",
       "    </tr>\n",
       "    <tr>\n",
       "      <th>1</th>\n",
       "      <td>1</td>\n",
       "      <td>talk all the nonsense and continue all the dra...</td>\n",
       "      <td>0.0</td>\n",
       "      <td>talk all the nonsense and continue all the dra...</td>\n",
       "      <td>talk all the nonsense and continue all the dra...</td>\n",
       "      <td>talk nonsense continue drama vote modi</td>\n",
       "      <td>[talk, nonsense, continue, drama, vote, modi]</td>\n",
       "    </tr>\n",
       "    <tr>\n",
       "      <th>2</th>\n",
       "      <td>2</td>\n",
       "      <td>what did just say vote for modi  welcome bjp t...</td>\n",
       "      <td>1.0</td>\n",
       "      <td>what did just say vote for modi  welcome bjp t...</td>\n",
       "      <td>what did just say vote for modi  welcome bjp t...</td>\n",
       "      <td>vote modi welcome bjp told rahul main campaign...</td>\n",
       "      <td>[vote, modi, welcome, bjp, told, rahul, main, ...</td>\n",
       "    </tr>\n",
       "    <tr>\n",
       "      <th>3</th>\n",
       "      <td>3</td>\n",
       "      <td>asking his supporters prefix chowkidar their n...</td>\n",
       "      <td>1.0</td>\n",
       "      <td>asking his supporters prefix chowkidar their n...</td>\n",
       "      <td>asking his supporters prefix chowkidar their n...</td>\n",
       "      <td>asking supporters prefix chowkidar names modi ...</td>\n",
       "      <td>[asking, supporters, prefix, chowkidar, names,...</td>\n",
       "    </tr>\n",
       "    <tr>\n",
       "      <th>4</th>\n",
       "      <td>4</td>\n",
       "      <td>answer who among these the most powerful world...</td>\n",
       "      <td>1.0</td>\n",
       "      <td>answer who among these the most powerful world...</td>\n",
       "      <td>answer who among these the most powerful world...</td>\n",
       "      <td>answer powerful world leader today trump putin...</td>\n",
       "      <td>[answer, powerful, world, leader, today, trump...</td>\n",
       "    </tr>\n",
       "  </tbody>\n",
       "</table>\n",
       "</div>"
      ],
      "text/plain": [
       "   index                                               text  target  \\\n",
       "0      0  when modi promised “minimum government maximum...    -1.0   \n",
       "1      1  talk all the nonsense and continue all the dra...     0.0   \n",
       "2      2  what did just say vote for modi  welcome bjp t...     1.0   \n",
       "3      3  asking his supporters prefix chowkidar their n...     1.0   \n",
       "4      4  answer who among these the most powerful world...     1.0   \n",
       "\n",
       "                                               lower  \\\n",
       "0  when modi promised “minimum government maximum...   \n",
       "1  talk all the nonsense and continue all the dra...   \n",
       "2  what did just say vote for modi  welcome bjp t...   \n",
       "3  asking his supporters prefix chowkidar their n...   \n",
       "4  answer who among these the most powerful world...   \n",
       "\n",
       "                                            Rmv_Punc  \\\n",
       "0  when modi promised “minimum government maximum...   \n",
       "1  talk all the nonsense and continue all the dra...   \n",
       "2  what did just say vote for modi  welcome bjp t...   \n",
       "3  asking his supporters prefix chowkidar their n...   \n",
       "4  answer who among these the most powerful world...   \n",
       "\n",
       "                                              Rem_SW  \\\n",
       "0  modi promised “minimum government maximum gove...   \n",
       "1             talk nonsense continue drama vote modi   \n",
       "2  vote modi welcome bjp told rahul main campaign...   \n",
       "3  asking supporters prefix chowkidar names modi ...   \n",
       "4  answer powerful world leader today trump putin...   \n",
       "\n",
       "                                      tokenized_text  \n",
       "0  [modi, promised, “, minimum, government, maxim...  \n",
       "1      [talk, nonsense, continue, drama, vote, modi]  \n",
       "2  [vote, modi, welcome, bjp, told, rahul, main, ...  \n",
       "3  [asking, supporters, prefix, chowkidar, names,...  \n",
       "4  [answer, powerful, world, leader, today, trump...  "
      ]
     },
     "execution_count": 48,
     "metadata": {},
     "output_type": "execute_result"
    }
   ],
   "source": [
    "#Tokenized the text\n",
    "df['tokenized_text']=df['Rem_SW'].apply(lambda x: word_tokenize(x))\n",
    "df.head()"
   ]
  },
  {
   "cell_type": "code",
   "execution_count": 49,
   "id": "d77a0a7c",
   "metadata": {
    "colab": {
     "base_uri": "https://localhost:8080/",
     "height": 528
    },
    "id": "d77a0a7c",
    "outputId": "d9373ae0-d2ab-4057-f3a7-7c18a43c1b0b"
   },
   "outputs": [
    {
     "data": {
      "text/html": [
       "<div>\n",
       "<style scoped>\n",
       "    .dataframe tbody tr th:only-of-type {\n",
       "        vertical-align: middle;\n",
       "    }\n",
       "\n",
       "    .dataframe tbody tr th {\n",
       "        vertical-align: top;\n",
       "    }\n",
       "\n",
       "    .dataframe thead th {\n",
       "        text-align: right;\n",
       "    }\n",
       "</style>\n",
       "<table border=\"1\" class=\"dataframe\">\n",
       "  <thead>\n",
       "    <tr style=\"text-align: right;\">\n",
       "      <th></th>\n",
       "      <th>index</th>\n",
       "      <th>text</th>\n",
       "      <th>target</th>\n",
       "      <th>lower</th>\n",
       "      <th>Rmv_Punc</th>\n",
       "      <th>Rem_SW</th>\n",
       "      <th>tokenized_text</th>\n",
       "      <th>PS_text</th>\n",
       "    </tr>\n",
       "  </thead>\n",
       "  <tbody>\n",
       "    <tr>\n",
       "      <th>0</th>\n",
       "      <td>0</td>\n",
       "      <td>when modi promised “minimum government maximum...</td>\n",
       "      <td>-1.0</td>\n",
       "      <td>when modi promised “minimum government maximum...</td>\n",
       "      <td>when modi promised “minimum government maximum...</td>\n",
       "      <td>modi promised “minimum government maximum gove...</td>\n",
       "      <td>[modi, promised, “, minimum, government, maxim...</td>\n",
       "      <td>[modi, promis, “, minimum, govern, maximum, go...</td>\n",
       "    </tr>\n",
       "    <tr>\n",
       "      <th>1</th>\n",
       "      <td>1</td>\n",
       "      <td>talk all the nonsense and continue all the dra...</td>\n",
       "      <td>0.0</td>\n",
       "      <td>talk all the nonsense and continue all the dra...</td>\n",
       "      <td>talk all the nonsense and continue all the dra...</td>\n",
       "      <td>talk nonsense continue drama vote modi</td>\n",
       "      <td>[talk, nonsense, continue, drama, vote, modi]</td>\n",
       "      <td>[talk, nonsens, continu, drama, vote, modi]</td>\n",
       "    </tr>\n",
       "    <tr>\n",
       "      <th>2</th>\n",
       "      <td>2</td>\n",
       "      <td>what did just say vote for modi  welcome bjp t...</td>\n",
       "      <td>1.0</td>\n",
       "      <td>what did just say vote for modi  welcome bjp t...</td>\n",
       "      <td>what did just say vote for modi  welcome bjp t...</td>\n",
       "      <td>vote modi welcome bjp told rahul main campaign...</td>\n",
       "      <td>[vote, modi, welcome, bjp, told, rahul, main, ...</td>\n",
       "      <td>[vote, modi, welcom, bjp, told, rahul, main, c...</td>\n",
       "    </tr>\n",
       "    <tr>\n",
       "      <th>3</th>\n",
       "      <td>3</td>\n",
       "      <td>asking his supporters prefix chowkidar their n...</td>\n",
       "      <td>1.0</td>\n",
       "      <td>asking his supporters prefix chowkidar their n...</td>\n",
       "      <td>asking his supporters prefix chowkidar their n...</td>\n",
       "      <td>asking supporters prefix chowkidar names modi ...</td>\n",
       "      <td>[asking, supporters, prefix, chowkidar, names,...</td>\n",
       "      <td>[ask, support, prefix, chowkidar, name, modi, ...</td>\n",
       "    </tr>\n",
       "    <tr>\n",
       "      <th>4</th>\n",
       "      <td>4</td>\n",
       "      <td>answer who among these the most powerful world...</td>\n",
       "      <td>1.0</td>\n",
       "      <td>answer who among these the most powerful world...</td>\n",
       "      <td>answer who among these the most powerful world...</td>\n",
       "      <td>answer powerful world leader today trump putin...</td>\n",
       "      <td>[answer, powerful, world, leader, today, trump...</td>\n",
       "      <td>[answer, power, world, leader, today, trump, p...</td>\n",
       "    </tr>\n",
       "  </tbody>\n",
       "</table>\n",
       "</div>"
      ],
      "text/plain": [
       "   index                                               text  target  \\\n",
       "0      0  when modi promised “minimum government maximum...    -1.0   \n",
       "1      1  talk all the nonsense and continue all the dra...     0.0   \n",
       "2      2  what did just say vote for modi  welcome bjp t...     1.0   \n",
       "3      3  asking his supporters prefix chowkidar their n...     1.0   \n",
       "4      4  answer who among these the most powerful world...     1.0   \n",
       "\n",
       "                                               lower  \\\n",
       "0  when modi promised “minimum government maximum...   \n",
       "1  talk all the nonsense and continue all the dra...   \n",
       "2  what did just say vote for modi  welcome bjp t...   \n",
       "3  asking his supporters prefix chowkidar their n...   \n",
       "4  answer who among these the most powerful world...   \n",
       "\n",
       "                                            Rmv_Punc  \\\n",
       "0  when modi promised “minimum government maximum...   \n",
       "1  talk all the nonsense and continue all the dra...   \n",
       "2  what did just say vote for modi  welcome bjp t...   \n",
       "3  asking his supporters prefix chowkidar their n...   \n",
       "4  answer who among these the most powerful world...   \n",
       "\n",
       "                                              Rem_SW  \\\n",
       "0  modi promised “minimum government maximum gove...   \n",
       "1             talk nonsense continue drama vote modi   \n",
       "2  vote modi welcome bjp told rahul main campaign...   \n",
       "3  asking supporters prefix chowkidar names modi ...   \n",
       "4  answer powerful world leader today trump putin...   \n",
       "\n",
       "                                      tokenized_text  \\\n",
       "0  [modi, promised, “, minimum, government, maxim...   \n",
       "1      [talk, nonsense, continue, drama, vote, modi]   \n",
       "2  [vote, modi, welcome, bjp, told, rahul, main, ...   \n",
       "3  [asking, supporters, prefix, chowkidar, names,...   \n",
       "4  [answer, powerful, world, leader, today, trump...   \n",
       "\n",
       "                                             PS_text  \n",
       "0  [modi, promis, “, minimum, govern, maximum, go...  \n",
       "1        [talk, nonsens, continu, drama, vote, modi]  \n",
       "2  [vote, modi, welcom, bjp, told, rahul, main, c...  \n",
       "3  [ask, support, prefix, chowkidar, name, modi, ...  \n",
       "4  [answer, power, world, leader, today, trump, p...  "
      ]
     },
     "execution_count": 49,
     "metadata": {},
     "output_type": "execute_result"
    }
   ],
   "source": [
    "from nltk.stem.porter import PorterStemmer\n",
    "ps = PorterStemmer()\n",
    "def PS (text):\n",
    "    text=list(ps.stem(c) for c in text)\n",
    "    return text \n",
    "df['PS_text']=df['tokenized_text'].apply(lambda x: PS(x))\n",
    "df.head()"
   ]
  },
  {
   "cell_type": "code",
   "execution_count": 50,
   "id": "K0UqAqat68-U",
   "metadata": {
    "colab": {
     "base_uri": "https://localhost:8080/",
     "height": 580
    },
    "id": "K0UqAqat68-U",
    "outputId": "0ecb94e4-e6f3-4e54-92e8-d8757662cd6f"
   },
   "outputs": [
    {
     "data": {
      "text/html": [
       "<div>\n",
       "<style scoped>\n",
       "    .dataframe tbody tr th:only-of-type {\n",
       "        vertical-align: middle;\n",
       "    }\n",
       "\n",
       "    .dataframe tbody tr th {\n",
       "        vertical-align: top;\n",
       "    }\n",
       "\n",
       "    .dataframe thead th {\n",
       "        text-align: right;\n",
       "    }\n",
       "</style>\n",
       "<table border=\"1\" class=\"dataframe\">\n",
       "  <thead>\n",
       "    <tr style=\"text-align: right;\">\n",
       "      <th></th>\n",
       "      <th>index</th>\n",
       "      <th>text</th>\n",
       "      <th>target</th>\n",
       "      <th>lower</th>\n",
       "      <th>Rmv_Punc</th>\n",
       "      <th>Rem_SW</th>\n",
       "      <th>tokenized_text</th>\n",
       "      <th>PS_text</th>\n",
       "      <th>Final_text</th>\n",
       "    </tr>\n",
       "  </thead>\n",
       "  <tbody>\n",
       "    <tr>\n",
       "      <th>0</th>\n",
       "      <td>0</td>\n",
       "      <td>when modi promised “minimum government maximum...</td>\n",
       "      <td>-1.0</td>\n",
       "      <td>when modi promised “minimum government maximum...</td>\n",
       "      <td>when modi promised “minimum government maximum...</td>\n",
       "      <td>modi promised “minimum government maximum gove...</td>\n",
       "      <td>[modi, promised, “, minimum, government, maxim...</td>\n",
       "      <td>[modi, promis, “, minimum, govern, maximum, go...</td>\n",
       "      <td>modi promis “ minimum govern maximum govern ” ...</td>\n",
       "    </tr>\n",
       "    <tr>\n",
       "      <th>1</th>\n",
       "      <td>1</td>\n",
       "      <td>talk all the nonsense and continue all the dra...</td>\n",
       "      <td>0.0</td>\n",
       "      <td>talk all the nonsense and continue all the dra...</td>\n",
       "      <td>talk all the nonsense and continue all the dra...</td>\n",
       "      <td>talk nonsense continue drama vote modi</td>\n",
       "      <td>[talk, nonsense, continue, drama, vote, modi]</td>\n",
       "      <td>[talk, nonsens, continu, drama, vote, modi]</td>\n",
       "      <td>talk nonsens continu drama vote modi</td>\n",
       "    </tr>\n",
       "    <tr>\n",
       "      <th>2</th>\n",
       "      <td>2</td>\n",
       "      <td>what did just say vote for modi  welcome bjp t...</td>\n",
       "      <td>1.0</td>\n",
       "      <td>what did just say vote for modi  welcome bjp t...</td>\n",
       "      <td>what did just say vote for modi  welcome bjp t...</td>\n",
       "      <td>vote modi welcome bjp told rahul main campaign...</td>\n",
       "      <td>[vote, modi, welcome, bjp, told, rahul, main, ...</td>\n",
       "      <td>[vote, modi, welcom, bjp, told, rahul, main, c...</td>\n",
       "      <td>vote modi welcom bjp told rahul main campaign ...</td>\n",
       "    </tr>\n",
       "    <tr>\n",
       "      <th>3</th>\n",
       "      <td>3</td>\n",
       "      <td>asking his supporters prefix chowkidar their n...</td>\n",
       "      <td>1.0</td>\n",
       "      <td>asking his supporters prefix chowkidar their n...</td>\n",
       "      <td>asking his supporters prefix chowkidar their n...</td>\n",
       "      <td>asking supporters prefix chowkidar names modi ...</td>\n",
       "      <td>[asking, supporters, prefix, chowkidar, names,...</td>\n",
       "      <td>[ask, support, prefix, chowkidar, name, modi, ...</td>\n",
       "      <td>ask support prefix chowkidar name modi great s...</td>\n",
       "    </tr>\n",
       "    <tr>\n",
       "      <th>4</th>\n",
       "      <td>4</td>\n",
       "      <td>answer who among these the most powerful world...</td>\n",
       "      <td>1.0</td>\n",
       "      <td>answer who among these the most powerful world...</td>\n",
       "      <td>answer who among these the most powerful world...</td>\n",
       "      <td>answer powerful world leader today trump putin...</td>\n",
       "      <td>[answer, powerful, world, leader, today, trump...</td>\n",
       "      <td>[answer, power, world, leader, today, trump, p...</td>\n",
       "      <td>answer power world leader today trump putin modi</td>\n",
       "    </tr>\n",
       "  </tbody>\n",
       "</table>\n",
       "</div>"
      ],
      "text/plain": [
       "   index                                               text  target  \\\n",
       "0      0  when modi promised “minimum government maximum...    -1.0   \n",
       "1      1  talk all the nonsense and continue all the dra...     0.0   \n",
       "2      2  what did just say vote for modi  welcome bjp t...     1.0   \n",
       "3      3  asking his supporters prefix chowkidar their n...     1.0   \n",
       "4      4  answer who among these the most powerful world...     1.0   \n",
       "\n",
       "                                               lower  \\\n",
       "0  when modi promised “minimum government maximum...   \n",
       "1  talk all the nonsense and continue all the dra...   \n",
       "2  what did just say vote for modi  welcome bjp t...   \n",
       "3  asking his supporters prefix chowkidar their n...   \n",
       "4  answer who among these the most powerful world...   \n",
       "\n",
       "                                            Rmv_Punc  \\\n",
       "0  when modi promised “minimum government maximum...   \n",
       "1  talk all the nonsense and continue all the dra...   \n",
       "2  what did just say vote for modi  welcome bjp t...   \n",
       "3  asking his supporters prefix chowkidar their n...   \n",
       "4  answer who among these the most powerful world...   \n",
       "\n",
       "                                              Rem_SW  \\\n",
       "0  modi promised “minimum government maximum gove...   \n",
       "1             talk nonsense continue drama vote modi   \n",
       "2  vote modi welcome bjp told rahul main campaign...   \n",
       "3  asking supporters prefix chowkidar names modi ...   \n",
       "4  answer powerful world leader today trump putin...   \n",
       "\n",
       "                                      tokenized_text  \\\n",
       "0  [modi, promised, “, minimum, government, maxim...   \n",
       "1      [talk, nonsense, continue, drama, vote, modi]   \n",
       "2  [vote, modi, welcome, bjp, told, rahul, main, ...   \n",
       "3  [asking, supporters, prefix, chowkidar, names,...   \n",
       "4  [answer, powerful, world, leader, today, trump...   \n",
       "\n",
       "                                             PS_text  \\\n",
       "0  [modi, promis, “, minimum, govern, maximum, go...   \n",
       "1        [talk, nonsens, continu, drama, vote, modi]   \n",
       "2  [vote, modi, welcom, bjp, told, rahul, main, c...   \n",
       "3  [ask, support, prefix, chowkidar, name, modi, ...   \n",
       "4  [answer, power, world, leader, today, trump, p...   \n",
       "\n",
       "                                          Final_text  \n",
       "0  modi promis “ minimum govern maximum govern ” ...  \n",
       "1               talk nonsens continu drama vote modi  \n",
       "2  vote modi welcom bjp told rahul main campaign ...  \n",
       "3  ask support prefix chowkidar name modi great s...  \n",
       "4   answer power world leader today trump putin modi  "
      ]
     },
     "execution_count": 50,
     "metadata": {},
     "output_type": "execute_result"
    }
   ],
   "source": [
    "def Join(text):\n",
    "  text=\" \".join(text)\n",
    "df['Final_text']=df['PS_text'].apply(lambda x: \" \".join(x))\n",
    "df.head()"
   ]
  },
  {
   "cell_type": "code",
   "execution_count": 51,
   "id": "8e37a71a",
   "metadata": {
    "id": "8e37a71a"
   },
   "outputs": [],
   "source": [
    "tfidf_vectorizer = TfidfVectorizer(max_features=3000)\n",
    "tfidf_vectorizer.fit(df['Final_text'])\n",
    "X = tfidf_vectorizer.transform(df['Final_text'])"
   ]
  },
  {
   "cell_type": "code",
   "execution_count": 52,
   "id": "ecb10d15",
   "metadata": {
    "colab": {
     "base_uri": "https://localhost:8080/"
    },
    "id": "ecb10d15",
    "outputId": "f2cd4458-23f4-488d-9af0-56146aa3a507"
   },
   "outputs": [
    {
     "data": {
      "text/plain": [
       "(199708, 3000)"
      ]
     },
     "execution_count": 52,
     "metadata": {},
     "output_type": "execute_result"
    }
   ],
   "source": [
    "X.shape"
   ]
  },
  {
   "cell_type": "code",
   "execution_count": 53,
   "id": "93434d9b",
   "metadata": {
    "id": "93434d9b"
   },
   "outputs": [],
   "source": [
    "y=df['target'].values\n",
    "X_train, X_test, y_train, y_test = train_test_split(X, y, test_size=0.25, random_state=42)"
   ]
  },
  {
   "cell_type": "code",
   "execution_count": 54,
   "id": "xvVU8S2ArRWi",
   "metadata": {
    "id": "xvVU8S2ArRWi"
   },
   "outputs": [],
   "source": [
    "from sklearn.linear_model import LogisticRegression\n",
    "from sklearn.svm import SVC\n",
    "from sklearn.naive_bayes import MultinomialNB\n",
    "from sklearn.tree import DecisionTreeClassifier\n",
    "from sklearn.neighbors import KNeighborsClassifier\n",
    "from sklearn.ensemble import RandomForestClassifier\n",
    "from sklearn.ensemble import AdaBoostClassifier\n",
    "from sklearn.ensemble import BaggingClassifier\n",
    "from sklearn.ensemble import ExtraTreesClassifier\n",
    "from sklearn.ensemble import GradientBoostingClassifier\n",
    "from sklearn.metrics import accuracy_score,confusion_matrix,classification_report\n",
    "from sklearn.linear_model import PassiveAggressiveClassifier,LogisticRegression"
   ]
  },
  {
   "cell_type": "code",
   "execution_count": 55,
   "id": "1a810263",
   "metadata": {
    "id": "1a810263"
   },
   "outputs": [],
   "source": [
    "\n",
    "svc = SVC()\n",
    "knc = KNeighborsClassifier()\n",
    "mnb = MultinomialNB()\n",
    "dtc = DecisionTreeClassifier(max_depth=5)\n",
    "lrc = LogisticRegression(solver='liblinear', penalty='l1')\n",
    "rfc = RandomForestClassifier(n_estimators=50, random_state=2)\n",
    "abc = AdaBoostClassifier(n_estimators=50, random_state=2)\n",
    "bc = BaggingClassifier(n_estimators=50, random_state=2)\n",
    "gbdt = GradientBoostingClassifier(n_estimators=50,random_state=2)\n"
   ]
  },
  {
   "cell_type": "code",
   "execution_count": 56,
   "id": "IU0OAfXhDwx0",
   "metadata": {
    "id": "IU0OAfXhDwx0"
   },
   "outputs": [],
   "source": [
    "mod2=knc.fit(X_train,y_train)"
   ]
  },
  {
   "cell_type": "code",
   "execution_count": 57,
   "id": "l0LvsYhHE9u_",
   "metadata": {
    "id": "l0LvsYhHE9u_"
   },
   "outputs": [],
   "source": [
    "mod3=mnb.fit(X_train,y_train)"
   ]
  },
  {
   "cell_type": "code",
   "execution_count": 58,
   "id": "-6V9qsT6FFk8",
   "metadata": {
    "id": "-6V9qsT6FFk8"
   },
   "outputs": [],
   "source": [
    "mod4=dtc.fit(X_train,y_train)"
   ]
  },
  {
   "cell_type": "code",
   "execution_count": 59,
   "id": "kd9mARpfFRe0",
   "metadata": {
    "id": "kd9mARpfFRe0"
   },
   "outputs": [],
   "source": [
    "mod5=lrc.fit(X_train,y_train)"
   ]
  },
  {
   "cell_type": "code",
   "execution_count": null,
   "id": "LxCTa-diFfDa",
   "metadata": {
    "id": "LxCTa-diFfDa"
   },
   "outputs": [],
   "source": [
    "mod6=rfc.fit(X_train,y_train)"
   ]
  },
  {
   "cell_type": "code",
   "execution_count": null,
   "id": "oSrKfP6jGY5L",
   "metadata": {
    "id": "oSrKfP6jGY5L"
   },
   "outputs": [],
   "source": [
    "mod7=gbdt.fit(X_train,y_train)"
   ]
  },
  {
   "cell_type": "code",
   "execution_count": null,
   "id": "JflhsItUBdr2",
   "metadata": {
    "id": "JflhsItUBdr2"
   },
   "outputs": [],
   "source": [
    "mod8=abc.fit(X_train,y_train)"
   ]
  },
  {
   "cell_type": "code",
   "execution_count": null,
   "id": "9050655b",
   "metadata": {
    "id": "9050655b"
   },
   "outputs": [],
   "source": [
    "y_pred1=mod2.predict(X_test)\n",
    "y_pred2=mod3.predict(X_test)\n",
    "y_pred3=mod4.predict(X_test)\n",
    "y_pred4=mod5.predict(X_test)\n",
    "y_pred5=mod6.predict(X_test)\n",
    "y_pred6=mod7.predict(X_test)\n",
    "y_pred7=mod8.predict(X_test)\n",
    "\n",
    "#from sklearn.metrics import accuracy_score\n",
    "ac1=accuracy_score(y_test,y_pred1)\n",
    "ac2=accuracy_score(y_test,y_pred2)\n",
    "ac3=accuracy_score(y_test,y_pred3)\n",
    "ac4=accuracy_score(y_test,y_pred4)\n",
    "ac5=accuracy_score(y_test,y_pred5)\n",
    "ac6=accuracy_score(y_test,y_pred6)\n",
    "ac7=accuracy_score(y_test,y_pred7)\n"
   ]
  },
  {
   "cell_type": "code",
   "execution_count": null,
   "id": "ynHcOvshJG9Q",
   "metadata": {
    "colab": {
     "base_uri": "https://localhost:8080/"
    },
    "id": "ynHcOvshJG9Q",
    "outputId": "14de945f-83ef-47bb-fc2c-f9e944496ecd"
   },
   "outputs": [
    {
     "name": "stdout",
     "output_type": "stream",
     "text": [
      "                        Model  Accuracy\n",
      "0        KNeighborsClassifier  0.441224\n",
      "1               MultinomialNB  0.668396\n",
      "2      DecisionTreeClassifier  0.503896\n",
      "3          LogisticRegression  0.814028\n",
      "4      RandomForestClassifier  0.786448\n",
      "5  GradientBoostingClassifier  0.649388\n",
      "6          AdaBoostClassifier  0.652352\n"
     ]
    }
   ],
   "source": [
    "result=pd.DataFrame({'Model':['KNeighborsClassifier','MultinomialNB','DecisionTreeClassifier','LogisticRegression'\n",
    ",'RandomForestClassifier','GradientBoostingClassifier','AdaBoostClassifier'],'Accuracy':[ac1,ac2,ac3,ac4,ac5,ac6,ac7] })\n",
    "print(result)"
   ]
  },
  {
   "cell_type": "code",
   "execution_count": 27,
   "id": "47e96865",
   "metadata": {
    "id": "47e96865"
   },
   "outputs": [],
   "source": [
    "def transform(text):\n",
    "  text=text.lower()\n",
    "  text = text.translate(str.maketrans('', '', string.punctuation))\n",
    "  text = remove_stopwords(text)\n",
    "  text=word_tokenize(text)\n",
    "  ps = PorterStemmer()\n",
    "  new=[]\n",
    "  for ele in range(len(text)):\n",
    "    new.append(ps.stem(text[ele]))\n",
    "  text=new\n",
    "  text=str(\" \".join(text))\n",
    "  return text\n",
    "  "
   ]
  },
  {
   "cell_type": "code",
   "execution_count": 28,
   "id": "f68af044",
   "metadata": {
    "colab": {
     "base_uri": "https://localhost:8080/",
     "height": 235
    },
    "id": "f68af044",
    "outputId": "f6f4fef3-84bd-42d7-fd08-db4ede2aff08"
   },
   "outputs": [
    {
     "ename": "NameError",
     "evalue": "ignored",
     "output_type": "error",
     "traceback": [
      "\u001b[0;31m---------------------------------------------------------------------------\u001b[0m",
      "\u001b[0;31mNameError\u001b[0m                                 Traceback (most recent call last)",
      "\u001b[0;32m<ipython-input-28-4cb308ace2ce>\u001b[0m in \u001b[0;36m<module>\u001b[0;34m\u001b[0m\n\u001b[1;32m      1\u001b[0m \u001b[0mt\u001b[0m\u001b[0;34m=\u001b[0m\u001b[0mtransform\u001b[0m\u001b[0;34m(\u001b[0m\u001b[0mdf\u001b[0m\u001b[0;34m[\u001b[0m\u001b[0;34m'text'\u001b[0m\u001b[0;34m]\u001b[0m\u001b[0;34m[\u001b[0m\u001b[0;36m600\u001b[0m\u001b[0;34m]\u001b[0m\u001b[0;34m)\u001b[0m\u001b[0;34m\u001b[0m\u001b[0;34m\u001b[0m\u001b[0m\n\u001b[1;32m      2\u001b[0m \u001b[0mt_matrix\u001b[0m\u001b[0;34m=\u001b[0m\u001b[0mtfidf_vectorizer\u001b[0m\u001b[0;34m.\u001b[0m\u001b[0mtransform\u001b[0m\u001b[0;34m(\u001b[0m\u001b[0mword_tokenize\u001b[0m\u001b[0;34m(\u001b[0m\u001b[0mt\u001b[0m\u001b[0;34m)\u001b[0m\u001b[0;34m)\u001b[0m\u001b[0;34m\u001b[0m\u001b[0;34m\u001b[0m\u001b[0m\n\u001b[0;32m----> 3\u001b[0;31m \u001b[0mprint\u001b[0m\u001b[0;34m(\u001b[0m\u001b[0mmod5\u001b[0m\u001b[0;34m.\u001b[0m\u001b[0mpredict\u001b[0m\u001b[0;34m(\u001b[0m\u001b[0mt_matrix\u001b[0m\u001b[0;34m)\u001b[0m\u001b[0;34m)\u001b[0m\u001b[0;34m\u001b[0m\u001b[0;34m\u001b[0m\u001b[0m\n\u001b[0m\u001b[1;32m      4\u001b[0m \u001b[0;32mif\u001b[0m \u001b[0mmod5\u001b[0m\u001b[0;34m.\u001b[0m\u001b[0mpredict\u001b[0m\u001b[0;34m(\u001b[0m\u001b[0mt_matrix\u001b[0m\u001b[0;34m)\u001b[0m\u001b[0;34m.\u001b[0m\u001b[0mmean\u001b[0m\u001b[0;34m(\u001b[0m\u001b[0;34m)\u001b[0m\u001b[0;34m>\u001b[0m \u001b[0;36m0\u001b[0m\u001b[0;34m:\u001b[0m\u001b[0;34m\u001b[0m\u001b[0;34m\u001b[0m\u001b[0m\n\u001b[1;32m      5\u001b[0m   \u001b[0mprint\u001b[0m\u001b[0;34m(\u001b[0m\u001b[0;36m1\u001b[0m\u001b[0;34m)\u001b[0m\u001b[0;34m\u001b[0m\u001b[0;34m\u001b[0m\u001b[0m\n",
      "\u001b[0;31mNameError\u001b[0m: name 'mod5' is not defined"
     ]
    }
   ],
   "source": [
    "t=transform(df['text'][600])\n",
    "t_matrix=tfidf_vectorizer.transform(word_tokenize(t))\n",
    "print(mod5.predict(t_matrix))\n",
    "if mod5.predict(t_matrix).mean()> 0:\n",
    "  print(1)\n",
    "elif mod5.predict(t_matrix).mean()== 0:\n",
    "  print(0)\n",
    "else:\n",
    "  print(-1)"
   ]
  },
  {
   "cell_type": "code",
   "execution_count": null,
   "id": "9YE2_unb_EDB",
   "metadata": {
    "id": "9YE2_unb_EDB"
   },
   "outputs": [],
   "source": [
    "file_name1=open(\"tfidf.pkl\",\"wb\")\n",
    "pickle.dump(tfidf_vectorizer,file_name1)"
   ]
  },
  {
   "cell_type": "code",
   "execution_count": null,
   "id": "040d6d5d",
   "metadata": {
    "id": "040d6d5d"
   },
   "outputs": [],
   "source": [
    "import pickle \n",
    "file_name=open(\"model.pkl\",\"wb\")\n",
    "pickle.dump(mod5,file_name)"
   ]
  }
 ],
 "metadata": {
  "colab": {
   "collapsed_sections": [],
   "provenance": []
  },
  "kernelspec": {
   "display_name": "Python 3 (ipykernel)",
   "language": "python",
   "name": "python3"
  },
  "language_info": {
   "codemirror_mode": {
    "name": "ipython",
    "version": 3
   },
   "file_extension": ".py",
   "mimetype": "text/x-python",
   "name": "python",
   "nbconvert_exporter": "python",
   "pygments_lexer": "ipython3",
   "version": "3.9.10"
  }
 },
 "nbformat": 4,
 "nbformat_minor": 5
}
