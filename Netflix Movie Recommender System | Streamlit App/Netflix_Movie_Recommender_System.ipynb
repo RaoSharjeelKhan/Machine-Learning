{
  "cells": [
    {
      "cell_type": "code",
      "execution_count": 121,
      "id": "1a139b20",
      "metadata": {
        "colab": {
          "base_uri": "https://localhost:8080/"
        },
        "id": "1a139b20",
        "outputId": "3a9ad872-d010-4607-bd86-48d2ddd5467e"
      },
      "outputs": [
        {
          "output_type": "stream",
          "name": "stderr",
          "text": [
            "[nltk_data] Downloading package punkt to /root/nltk_data...\n",
            "[nltk_data]   Package punkt is already up-to-date!\n"
          ]
        }
      ],
      "source": [
        "import pandas as pd\n",
        "import numpy as np\n",
        "import nltk\n",
        "from nltk.tokenize import word_tokenize\n",
        "nltk.download('punkt')\n",
        "import string\n",
        "from gensim.parsing.preprocessing import remove_stopwords\n",
        "from nltk.stem.porter import PorterStemmer\n",
        "from sklearn.feature_extraction.text import TfidfVectorizer\n",
        "from sklearn.metrics.pairwise import cosine_similarity\n",
        "import difflib"
      ]
    },
    {
      "cell_type": "code",
      "execution_count": 122,
      "id": "a674e1b6",
      "metadata": {
        "colab": {
          "base_uri": "https://localhost:8080/",
          "height": 424
        },
        "id": "a674e1b6",
        "outputId": "8fc93f46-9b5e-48dd-ebe4-f3960609638d"
      },
      "outputs": [
        {
          "output_type": "execute_result",
          "data": {
            "text/plain": [
              "    show_id     type                                    title  \\\n",
              "0  81145628    Movie  Norm of the North: King Sized Adventure   \n",
              "1  80117401    Movie               Jandino: Whatever it Takes   \n",
              "2  70234439  TV Show                       Transformers Prime   \n",
              "3  80058654  TV Show         Transformers: Robots in Disguise   \n",
              "4  80125979    Movie                             #realityhigh   \n",
              "\n",
              "                   director  \\\n",
              "0  Richard Finn, Tim Maltby   \n",
              "1                       NaN   \n",
              "2                       NaN   \n",
              "3                       NaN   \n",
              "4          Fernando Lebrija   \n",
              "\n",
              "                                                cast  \\\n",
              "0  Alan Marriott, Andrew Toth, Brian Dobson, Cole...   \n",
              "1                                   Jandino Asporaat   \n",
              "2  Peter Cullen, Sumalee Montano, Frank Welker, J...   \n",
              "3  Will Friedle, Darren Criss, Constance Zimmer, ...   \n",
              "4  Nesta Cooper, Kate Walsh, John Michael Higgins...   \n",
              "\n",
              "                                    country         date_added  release_year  \\\n",
              "0  United States, India, South Korea, China  September 9, 2019          2019   \n",
              "1                            United Kingdom  September 9, 2016          2016   \n",
              "2                             United States  September 8, 2018          2013   \n",
              "3                             United States  September 8, 2018          2016   \n",
              "4                             United States  September 8, 2017          2017   \n",
              "\n",
              "     rating  duration                           listed_in  \\\n",
              "0     TV-PG    90 min  Children & Family Movies, Comedies   \n",
              "1     TV-MA    94 min                     Stand-Up Comedy   \n",
              "2  TV-Y7-FV  1 Season                            Kids' TV   \n",
              "3     TV-Y7  1 Season                            Kids' TV   \n",
              "4     TV-14    99 min                            Comedies   \n",
              "\n",
              "                                         description  \n",
              "0  Before planning an awesome wedding for his gra...  \n",
              "1  Jandino Asporaat riffs on the challenges of ra...  \n",
              "2  With the help of three human allies, the Autob...  \n",
              "3  When a prison ship crash unleashes hundreds of...  \n",
              "4  When nerdy high schooler Dani finally attracts...  "
            ],
            "text/html": [
              "\n",
              "  <div id=\"df-ad521c24-c381-4565-a792-544640825c26\">\n",
              "    <div class=\"colab-df-container\">\n",
              "      <div>\n",
              "<style scoped>\n",
              "    .dataframe tbody tr th:only-of-type {\n",
              "        vertical-align: middle;\n",
              "    }\n",
              "\n",
              "    .dataframe tbody tr th {\n",
              "        vertical-align: top;\n",
              "    }\n",
              "\n",
              "    .dataframe thead th {\n",
              "        text-align: right;\n",
              "    }\n",
              "</style>\n",
              "<table border=\"1\" class=\"dataframe\">\n",
              "  <thead>\n",
              "    <tr style=\"text-align: right;\">\n",
              "      <th></th>\n",
              "      <th>show_id</th>\n",
              "      <th>type</th>\n",
              "      <th>title</th>\n",
              "      <th>director</th>\n",
              "      <th>cast</th>\n",
              "      <th>country</th>\n",
              "      <th>date_added</th>\n",
              "      <th>release_year</th>\n",
              "      <th>rating</th>\n",
              "      <th>duration</th>\n",
              "      <th>listed_in</th>\n",
              "      <th>description</th>\n",
              "    </tr>\n",
              "  </thead>\n",
              "  <tbody>\n",
              "    <tr>\n",
              "      <th>0</th>\n",
              "      <td>81145628</td>\n",
              "      <td>Movie</td>\n",
              "      <td>Norm of the North: King Sized Adventure</td>\n",
              "      <td>Richard Finn, Tim Maltby</td>\n",
              "      <td>Alan Marriott, Andrew Toth, Brian Dobson, Cole...</td>\n",
              "      <td>United States, India, South Korea, China</td>\n",
              "      <td>September 9, 2019</td>\n",
              "      <td>2019</td>\n",
              "      <td>TV-PG</td>\n",
              "      <td>90 min</td>\n",
              "      <td>Children &amp; Family Movies, Comedies</td>\n",
              "      <td>Before planning an awesome wedding for his gra...</td>\n",
              "    </tr>\n",
              "    <tr>\n",
              "      <th>1</th>\n",
              "      <td>80117401</td>\n",
              "      <td>Movie</td>\n",
              "      <td>Jandino: Whatever it Takes</td>\n",
              "      <td>NaN</td>\n",
              "      <td>Jandino Asporaat</td>\n",
              "      <td>United Kingdom</td>\n",
              "      <td>September 9, 2016</td>\n",
              "      <td>2016</td>\n",
              "      <td>TV-MA</td>\n",
              "      <td>94 min</td>\n",
              "      <td>Stand-Up Comedy</td>\n",
              "      <td>Jandino Asporaat riffs on the challenges of ra...</td>\n",
              "    </tr>\n",
              "    <tr>\n",
              "      <th>2</th>\n",
              "      <td>70234439</td>\n",
              "      <td>TV Show</td>\n",
              "      <td>Transformers Prime</td>\n",
              "      <td>NaN</td>\n",
              "      <td>Peter Cullen, Sumalee Montano, Frank Welker, J...</td>\n",
              "      <td>United States</td>\n",
              "      <td>September 8, 2018</td>\n",
              "      <td>2013</td>\n",
              "      <td>TV-Y7-FV</td>\n",
              "      <td>1 Season</td>\n",
              "      <td>Kids' TV</td>\n",
              "      <td>With the help of three human allies, the Autob...</td>\n",
              "    </tr>\n",
              "    <tr>\n",
              "      <th>3</th>\n",
              "      <td>80058654</td>\n",
              "      <td>TV Show</td>\n",
              "      <td>Transformers: Robots in Disguise</td>\n",
              "      <td>NaN</td>\n",
              "      <td>Will Friedle, Darren Criss, Constance Zimmer, ...</td>\n",
              "      <td>United States</td>\n",
              "      <td>September 8, 2018</td>\n",
              "      <td>2016</td>\n",
              "      <td>TV-Y7</td>\n",
              "      <td>1 Season</td>\n",
              "      <td>Kids' TV</td>\n",
              "      <td>When a prison ship crash unleashes hundreds of...</td>\n",
              "    </tr>\n",
              "    <tr>\n",
              "      <th>4</th>\n",
              "      <td>80125979</td>\n",
              "      <td>Movie</td>\n",
              "      <td>#realityhigh</td>\n",
              "      <td>Fernando Lebrija</td>\n",
              "      <td>Nesta Cooper, Kate Walsh, John Michael Higgins...</td>\n",
              "      <td>United States</td>\n",
              "      <td>September 8, 2017</td>\n",
              "      <td>2017</td>\n",
              "      <td>TV-14</td>\n",
              "      <td>99 min</td>\n",
              "      <td>Comedies</td>\n",
              "      <td>When nerdy high schooler Dani finally attracts...</td>\n",
              "    </tr>\n",
              "  </tbody>\n",
              "</table>\n",
              "</div>\n",
              "      <button class=\"colab-df-convert\" onclick=\"convertToInteractive('df-ad521c24-c381-4565-a792-544640825c26')\"\n",
              "              title=\"Convert this dataframe to an interactive table.\"\n",
              "              style=\"display:none;\">\n",
              "        \n",
              "  <svg xmlns=\"http://www.w3.org/2000/svg\" height=\"24px\"viewBox=\"0 0 24 24\"\n",
              "       width=\"24px\">\n",
              "    <path d=\"M0 0h24v24H0V0z\" fill=\"none\"/>\n",
              "    <path d=\"M18.56 5.44l.94 2.06.94-2.06 2.06-.94-2.06-.94-.94-2.06-.94 2.06-2.06.94zm-11 1L8.5 8.5l.94-2.06 2.06-.94-2.06-.94L8.5 2.5l-.94 2.06-2.06.94zm10 10l.94 2.06.94-2.06 2.06-.94-2.06-.94-.94-2.06-.94 2.06-2.06.94z\"/><path d=\"M17.41 7.96l-1.37-1.37c-.4-.4-.92-.59-1.43-.59-.52 0-1.04.2-1.43.59L10.3 9.45l-7.72 7.72c-.78.78-.78 2.05 0 2.83L4 21.41c.39.39.9.59 1.41.59.51 0 1.02-.2 1.41-.59l7.78-7.78 2.81-2.81c.8-.78.8-2.07 0-2.86zM5.41 20L4 18.59l7.72-7.72 1.47 1.35L5.41 20z\"/>\n",
              "  </svg>\n",
              "      </button>\n",
              "      \n",
              "  <style>\n",
              "    .colab-df-container {\n",
              "      display:flex;\n",
              "      flex-wrap:wrap;\n",
              "      gap: 12px;\n",
              "    }\n",
              "\n",
              "    .colab-df-convert {\n",
              "      background-color: #E8F0FE;\n",
              "      border: none;\n",
              "      border-radius: 50%;\n",
              "      cursor: pointer;\n",
              "      display: none;\n",
              "      fill: #1967D2;\n",
              "      height: 32px;\n",
              "      padding: 0 0 0 0;\n",
              "      width: 32px;\n",
              "    }\n",
              "\n",
              "    .colab-df-convert:hover {\n",
              "      background-color: #E2EBFA;\n",
              "      box-shadow: 0px 1px 2px rgba(60, 64, 67, 0.3), 0px 1px 3px 1px rgba(60, 64, 67, 0.15);\n",
              "      fill: #174EA6;\n",
              "    }\n",
              "\n",
              "    [theme=dark] .colab-df-convert {\n",
              "      background-color: #3B4455;\n",
              "      fill: #D2E3FC;\n",
              "    }\n",
              "\n",
              "    [theme=dark] .colab-df-convert:hover {\n",
              "      background-color: #434B5C;\n",
              "      box-shadow: 0px 1px 3px 1px rgba(0, 0, 0, 0.15);\n",
              "      filter: drop-shadow(0px 1px 2px rgba(0, 0, 0, 0.3));\n",
              "      fill: #FFFFFF;\n",
              "    }\n",
              "  </style>\n",
              "\n",
              "      <script>\n",
              "        const buttonEl =\n",
              "          document.querySelector('#df-ad521c24-c381-4565-a792-544640825c26 button.colab-df-convert');\n",
              "        buttonEl.style.display =\n",
              "          google.colab.kernel.accessAllowed ? 'block' : 'none';\n",
              "\n",
              "        async function convertToInteractive(key) {\n",
              "          const element = document.querySelector('#df-ad521c24-c381-4565-a792-544640825c26');\n",
              "          const dataTable =\n",
              "            await google.colab.kernel.invokeFunction('convertToInteractive',\n",
              "                                                     [key], {});\n",
              "          if (!dataTable) return;\n",
              "\n",
              "          const docLinkHtml = 'Like what you see? Visit the ' +\n",
              "            '<a target=\"_blank\" href=https://colab.research.google.com/notebooks/data_table.ipynb>data table notebook</a>'\n",
              "            + ' to learn more about interactive tables.';\n",
              "          element.innerHTML = '';\n",
              "          dataTable['output_type'] = 'display_data';\n",
              "          await google.colab.output.renderOutput(dataTable, element);\n",
              "          const docLink = document.createElement('div');\n",
              "          docLink.innerHTML = docLinkHtml;\n",
              "          element.appendChild(docLink);\n",
              "        }\n",
              "      </script>\n",
              "    </div>\n",
              "  </div>\n",
              "  "
            ]
          },
          "metadata": {},
          "execution_count": 122
        }
      ],
      "source": [
        "raw_df=pd.read_csv('netflix_titles.csv')\n",
        "raw_df.head()"
      ]
    },
    {
      "cell_type": "code",
      "execution_count": 123,
      "id": "4bd85b86",
      "metadata": {
        "colab": {
          "base_uri": "https://localhost:8080/",
          "height": 337
        },
        "id": "4bd85b86",
        "outputId": "c2ab3f44-6959-426c-e9bc-24f61ff4fca0"
      },
      "outputs": [
        {
          "output_type": "execute_result",
          "data": {
            "text/plain": [
              "                                     title                  director  \\\n",
              "0  Norm of the North: King Sized Adventure  Richard Finn, Tim Maltby   \n",
              "1               Jandino: Whatever it Takes                       NaN   \n",
              "2                       Transformers Prime                       NaN   \n",
              "3         Transformers: Robots in Disguise                       NaN   \n",
              "4                             #realityhigh          Fernando Lebrija   \n",
              "\n",
              "                                                cast  \\\n",
              "0  Alan Marriott, Andrew Toth, Brian Dobson, Cole...   \n",
              "1                                   Jandino Asporaat   \n",
              "2  Peter Cullen, Sumalee Montano, Frank Welker, J...   \n",
              "3  Will Friedle, Darren Criss, Constance Zimmer, ...   \n",
              "4  Nesta Cooper, Kate Walsh, John Michael Higgins...   \n",
              "\n",
              "                            listed_in  \\\n",
              "0  Children & Family Movies, Comedies   \n",
              "1                     Stand-Up Comedy   \n",
              "2                            Kids' TV   \n",
              "3                            Kids' TV   \n",
              "4                            Comedies   \n",
              "\n",
              "                                         description  \n",
              "0  Before planning an awesome wedding for his gra...  \n",
              "1  Jandino Asporaat riffs on the challenges of ra...  \n",
              "2  With the help of three human allies, the Autob...  \n",
              "3  When a prison ship crash unleashes hundreds of...  \n",
              "4  When nerdy high schooler Dani finally attracts...  "
            ],
            "text/html": [
              "\n",
              "  <div id=\"df-c6ff4de8-089e-4516-9eba-9760a08ac5db\">\n",
              "    <div class=\"colab-df-container\">\n",
              "      <div>\n",
              "<style scoped>\n",
              "    .dataframe tbody tr th:only-of-type {\n",
              "        vertical-align: middle;\n",
              "    }\n",
              "\n",
              "    .dataframe tbody tr th {\n",
              "        vertical-align: top;\n",
              "    }\n",
              "\n",
              "    .dataframe thead th {\n",
              "        text-align: right;\n",
              "    }\n",
              "</style>\n",
              "<table border=\"1\" class=\"dataframe\">\n",
              "  <thead>\n",
              "    <tr style=\"text-align: right;\">\n",
              "      <th></th>\n",
              "      <th>title</th>\n",
              "      <th>director</th>\n",
              "      <th>cast</th>\n",
              "      <th>listed_in</th>\n",
              "      <th>description</th>\n",
              "    </tr>\n",
              "  </thead>\n",
              "  <tbody>\n",
              "    <tr>\n",
              "      <th>0</th>\n",
              "      <td>Norm of the North: King Sized Adventure</td>\n",
              "      <td>Richard Finn, Tim Maltby</td>\n",
              "      <td>Alan Marriott, Andrew Toth, Brian Dobson, Cole...</td>\n",
              "      <td>Children &amp; Family Movies, Comedies</td>\n",
              "      <td>Before planning an awesome wedding for his gra...</td>\n",
              "    </tr>\n",
              "    <tr>\n",
              "      <th>1</th>\n",
              "      <td>Jandino: Whatever it Takes</td>\n",
              "      <td>NaN</td>\n",
              "      <td>Jandino Asporaat</td>\n",
              "      <td>Stand-Up Comedy</td>\n",
              "      <td>Jandino Asporaat riffs on the challenges of ra...</td>\n",
              "    </tr>\n",
              "    <tr>\n",
              "      <th>2</th>\n",
              "      <td>Transformers Prime</td>\n",
              "      <td>NaN</td>\n",
              "      <td>Peter Cullen, Sumalee Montano, Frank Welker, J...</td>\n",
              "      <td>Kids' TV</td>\n",
              "      <td>With the help of three human allies, the Autob...</td>\n",
              "    </tr>\n",
              "    <tr>\n",
              "      <th>3</th>\n",
              "      <td>Transformers: Robots in Disguise</td>\n",
              "      <td>NaN</td>\n",
              "      <td>Will Friedle, Darren Criss, Constance Zimmer, ...</td>\n",
              "      <td>Kids' TV</td>\n",
              "      <td>When a prison ship crash unleashes hundreds of...</td>\n",
              "    </tr>\n",
              "    <tr>\n",
              "      <th>4</th>\n",
              "      <td>#realityhigh</td>\n",
              "      <td>Fernando Lebrija</td>\n",
              "      <td>Nesta Cooper, Kate Walsh, John Michael Higgins...</td>\n",
              "      <td>Comedies</td>\n",
              "      <td>When nerdy high schooler Dani finally attracts...</td>\n",
              "    </tr>\n",
              "  </tbody>\n",
              "</table>\n",
              "</div>\n",
              "      <button class=\"colab-df-convert\" onclick=\"convertToInteractive('df-c6ff4de8-089e-4516-9eba-9760a08ac5db')\"\n",
              "              title=\"Convert this dataframe to an interactive table.\"\n",
              "              style=\"display:none;\">\n",
              "        \n",
              "  <svg xmlns=\"http://www.w3.org/2000/svg\" height=\"24px\"viewBox=\"0 0 24 24\"\n",
              "       width=\"24px\">\n",
              "    <path d=\"M0 0h24v24H0V0z\" fill=\"none\"/>\n",
              "    <path d=\"M18.56 5.44l.94 2.06.94-2.06 2.06-.94-2.06-.94-.94-2.06-.94 2.06-2.06.94zm-11 1L8.5 8.5l.94-2.06 2.06-.94-2.06-.94L8.5 2.5l-.94 2.06-2.06.94zm10 10l.94 2.06.94-2.06 2.06-.94-2.06-.94-.94-2.06-.94 2.06-2.06.94z\"/><path d=\"M17.41 7.96l-1.37-1.37c-.4-.4-.92-.59-1.43-.59-.52 0-1.04.2-1.43.59L10.3 9.45l-7.72 7.72c-.78.78-.78 2.05 0 2.83L4 21.41c.39.39.9.59 1.41.59.51 0 1.02-.2 1.41-.59l7.78-7.78 2.81-2.81c.8-.78.8-2.07 0-2.86zM5.41 20L4 18.59l7.72-7.72 1.47 1.35L5.41 20z\"/>\n",
              "  </svg>\n",
              "      </button>\n",
              "      \n",
              "  <style>\n",
              "    .colab-df-container {\n",
              "      display:flex;\n",
              "      flex-wrap:wrap;\n",
              "      gap: 12px;\n",
              "    }\n",
              "\n",
              "    .colab-df-convert {\n",
              "      background-color: #E8F0FE;\n",
              "      border: none;\n",
              "      border-radius: 50%;\n",
              "      cursor: pointer;\n",
              "      display: none;\n",
              "      fill: #1967D2;\n",
              "      height: 32px;\n",
              "      padding: 0 0 0 0;\n",
              "      width: 32px;\n",
              "    }\n",
              "\n",
              "    .colab-df-convert:hover {\n",
              "      background-color: #E2EBFA;\n",
              "      box-shadow: 0px 1px 2px rgba(60, 64, 67, 0.3), 0px 1px 3px 1px rgba(60, 64, 67, 0.15);\n",
              "      fill: #174EA6;\n",
              "    }\n",
              "\n",
              "    [theme=dark] .colab-df-convert {\n",
              "      background-color: #3B4455;\n",
              "      fill: #D2E3FC;\n",
              "    }\n",
              "\n",
              "    [theme=dark] .colab-df-convert:hover {\n",
              "      background-color: #434B5C;\n",
              "      box-shadow: 0px 1px 3px 1px rgba(0, 0, 0, 0.15);\n",
              "      filter: drop-shadow(0px 1px 2px rgba(0, 0, 0, 0.3));\n",
              "      fill: #FFFFFF;\n",
              "    }\n",
              "  </style>\n",
              "\n",
              "      <script>\n",
              "        const buttonEl =\n",
              "          document.querySelector('#df-c6ff4de8-089e-4516-9eba-9760a08ac5db button.colab-df-convert');\n",
              "        buttonEl.style.display =\n",
              "          google.colab.kernel.accessAllowed ? 'block' : 'none';\n",
              "\n",
              "        async function convertToInteractive(key) {\n",
              "          const element = document.querySelector('#df-c6ff4de8-089e-4516-9eba-9760a08ac5db');\n",
              "          const dataTable =\n",
              "            await google.colab.kernel.invokeFunction('convertToInteractive',\n",
              "                                                     [key], {});\n",
              "          if (!dataTable) return;\n",
              "\n",
              "          const docLinkHtml = 'Like what you see? Visit the ' +\n",
              "            '<a target=\"_blank\" href=https://colab.research.google.com/notebooks/data_table.ipynb>data table notebook</a>'\n",
              "            + ' to learn more about interactive tables.';\n",
              "          element.innerHTML = '';\n",
              "          dataTable['output_type'] = 'display_data';\n",
              "          await google.colab.output.renderOutput(dataTable, element);\n",
              "          const docLink = document.createElement('div');\n",
              "          docLink.innerHTML = docLinkHtml;\n",
              "          element.appendChild(docLink);\n",
              "        }\n",
              "      </script>\n",
              "    </div>\n",
              "  </div>\n",
              "  "
            ]
          },
          "metadata": {},
          "execution_count": 123
        }
      ],
      "source": [
        "df=raw_df.copy()\n",
        "df=df.drop(['show_id','type','country','date_added','rating','release_year','duration'], axis=1)\n",
        "df.head()"
      ]
    },
    {
      "cell_type": "code",
      "source": [
        "print('Shape of the Dataframe is ',df.shape)"
      ],
      "metadata": {
        "colab": {
          "base_uri": "https://localhost:8080/"
        },
        "id": "-RnsSpJHM4dv",
        "outputId": "8980ebc2-6955-498a-b882-631ede13a496"
      },
      "id": "-RnsSpJHM4dv",
      "execution_count": 124,
      "outputs": [
        {
          "output_type": "stream",
          "name": "stdout",
          "text": [
            "Shape of the Dataframe is  (6234, 5)\n"
          ]
        }
      ]
    },
    {
      "cell_type": "code",
      "execution_count": 125,
      "id": "c305e4ad",
      "metadata": {
        "id": "c305e4ad",
        "outputId": "6f09f31e-595f-44f7-8da5-f92be0aaed68",
        "colab": {
          "base_uri": "https://localhost:8080/",
          "height": 35
        }
      },
      "outputs": [
        {
          "output_type": "execute_result",
          "data": {
            "text/plain": [
              "'Before planning an awesome wedding for his grandfather, a polar bear king must take back a stolen artifact from an evil archaeologist first.'"
            ],
            "application/vnd.google.colaboratory.intrinsic+json": {
              "type": "string"
            }
          },
          "metadata": {},
          "execution_count": 125
        }
      ],
      "source": [
        "# Checking the Description to check its content and how to deal with it.\n",
        "df['description'][0]"
      ]
    },
    {
      "cell_type": "code",
      "execution_count": 126,
      "id": "3eb05551",
      "metadata": {
        "id": "3eb05551",
        "outputId": "97a9ac5a-4300-49d4-fe6c-a5dac336d973",
        "colab": {
          "base_uri": "https://localhost:8080/"
        }
      },
      "outputs": [
        {
          "output_type": "execute_result",
          "data": {
            "text/plain": [
              "0    plan awesom wed grandfath polar bear king stol...\n",
              "1    jandino asporaat riff challeng rais kid serena...\n",
              "2    help human alli autobot protect earth onslaugh...\n",
              "3    prison ship crash unleash hundr decepticon ear...\n",
              "4    nerdi high schooler dani final attract longtim...\n",
              "Name: description, dtype: object"
            ]
          },
          "metadata": {},
          "execution_count": 126
        }
      ],
      "source": [
        "#Defining the Function  to transform the text in the description Column\n",
        "def transform(text):\n",
        "  text=text.lower()\n",
        "  text = text.translate(str.maketrans('', '', string.punctuation))\n",
        "  text = remove_stopwords(text)\n",
        "  text=word_tokenize(text)\n",
        "  ps = PorterStemmer()\n",
        "  new=[]\n",
        "  for ele in range(len(text)):\n",
        "    new.append(ps.stem(text[ele]))\n",
        "  text=new\n",
        "  text=\" \".join(text)\n",
        "  return text\n",
        "\n",
        "#Applying the Function on the description Column\n",
        "df['description']=df['description'].apply(lambda x: transform(x))\n",
        "df['description'].head()"
      ]
    },
    {
      "cell_type": "code",
      "source": [
        "#Checking for the missing values in the Dataframe\n",
        "df.isna().sum()"
      ],
      "metadata": {
        "colab": {
          "base_uri": "https://localhost:8080/"
        },
        "id": "S1j2YS1hMrQm",
        "outputId": "446b7332-0848-454b-db9d-8b381f81bf25"
      },
      "id": "S1j2YS1hMrQm",
      "execution_count": 127,
      "outputs": [
        {
          "output_type": "execute_result",
          "data": {
            "text/plain": [
              "title             0\n",
              "director       1969\n",
              "cast            570\n",
              "listed_in         0\n",
              "description       0\n",
              "dtype: int64"
            ]
          },
          "metadata": {},
          "execution_count": 127
        }
      ]
    },
    {
      "cell_type": "code",
      "execution_count": 128,
      "id": "068e260a",
      "metadata": {
        "id": "068e260a",
        "outputId": "df9148f1-2044-45da-8741-28c82154ea15",
        "colab": {
          "base_uri": "https://localhost:8080/"
        }
      },
      "outputs": [
        {
          "output_type": "execute_result",
          "data": {
            "text/plain": [
              "title          0\n",
              "director       0\n",
              "cast           0\n",
              "listed_in      0\n",
              "description    0\n",
              "dtype: int64"
            ]
          },
          "metadata": {},
          "execution_count": 128
        }
      ],
      "source": [
        "#Replacing the NaN values with the empty text.\n",
        "df = df.fillna('')\n",
        "df.isnull().sum()"
      ]
    },
    {
      "cell_type": "code",
      "execution_count": 129,
      "id": "afea5e97",
      "metadata": {
        "id": "afea5e97",
        "outputId": "dd01c599-b0d0-4826-f95d-d1d78064fb5f",
        "colab": {
          "base_uri": "https://localhost:8080/",
          "height": 337
        }
      },
      "outputs": [
        {
          "output_type": "execute_result",
          "data": {
            "text/plain": [
              "                                     title                  director  \\\n",
              "0  Norm of the North: King Sized Adventure  Richard Finn, Tim Maltby   \n",
              "1               Jandino: Whatever it Takes                             \n",
              "2                       Transformers Prime                             \n",
              "3         Transformers: Robots in Disguise                             \n",
              "4                             #realityhigh          Fernando Lebrija   \n",
              "\n",
              "                                                cast  \\\n",
              "0  Alan Marriott, Andrew Toth, Brian Dobson, Cole...   \n",
              "1                                   Jandino Asporaat   \n",
              "2  Peter Cullen, Sumalee Montano, Frank Welker, J...   \n",
              "3  Will Friedle, Darren Criss, Constance Zimmer, ...   \n",
              "4  Nesta Cooper, Kate Walsh, John Michael Higgins...   \n",
              "\n",
              "                            listed_in  \\\n",
              "0  Children & Family Movies, Comedies   \n",
              "1                     Stand-Up Comedy   \n",
              "2                            Kids' TV   \n",
              "3                            Kids' TV   \n",
              "4                            Comedies   \n",
              "\n",
              "                                         description  \n",
              "0  plan awesom wed grandfath polar bear king stol...  \n",
              "1  jandino asporaat riff challeng rais kid serena...  \n",
              "2  help human alli autobot protect earth onslaugh...  \n",
              "3  prison ship crash unleash hundr decepticon ear...  \n",
              "4  nerdi high schooler dani final attract longtim...  "
            ],
            "text/html": [
              "\n",
              "  <div id=\"df-c74145c8-1ed9-4a3f-ac5f-1ecac7739c48\">\n",
              "    <div class=\"colab-df-container\">\n",
              "      <div>\n",
              "<style scoped>\n",
              "    .dataframe tbody tr th:only-of-type {\n",
              "        vertical-align: middle;\n",
              "    }\n",
              "\n",
              "    .dataframe tbody tr th {\n",
              "        vertical-align: top;\n",
              "    }\n",
              "\n",
              "    .dataframe thead th {\n",
              "        text-align: right;\n",
              "    }\n",
              "</style>\n",
              "<table border=\"1\" class=\"dataframe\">\n",
              "  <thead>\n",
              "    <tr style=\"text-align: right;\">\n",
              "      <th></th>\n",
              "      <th>title</th>\n",
              "      <th>director</th>\n",
              "      <th>cast</th>\n",
              "      <th>listed_in</th>\n",
              "      <th>description</th>\n",
              "    </tr>\n",
              "  </thead>\n",
              "  <tbody>\n",
              "    <tr>\n",
              "      <th>0</th>\n",
              "      <td>Norm of the North: King Sized Adventure</td>\n",
              "      <td>Richard Finn, Tim Maltby</td>\n",
              "      <td>Alan Marriott, Andrew Toth, Brian Dobson, Cole...</td>\n",
              "      <td>Children &amp; Family Movies, Comedies</td>\n",
              "      <td>plan awesom wed grandfath polar bear king stol...</td>\n",
              "    </tr>\n",
              "    <tr>\n",
              "      <th>1</th>\n",
              "      <td>Jandino: Whatever it Takes</td>\n",
              "      <td></td>\n",
              "      <td>Jandino Asporaat</td>\n",
              "      <td>Stand-Up Comedy</td>\n",
              "      <td>jandino asporaat riff challeng rais kid serena...</td>\n",
              "    </tr>\n",
              "    <tr>\n",
              "      <th>2</th>\n",
              "      <td>Transformers Prime</td>\n",
              "      <td></td>\n",
              "      <td>Peter Cullen, Sumalee Montano, Frank Welker, J...</td>\n",
              "      <td>Kids' TV</td>\n",
              "      <td>help human alli autobot protect earth onslaugh...</td>\n",
              "    </tr>\n",
              "    <tr>\n",
              "      <th>3</th>\n",
              "      <td>Transformers: Robots in Disguise</td>\n",
              "      <td></td>\n",
              "      <td>Will Friedle, Darren Criss, Constance Zimmer, ...</td>\n",
              "      <td>Kids' TV</td>\n",
              "      <td>prison ship crash unleash hundr decepticon ear...</td>\n",
              "    </tr>\n",
              "    <tr>\n",
              "      <th>4</th>\n",
              "      <td>#realityhigh</td>\n",
              "      <td>Fernando Lebrija</td>\n",
              "      <td>Nesta Cooper, Kate Walsh, John Michael Higgins...</td>\n",
              "      <td>Comedies</td>\n",
              "      <td>nerdi high schooler dani final attract longtim...</td>\n",
              "    </tr>\n",
              "  </tbody>\n",
              "</table>\n",
              "</div>\n",
              "      <button class=\"colab-df-convert\" onclick=\"convertToInteractive('df-c74145c8-1ed9-4a3f-ac5f-1ecac7739c48')\"\n",
              "              title=\"Convert this dataframe to an interactive table.\"\n",
              "              style=\"display:none;\">\n",
              "        \n",
              "  <svg xmlns=\"http://www.w3.org/2000/svg\" height=\"24px\"viewBox=\"0 0 24 24\"\n",
              "       width=\"24px\">\n",
              "    <path d=\"M0 0h24v24H0V0z\" fill=\"none\"/>\n",
              "    <path d=\"M18.56 5.44l.94 2.06.94-2.06 2.06-.94-2.06-.94-.94-2.06-.94 2.06-2.06.94zm-11 1L8.5 8.5l.94-2.06 2.06-.94-2.06-.94L8.5 2.5l-.94 2.06-2.06.94zm10 10l.94 2.06.94-2.06 2.06-.94-2.06-.94-.94-2.06-.94 2.06-2.06.94z\"/><path d=\"M17.41 7.96l-1.37-1.37c-.4-.4-.92-.59-1.43-.59-.52 0-1.04.2-1.43.59L10.3 9.45l-7.72 7.72c-.78.78-.78 2.05 0 2.83L4 21.41c.39.39.9.59 1.41.59.51 0 1.02-.2 1.41-.59l7.78-7.78 2.81-2.81c.8-.78.8-2.07 0-2.86zM5.41 20L4 18.59l7.72-7.72 1.47 1.35L5.41 20z\"/>\n",
              "  </svg>\n",
              "      </button>\n",
              "      \n",
              "  <style>\n",
              "    .colab-df-container {\n",
              "      display:flex;\n",
              "      flex-wrap:wrap;\n",
              "      gap: 12px;\n",
              "    }\n",
              "\n",
              "    .colab-df-convert {\n",
              "      background-color: #E8F0FE;\n",
              "      border: none;\n",
              "      border-radius: 50%;\n",
              "      cursor: pointer;\n",
              "      display: none;\n",
              "      fill: #1967D2;\n",
              "      height: 32px;\n",
              "      padding: 0 0 0 0;\n",
              "      width: 32px;\n",
              "    }\n",
              "\n",
              "    .colab-df-convert:hover {\n",
              "      background-color: #E2EBFA;\n",
              "      box-shadow: 0px 1px 2px rgba(60, 64, 67, 0.3), 0px 1px 3px 1px rgba(60, 64, 67, 0.15);\n",
              "      fill: #174EA6;\n",
              "    }\n",
              "\n",
              "    [theme=dark] .colab-df-convert {\n",
              "      background-color: #3B4455;\n",
              "      fill: #D2E3FC;\n",
              "    }\n",
              "\n",
              "    [theme=dark] .colab-df-convert:hover {\n",
              "      background-color: #434B5C;\n",
              "      box-shadow: 0px 1px 3px 1px rgba(0, 0, 0, 0.15);\n",
              "      filter: drop-shadow(0px 1px 2px rgba(0, 0, 0, 0.3));\n",
              "      fill: #FFFFFF;\n",
              "    }\n",
              "  </style>\n",
              "\n",
              "      <script>\n",
              "        const buttonEl =\n",
              "          document.querySelector('#df-c74145c8-1ed9-4a3f-ac5f-1ecac7739c48 button.colab-df-convert');\n",
              "        buttonEl.style.display =\n",
              "          google.colab.kernel.accessAllowed ? 'block' : 'none';\n",
              "\n",
              "        async function convertToInteractive(key) {\n",
              "          const element = document.querySelector('#df-c74145c8-1ed9-4a3f-ac5f-1ecac7739c48');\n",
              "          const dataTable =\n",
              "            await google.colab.kernel.invokeFunction('convertToInteractive',\n",
              "                                                     [key], {});\n",
              "          if (!dataTable) return;\n",
              "\n",
              "          const docLinkHtml = 'Like what you see? Visit the ' +\n",
              "            '<a target=\"_blank\" href=https://colab.research.google.com/notebooks/data_table.ipynb>data table notebook</a>'\n",
              "            + ' to learn more about interactive tables.';\n",
              "          element.innerHTML = '';\n",
              "          dataTable['output_type'] = 'display_data';\n",
              "          await google.colab.output.renderOutput(dataTable, element);\n",
              "          const docLink = document.createElement('div');\n",
              "          docLink.innerHTML = docLinkHtml;\n",
              "          element.appendChild(docLink);\n",
              "        }\n",
              "      </script>\n",
              "    </div>\n",
              "  </div>\n",
              "  "
            ]
          },
          "metadata": {},
          "execution_count": 129
        }
      ],
      "source": [
        "#Lets take a look at the new transformed DataFrame\n",
        "df.head()"
      ]
    },
    {
      "cell_type": "code",
      "execution_count": 130,
      "id": "970c6eb1",
      "metadata": {
        "id": "970c6eb1",
        "outputId": "1af92970-4322-4fd2-cb6a-65680d3935af",
        "colab": {
          "base_uri": "https://localhost:8080/"
        }
      },
      "outputs": [
        {
          "output_type": "execute_result",
          "data": {
            "text/plain": [
              "0       norm of the north: king sized adventure richar...\n",
              "1       jandino: whatever it takes  jandino asporaat s...\n",
              "2       transformers prime  peter cullen, sumalee mont...\n",
              "3       transformers: robots in disguise  will friedle...\n",
              "4       #realityhigh fernando lebrija nesta cooper, ka...\n",
              "                              ...                        \n",
              "6229    red vs. blue  burnie burns, jason saldaña, gus...\n",
              "6230    maron  marc maron, judd hirsch, josh brener, n...\n",
              "6231    little baby bum: nursery rhyme friends   movie...\n",
              "6232    a young doctor's notebook and other stories  d...\n",
              "6233    friends  jennifer aniston, courteney cox, lisa...\n",
              "Length: 6234, dtype: object"
            ]
          },
          "metadata": {},
          "execution_count": 130
        }
      ],
      "source": [
        "#Add all the important features and store it into new column\n",
        "features=df['title']+ ' ' + df['director'] + ' ' + df['cast'] + ' ' +df['listed_in']+' '+ df['description']\n",
        "features=features.apply(lambda x: x.lower())\n",
        "features"
      ]
    },
    {
      "cell_type": "code",
      "execution_count": null,
      "id": "79affa49",
      "metadata": {
        "id": "79affa49"
      },
      "outputs": [],
      "source": [
        "Tfidf_vect = TfidfVectorizer()\n",
        "vector_matrix = Tfidf_vect.fit_transform(features)\n",
        "vector_matrix"
      ]
    },
    {
      "cell_type": "code",
      "execution_count": null,
      "id": "6c11dcd6",
      "metadata": {
        "id": "6c11dcd6"
      },
      "outputs": [],
      "source": [
        "tokens = Tfidf_vect.get_feature_names()\n",
        "df_vec=pd.DataFrame(vector_matrix.toarray(),columns=tokens)\n",
        "df_vec.head()"
      ]
    },
    {
      "cell_type": "code",
      "source": [
        "cos_sim = cosine_similarity(vector_matrix, vector_matrix)\n",
        "print(cos_sim.shape)\n",
        "cos_sim"
      ],
      "metadata": {
        "colab": {
          "base_uri": "https://localhost:8080/"
        },
        "id": "ACZqwqOpxKLb",
        "outputId": "75717283-216e-4778-9e67-eea57f0d28ea"
      },
      "id": "ACZqwqOpxKLb",
      "execution_count": 132,
      "outputs": [
        {
          "output_type": "stream",
          "name": "stdout",
          "text": [
            "(6234, 6234)\n"
          ]
        },
        {
          "output_type": "execute_result",
          "data": {
            "text/plain": [
              "array([[1.        , 0.        , 0.00673934, ..., 0.0120289 , 0.01744265,\n",
              "        0.04176334],\n",
              "       [0.        , 1.        , 0.        , ..., 0.        , 0.        ,\n",
              "        0.        ],\n",
              "       [0.00673934, 0.        , 1.        , ..., 0.        , 0.00767924,\n",
              "        0.00636265],\n",
              "       ...,\n",
              "       [0.0120289 , 0.        , 0.        , ..., 1.        , 0.        ,\n",
              "        0.04210261],\n",
              "       [0.01744265, 0.        , 0.00767924, ..., 0.        , 1.        ,\n",
              "        0.03742769],\n",
              "       [0.04176334, 0.        , 0.00636265, ..., 0.04210261, 0.03742769,\n",
              "        1.        ]])"
            ]
          },
          "metadata": {},
          "execution_count": 132
        }
      ]
    },
    {
      "cell_type": "code",
      "source": [
        "df['lower']=df['title'].apply(lambda x: x.lower())\n",
        "titles_list =df['lower'].tolist()\n",
        "print(titles_list)"
      ],
      "metadata": {
        "colab": {
          "base_uri": "https://localhost:8080/"
        },
        "id": "X9rY2u_uM1eJ",
        "outputId": "37e60fe4-54e2-48cc-a346-ac4d22a3a4ae"
      },
      "id": "X9rY2u_uM1eJ",
      "execution_count": 147,
      "outputs": [
        {
          "output_type": "stream",
          "name": "stdout",
          "text": [
            "['norm of the north: king sized adventure', 'jandino: whatever it takes', 'transformers prime', 'transformers: robots in disguise', '#realityhigh', 'apaches', 'automata', 'fabrizio copano: solo pienso en mi', 'fire chasers', 'good people', 'joaquín reyes: una y no más', 'kidnapping mr. heineken', 'krish trish and baltiboy', 'krish trish and baltiboy: battle of wits', 'krish trish and baltiboy: best friends forever', 'krish trish and baltiboy: comics of india', 'krish trish and baltiboy: oversmartness never pays', 'krish trish and baltiboy: part ii', 'krish trish and baltiboy: the greatest trick', 'love', 'manhattan romance', 'moonwalkers', 'rolling papers', 'stonehearst asylum', 'the runner', '6 years', 'castle of stars', 'city of joy', 'first and last', 'laddaland', 'next gen', 'sierra burgess is a loser', 'the most assassinated woman in the world', 'cézanne et moi', \"archibald's next big thing\", 'article 15', 'care of kancharapalem', 'ee nagaraniki emaindi', 'kill me if you dare', 'the spy', 'hell and back', 'pk', 'hard tide', 'elstree 1976', 'american factory: a conversation with the obamas', 'atm', 'bangkok traffic (love) story', 'i fine... thank you... love you', 'one day', 'phobia 2', 'shutter', 'suckseed', 'carrie pilby', 'marc maron: too real', 'no tomorrow', 'saawan', 'the heretics', 'the world we make', 'watchman', 'black panther', 'man up', 'frequency', 'mo gilligan: momentum', 'adam ruins everything', 'ben 10', 'big miracle', 'christiane amanpour: sex & love around the world', 'the eighties', 'the nineties', 'the seventies', 'we bare bears', 'the mayor', 'the royal house of windsor', 'amanda knox', 'lovesick', 'the debt collector', 'act of vengeance', 'paradise lost', \"gerald's game\", 'long shot', 'mak cun', 'our souls at night', 'out of thin air', \"paul hollywood's big continental road trip\", 'satu hari', 'monster high: boo york, boo york', 'cultivating the seas: history and future of the full-cycle cultured kindai tuna', 'domino', 'tuna girl', '5cm', 'animal world', 'hold the dark', 'lessons from a school shooting: notes from dunblane', 'made in mexico', 'single', 'the 3rd eye', 'the sinking of van der wijck', 'two catalonias', 'bobby sands: 66 days', 'bard of blood', 'deliha 2', 'dragons: rescue riders', 'in the shadow of the moon', 'skylines', 'sturgill simpson presents sound & fury', 'the politician', 'weeds on fire', 'much loved', 'joseph: king of dreams', 'malaal', 'the grandmaster', 'the inmate', 'the hurricane heist', 'def comedy jam 25', 'restless creature: wendy whelan', 'print the legend', 'birders', 'furie', 'leap!', 'oh! baby (malayalam)', 'oh! baby (tamil)', 'uss indianapolis: men of courage', 'a wrinkle in time', 'teach us all', 'white island', 'inside man: most wanted', 'jeff dunham: beside himself', 'china salesman', 'swearnet: the movie', 'the bar', 'manmadhudu 2', 'team kaylie', 'under the eiffel tower', 'audrie & daisy', 'iliza shlesinger: confirmed kills', 'bonding', 'do paise ki dhoop chaar aane ki baarish', '20 feet from stardom', 'in darkness', 'gaga: five foot two', 'the bad batch', 'smosh: the movie', 'king of boys', 'merry men: the real yoruba demons', \"sarah's key\", 'the wedding party 2: destination dubai', 'vagabond', 'battlefish', 'dragon pilot: hisone & masotan', 'hilda', 'maniac', 'quincy', 'rafinha bastos: ultimatum', 'the good cop', 'between two ferns: the movie', 'criminal: france', 'criminal: germany', 'criminal: spain', 'criminal: uk', 'daddy issues', \"inside bill's brain: decoding bill gates\", 'the hockey girls', 'travel mates 2', 'true: tricky treat day', 'two sentence horror stories', 'mad world', 'mobile suit gundam uc', 'the bund', 'the first line', 'maynard', 'monkey twins', 'bitcoin heist', 'i am not madame bovary', 'vincent n roxxy', \"chef's table: france\", 'kulipari: an army of frogs', 'miss julie', 'kabir singh', 'océans', 'the endless', 'transformers: rescue bots', 'jerry before seinfeld', 'manhunt', 'karol modzelewski, łukasz „lotek” lodkowski no offense', 'katarzyna piasecka, rafał pacześ seriously funny', 'mariusz kałamaga, karol kopiec, wiolka walaszczyk hilarious trio', 'rafał banaś, michał leja laugh out loud', 'the best of rafał rutkowski olka szczęśniak', 'tomasz jachimek, jacek stramik laugh at live', 'come and find me', 'when the camellia blooms', 'class rank', 'barbie dolphin magic', 'forget me not', 'the beat', 'timeless season', 'keith richards: under the influence', 'a haunting at silver falls: the return', 'ancient aliens', 'avengement', 'clive davis: the soundtrack of our lives', 'five elements ninjas', \"sebastian maniscalco: what's wrong with people?\", 'the last kids on earth', 'the witch', 'click for murder', 'i am wrath', 'as above, so below', 'scott pilgrim vs. the world', 'arq', 'cedric the entertainer: live from the ville', 'louis c.k.: hilarious', 'raiders!: the story of the greatest fan film ever made', 'the white helmets', \"america's book of secrets\", 'bakugan: battle planet', 'cold case files', 'los tigres del norte at folsom prison', 'pawn stars', 'steal a pencil for me', 'surviving r. kelly', 'the curse of oak island', 'the outsider', 'the rap game', 'the universe', 'al hayba', 'arisan 2', 'cabins in the wild with dick strawbridge', 'cardboard gangsters', 'eeda', 'galih dan ratna', 'gie', '\\u200bgoli soda 2', 'how to live mortgage free with sarah beeny', 'inside the freemasons', 'jugaad', '\\u200bmaj rati \\u200b\\u200bketeki', '\\u200bmayurakshi', 'red oleanders raktokarobi', 'samantaral', 'the secret', 'first they killed my father', 'gagarin: first in space', 'janaan', 'larceny', 'rumble', 'strong island', 'the five', 'natural born pranksters', 'sample this', 'wartime portraits', 'cowspiracy: the sustainability secret', 'oh! baby', 'the crystal calls making the dark crystal: age of resistance', 'we have always lived in the castle', 'bangkok hell', 'behind the newsroom', 'bleach', 'boca juniors confidential', 'car masters: rust to riches', 'norm macdonald has a show', 'still', 'super monsters monster party', 'the angel', 'the land of steady habits', 'the rise of phoenixes', 'american warfighter', 'deviant love', 'head count', \"hello, privilege. it's me, chelsea\", 'kabaneri of the iron fortress: the battle of unato', 'locked on you', 'marianne', 'monarca', 'shanghai fortress', 'tall girl', 'time trap', 'top boy', 'unbelievable', 'reversing roe', 'ghost of the mountains', 'extremis', 'the i-land', 'the mind, explained', 'turbo', 'life', 'on my skin', 'heroin(e)', 'jeff dunham: relative disaster', 'daniel sloss: live shows', 'if i were an animal', 'the resistance banker', 'the forgotten', 'bill burr: paper tiger', 'eat pray love', 'evelyn', 'our godfather', 'terrace house: tokyo 2019-2020', 'my teacher, my obsession', '68 kill', 'american psycho', \"dante's peak\", 'elena', 'first kill', 'for the birds', 'igor', 'just friends', 'loo loo kids: johny & friends musical adventures', 'mokalik (mechanic)', 'mr. woodcock', \"my sister's keeper\", 'mystic river', 'oct-01', 'olmo & the seagull', 'open season', 'phone swap', 'poseidon', 'rachel getting married', 'serial killer with piers morgan', 'spookley the square pumpkin', 'stripes', 'superbad', 'the bridge', 'the ceo', 'the lake house', 'the last exorcism', 'the saint', 'the taking of pelham 123', 'transformers rescue bots academy', 'transformers: cyberverse', 'uncle naji in uae', 'used goods', \"you don't mess with the zohan\", 'age of rebellion', 'barça dreams', 'brick', 'carbon', 'delirium', 'garbage', 'hope aur hum', '\\u200b\\u200bkuch bheege alfaaz', 'love and shukla', 'murder party', 'once again', 'pee mak', 'sisters', 'solo con tu pareja', 'sparring', 'stephanie', 'terrifier', 'the keeping hours', 'the perfect day', 'the promise', 'the river wild', 'the road to calvary', '최강전사 미니특공대 : 영웅의 탄생', 'a boy name flora a', 'a house of blocks', 'aakhri adaalat', 'alias jj, la celebridad del mal', 'all about love', 'berserk: the golden age arc ii - the battle for doldrey', 'berserk: the golden age arc iii - the advent', \"brother's shadow\", 'chadi jawani budhe nu', 'concrete football', 'ek jaan hain hum', 'final fantasy xiv dad of light', 'gurren lagann', 'high risk', 'incorruptible', \"inuyasha the movie - l'isola del fuoco scarlatto\", 'inuyasha the movie - la spada del dominatore del mondo', 'inuyasha: the movie 2: the castle beyond the looking glass', 'khoon khoon', 'lego elves: secrets of elvendale', 'little evil', 'lorai: play to live', 'maniac', 'manoranjan', 'mujrim', 'naruto shippuden : blood prison', 'naruto shippûden the movie: the will of fire', 'naruto shippuden: the movie: the lost tower', 'naruto the movie 2: legend of the stone of gelel', 'naruto the movie 3: guardians of the crescent moon kingdom', 'naruto the movie: ninja clash in the land of snow', 'offline - das leben ist kein bonuslevel', 'resurface', 'rocco', \"she's gotta have it\", 'sohni mahiwal', 'the distinguished citizen', 'the drowning', 'the guardian brothers', 'the last shaman', 'the lost brother', 'tip the mouse', 'todo sobre el asado', 'who the f**k is that guy?', 'a noble intention', 'bon bini holland', 'conspiracy', 'dead set', 'dukhtar', 'easy fortune happy life', 'figaro pho', 'full out', 'game winning hit', 'holy hell', 'lucky days', 'off course', 'saudi arabia uncovered', 'station horizon', 'the fierce wife', 'the womanizer', 'the year of happiness and love', 'we need to talk', 'witches: a century of murder', 'iliza shlesinger: war paint', 'after', 'home is where the killer is', 'rhythm + flow', 'garuda di dadaku', 'mo amer: the vagabond', 'surat dari praha', \"winter on fire: ukraine's fight for freedom\", 'deon cole: cole hearted', 'the spooky tale of captain underpants hack-a-ween', 'pulang', 'the water diviner', 'chris brown: welcome to my life', '13th', 'russell peters: almost famous', 'storybots super songs', 'the siege of jadotville', 'love for sale', 'jackpot', 'seven in heaven', 'id-0', 'kung fu yoga', 'the death and life of marsha p. johnson', 'legend quest: masters of myth', 'my country: the new age', 'noblemen', 'cahaya dari timur beta maluku', 'dancing queen', \"emma' (mother)\", 'empire games', 'lost song', 'malevolent', 'private life', 'super monsters save halloween', 'yg future strategy office', 'a plastic ocean', 'brother in love', 'in the tall grass', 'kids on the block', 'raising dion', \"super monsters: vida's first halloween\", 'compulsion', 'the dreamer', 'the haunting of molly hartley', 'violet evergarden: special', 'lego jurassic world: the indominus escape', 'grego rossello: disculpe las molestias', 'nowhere man', 'sleepless society: bedtime wishes', 'gun city', 'heneral luna', 'judah friedlander: america is the greatest country in the united states', \"the b-side: elsa dorfman's portrait photography\", \"zumbo's just desserts\", 'kristy', 'bring it on, ghost', 'mehandi circus', 'tomorrow with you', 'tunnel', 'my brother ... nikhil', 'shorgul', 'siddhant', 'the degenerates', 'the jungle school', 'spf-18', 'forks over knives', 'seis manos', \"benji's very own christmas story\", 'the black prince', 'truth or dare', 'cult of chucky', 'rodney carrington: here comes the truth', 'security', 'arsenio hall: smart & classy', 'shine on with reese', 'the road to el camino: behind the scenes of el camino: a breaking bad movie', 'kings', 'pup star', 'a 3 minute hug', 'little miss sumo', 'equals', 'pup star: better 2gether', 'i am the pretty thing that lives in the house', 'into the inferno', 'the african doctor', 'they are everywhere', 'trailer park boys: out of the park: europe', 'west coast', 'wait, my youth', '14 cameras', 'dragon tiger gate', 'beyond stranger things', 'joan didion: the center will not hold', '7 años', 'manson family vacation', 'a little thing called first love', 'the last whistle', 'been so long', 'dovlatov', 'incoming', 'jefe', 'santo cachón', 'shirkers', 'terrorism close calls', 'w/o ram', 'strange weather', 'a tale of love and darkness', 'assimilate', 'brotherhood', 'consequences\\xa0', 'dolemite is my name', 'drug squad: costa del sol', 'it takes a lunatic', 'monzón: a knockout blow', 'my next guest with david letterman and shah rukh khan', 'nailed it! france', 'nailed it! spain', 'prank encounters', 'rattlesnake', 'the awakening of motti wolkenbruch', 'the untamed', 'dreamworks spooky stories', 'queens vs. kings', 'ronnie coleman: the king', 'meet the trumps: from immigrant to president', 'the hateful eight', 'walt disney animation studios short films collection', 'daybreak', 'echo in the canyon', 'revenge of the pontianak', 'baahubali: the beginning (english version)', 'bodyguard', 'jack whitehall: at large', 'the mist', 'e-team', 'dreamworks spooky stories: volume 2', 'american heist', 'breakfast, lunch & dinner', 'dancing with the birds', 'master z: the ip man legacy', 'adam sandler 100% fresh', 'here to heart', 'scorpion king 5: book of souls', \"while we're young\", \"hunter's prayer\", \"i'll see you in my dreams\", 'jenny slate: stage fright', 'the texas chainsaw massacre', 'tracers', 'يوم الدين', 'god knows where i am', 'aashayein', 'bhool bhulaiyaa', 'humko deewana kar gaye', 'kajraare', 'karzzzz', 'patiala house', 'ready', 'results', 'free fire', 'the rainbow troops', 'the liar', 'containment', 'joe rogan: triggered', 'wyatt cenac: brooklyn', 'how to get over a breakup', 'the gospel of john', '1922', 'miss representation', 'one of us', 'the day i met el chapo', 'wheelman', 'border patrol', 'botched up bodies', 'bringing sexy back', 'court justice', 'diva brides', 'ghost town gold', 'horror homes', 'kitten rescuers', 'license to drill: louisiana', 'living undocumented', 'ready to mingle', 'salam - the first ****** nobel laureate', 'death race: beyond anarchy', \"eric ldle's what about dick?\", 'joe rogan: strange times', 'monty python best bits (mostly)', 'monty python conquers america', 'monty python live (mostly): one down, five to go', 'monty python: before the flying circus', 'monty python: live at aspen', 'monty python: live at the hollywood bowl', 'monty python: the meaning of live', \"monty python's almost the truth\", \"monty python's fliegender zirkus\", \"monty python's life of brian\", \"monty python's personal best\", 'parrot sketch not included: twenty years of monty python', 'the meaning of monty python', 'sleeping with other people', 'anjelah johnson: not fancy', 'little singham: kaal ki tabaahi', 'men in black', 'moms at war', 'the command', 'accidentally in love', 'ask the doctor', 'best.worst.weekend.ever.', 'club de cuervos presents: i, potro', 'derren brown: sacrifice', 'gnome alone', 'illang: the wolf brigade', 'naa bangaaru talli', 'oddbods: party monsters', 's storm', 'the gospel of luke', 'the gospel of mark', 'the gospel of matthew', 'the night comes for us', 'wanderlust', 'wedding unplanned', '10 days in sun city', '93 days', 'eli', 'in my country', 'interior design masters', 'living with yourself', 'love, surreal and odd', 'mighty little bheem: diwali', 'monkart', 'new money', 'seventeen', 'tatu', 'tell me who i am', 'the laundromat', 'unnatural selection', 'up north', 'upstarts', 'verses of love 2', 'mr. chandramouli', 'el viaje: márama y rombai', 'the karate kid', 'the unlisted', \"my babysitter's a vampire: the movie\", 'patton oswalt: annihilation', 'another miss oh', 'ghosts of sugar land', 'league of legends origins', 'park na-rae: glamour warning', 'second 20s', 'sinister 2', 'the game changers', \"ron white: if you quit listening, i'll shut up\", 'baadshaho', 'closed circuit', 'footprints in the sand', 'in laws', 'la femme', 'laws of attraction', 'lucknow central', 'a family affair', 'anthony jeselnik: thoughts and prayers', 'beasts of no nation', 'circle', 'black money love', 'dark crimes', 'homeland', 'magical andes', 'power rangers beast morphers', 'devlok with devdutt pattanaik', 'meghnadbodh rohoshyo', 'sanju', 'stunt science', 'a scandall', 'aisa yeh jahaan', 'ankur arora murder case', 'belief: the possession of janet moses', 'calendar girls', 'darra', 'el che', 'gour hari dastaan: the freedom file', 'harry & bunnie', 'jal', 'macchli jal ki rani hai', 'money', 'one night stand', 'otherlife', 'sardaarji 2', 'seven and me', 'singapore', 'story of an egg', 'tamanchey', 'teshan', 'ujala', 'veerappan', 'why knot', 'a mighty team', 'berserk: the golden age arc i - the egg of the king', 'bleach the movie: fade to black', 'bleach the movie: hell verse', 'blind date', 'death note', 'naruto shippûden the movie: bonds', 'naruto shippuden: the movie', 'power rangers dino super charge', 'spotless', 'martin matte: la vie, la mort...eh la la..!', 'this is not what i expected', 'sky ladder: the art of cai guo-qiang', 'suburra', 'russell peters vs. the world', 'russell peters: notorious', 'street flow', 'the lies within', 'soorma', 'ajaibnya cinta', 'blessed benefit', 'clair obscur', 'el especial de alex fernández, el especial', 'kingdom of us', 'the babysitter', 'the meyerowitz stories (new and selected)', 'mascots', 'apostle', 'black heart', 'errementari: the blacksmith and the devil', 'feminists: what were they thinking?', 'fightworld', 'kuntilanak', 'remastered: who shot the sheriff', 'the curious creations of christine mcconnell', 'the haunting of hill house', 'the kindergarten teacher', 'barakah meets barakah', 'bomb scared', 'justin timberlake + the tennessee kids', 'iron man & captain america: heroes united', 'bygones be bygones', 'el camino: a breaking bad movie', 'fractured', 'the bling lagosians', 'the forest of love', 'the influence', 'filosofi kopi the movie', 'ordinary heroes', 'salt fat acid heat', 'اشتباك', 'beyblade burst turbo', 'gen hoshino stadium tour “pop virus”', 'ultramarine magmell', '22-jul', 'blood pact', 'tales from the hood 2', 'christina p: mother inferior', \"nature's great events (2009)\", 'the blue planet: a natural history of the oceans', 'chelsea handler: uganda be kidding me live', '300 miles to heaven', 'a.m.i.', 'along came a spider', 'alpha and omega 2: a howl-iday adventure', 'bad boys', 'bad boys ii', 'blow', 'candyman', \"charlie's angels\", \"charlie's angels: full throttle\", 'cheese in the trap', 'chicago typewriter', 'college romance', 'crash', 'dumb and dumberer: when harry met lloyd', 'earth to echo', 'engineering girls', 'escape from the \"liberty\" cinema', 'exit wounds', 'first kiss', 'girls hostel', 'good burger', 'good luck chuck', 'harold & kumar escape from guantanamo bay', 'honey 2', 'hotel pacific', 'house of the witch', 'inmates', 'jealousy and medicine', 'knowing', 'limitless', 'little baby bum: go buster', 'medium', 'men in black ii', 'miniforce x', 'nikki glaser: bangin’', 'no reservations', \"ocean's thirteen\", \"ocean's twelve\", 'one direction: this is us', 'raging bull', 'rugrats in paris: the movie', 'scream 2', 'senna', 'signal', 'sin city', 'sinister circle', 'supergirl', 'superman returns', \"surf's up\", 'the bounty hunter', 'the bucket list', 'the cruise', 'the figurine (araromire)', 'the flintstones', 'the flintstones in viva rock vegas', 'the k2', 'the liar and his lover', 'the lynx', 'the pursuit of happyness', 'the rugrats movie', 'the spiral', 'the squid and the whale', \"the time traveler's wife\", 'trainspotting', 'troy', 'tunnel', 'unaccompanied minors', 'walking out', 'weather forecast', 'westerplatte resists', '25 kille', \"a witches' ball\", 'agyaat', 'anjaan', 'bathinda express', \"brooklyn's finest\", 'chappaquiddick', 'civilizations', 'delhi 6', 'dev.d', 'dil vil pyaar vyaar', 'dushman', \"earth's natural wonders: life at the extremes\", 'ek main aur ekk tu', 'fishtail', 'freedom at midnight', 'haani', 'happy go lucky', 'harishchandrachi factory', 'hot date', 'jagga jasoos', 'jatt james bond', 'jodhaa akbar', 'judge singh llb', 'kaminey', 'kevin hart: laugh at my pain', 'kevin hart: seriously funny', 'khido khundi', 'khoobsurat', 'kingdoms of the sky', 'kisaan', 'kismat konnection', 'kurbaan', 'lock', 'luv shuv tey chicken khurana', 'main, meri patni aur woh', 'manje bistre', 'motor mitraan di', 'mountain', 'mugamoodi', 'muran', 'my friend pinto', 'my little pony equestria girls: forgotten friendship', 'my little pony equestria girls: rollercoaster of friendship', 'my suicide', 'naan sigappu manithan', 'nasha', 'nature: animals with cameras', 'naughty jatts', 'needhi singh', 'peace haven', 'phantom', 'pizza', 'pooja kiven aa', 'race', 'race 2', 'saadey cm saab', 'sat shri akaal england', 'strong', 'thaandavam', 'the birth reborn', 'theeya velai seyyanum kumaru', 'three wives one husband', 'tiger', 'udaan', 'v for vendetta', 'vettai', 'wake up sid', 'we are family', 'what the jatt!!', 'zack and miri make a porno', 'zindagi kitni haseen hay', '26 years', 'april and the extraordinary world', 'barbie & her sisters in a pony tale', 'barbie in a mermaid tale', 'barbie in princess power', \"barbie in rock 'n royals\", 'barbie star light adventure', 'barbie: a fairy secret', 'barbie: princess charm school', 'barbie: spy squad', 'barbie: the princess & the popstar', 'barbie: video game hero', 'beyblade burst', 'boy and the world', 'city in the sky', 'equestria girls: tales of canterlot high', 'food: delicious science', 'for your own good', 'franca: chaos and creation', 'frances ha', 'generation iron 2', 'ghost patrol', 'great yellowstone thaw', 'i am bolt', \"i'm in love with a church girl\", 'ice guardians', 'justice in the city', \"kahlil gibran's the prophet\", 'miss hokusai', 'monster high: great scarrier reef', 'monster high: new ghoul at school', 'my life as a zucchini', \"nature's great race\", 'phantom boy', 'pj masks', 'sudden', 'the code', 'the dream catchers', 'the free man', 'the lion woman', \"the president's barber\", 'tokyo idols', 'verónica', 'welcome to monster high: the origin story', 'what she put on the table', 'wrong side raju', 'be with me', 'be with you', 'bombshell', 'chatô: the king of brazil', \"chewin' the fat\", 'fall in love with me', 'harud', 'love cheque charge', \"masha's spooky stories\", 'much ado about nothing', \"murphy's law of love\", 'my big night', 'my little pony equestria girls: legend of everfree', 'old money', \"pac's scary halloween\", 'riphagen - the untouchable', 'robotech', 'someone like you', 'umrika', 'unchained: the untold story of freestyle motocross', 'welcome mr. president', 'when i see you again', 'wakfu: the quest for the six eliatrope dofus', 'a stoning in fulham county', 'adam: his song continues', 'hard lessons', 'in defense of a married man', 'quiet victory: the charlie wedemeyer story', 'strange voices', 'the ryan white story', 'too young the hero', 'triumph of the heart', 'unspeakable acts', 'victim of beauty', \"all's well, end's well (2009)\", 'gabriel and the mountain', 'lommbock', 'love o2o', 'medal of honor', 'outlaw king', 'super drags', 'the queen of flow', 'westside', 'case', 'greatest events of wwii in colour', 'green eggs and ham', 'hit & run', 'let it snow', 'paradise beach', 'hope springs eternal', 'the desert bride', 'the sea of trees', 'transfers', 'yes or no 2', 'yes or no 2.5', 'my way', 'u turn', 'damnation', 'into the forest', 'krisha', 'jerry seinfeld: comedian', 'p. king duckling', 'the journey is the destination', 'virunga', 'burning cane', 'scams', 'shadow', 'let it fall: los angeles 1982-1992', 'luccas neto in: summer camp', 'seth meyers: lobby baby', 'the lovers', 'tune in for love', 'undercover brother 2', 'voice', 'bucket list', \"john leguizamo's latin history for morons\", 'mubarakan', 'a holiday engagement', 'christmas crush', 'dear santa', 'district 9', 'kicking and screaming', 'minimalism: a documentary about the important things', 'oththa seruppu size 7', 'the devil next door', 'williams', 'dana carvey: straight white male, 60', 'qué pena tu serie', 'the ivory game', 'chocolate', 'guatemala: heart of the mayan world', 'the zoya factor', '1983', 'a christmas prince: the royal wedding', \"angela's christmas\", 'cloudy with a chance of meatballs', 'death by magic', 'el club de los insomnes', 'garuda in my heart 2', 'happy as lazzaro', 'love', 'love and fortune', 'manto', 'rajma chawal', 'the world is yours', 'time share', 'when two worlds collide', 'takers', 'hoodwinked too! hood vs. evil', 'akulah balqis', 'alias grace', 'atlantics', 'crazy people', 'i lost my body', 'kalushi: the story of solomon mahlangu', 'lagos real fake life', 'payday', 'sugar rush christmas', 'the accidental spy', 'the charming stepmom', 'the island', 'the movies that made us', 'holiday rush', 'levius', 'lugar de mulher', 'merry happy whatever', 'mythomaniac', 'the score', 'brotherhood of blades ii: the infernal battlefield', 'broken', 'defiance', 'evvarikee cheppoddu', 'little singham: mahabali', 'the body remembers when the world broke open', 'the irishman', 'bumping mics with jeff ross & dave attell', 'minecraft: story mode', 'operation red sea', 'poster boys', 'mike birbiglia: the new one', 'super monsters save christmas', 'true: winter wishes', 'zona rosa', 'dirty john', 'pranaam', 'what the f* is going on?', 'harold and lillian: a hollywood love story', 'my little pony friendship is magic: best gift ever', 'perú: tesoro escondido', 'beauties of the night', 'gilmore girls: a year in the life', 'michael che matters', 'awake', 'popeye', 'shot caller', 'strong girl bong-soon', 'bushwick', 'cuba and the cameraman', 'the girl from the song', 'the many faces of ito', 'trailer park boys: out of the park: usa', \"charlotte's web\", 'end of watch', 'hamburger hill', 'once upon a time in lingjian mountain', 'the time machine', 'fugitiva', 'bright: the music videos', 'deep', 'brother', 'dino girl gauko', \"dolly parton's heartstrings\", 'girls und panzer der film', 'mike birbiglia: what i should have said was nothing: tales from my secret public journal', 'narcoworld: dope stories', \"nobody's looking\", 'shelby american', 'singapore social', 'the christmas chronicles', 'argon', \"barbra: the music ... the mem'ries ... the magic!\", 'godless', 'ludo', 'mercy', 'the land of cards', 'k-19: the widowmaker', 'mortel', 'the knight before christmas', 'de palma', 'oh my ghost', 'the tribe', 'beat bugs: all together now', 'brian regan: nunchucks and flamethrowers', 'saving capitalism', 'the case for christ', 'carlos ballarta: el amor es de putos', 'adore', 'bangkok buddies', 'be somebody', 'beavis and butt-head do america', \"bebe's kids\", 'bikram: yogi, guru, predator', 'black snake moan', 'carriers', 'dorasaani', 'dream/killer', 'evolution', 'eye for an eye', 'holiday secrets', 'hot rod', 'it takes two', 'lorena, light-footed woman', 'love, rosie', 'mallesham', 'once upon a time in the west', \"she's out of my league\", 'superstar', 'the adventures of tintin', 'the devil inside', 'the first wives club', 'the gift', 'the goods: live hard, sell hard', 'the longest yard', 'the love guru', 'the rainmaker', \"what's eating gilbert grape\", 'who killed little gregory?', 'world trade center', 'young adult', 'yours, mine and ours', 'zodiac', 'kulipari: dream walker', 'paap-o-meter', 'puppy star christmas', 'sabrina', 'target', 'the final table', 'trevor noah: son of patricia', '100 things to do before high school', 'a fairly odd summer', 'bella and the bulldogs', 'big time movie', \"don't be afraid of the dark\", 'escape from mr. lemoncello’s library', 'hey arnold! the jungle movie', 'jinxed', 'legends of the hidden temple', 'liar, liar, vampire', 'shark night', 'the boy who cried werewolf', 'the massively mixed-up middle school mystery', 'ana e vitória', 'brainchild', 'remastered: tricky dick & the man in black', 'the holiday calendar', 'the judgement', 'the other side of the wind', 'they’ll love me when i’m dead', 'thorne: scaredy cat', 'thorne: sleepyhead', 'iliza shlesinger: unveiled', 'miss culinary', 'no time for shame', 'donald glover: weirdo', 'the pixar story', 'the prison', 'colin quinn: the new york story', 'divines', 'la niña', 'sour grapes', \"naomi and ely's no kiss list\", 'splatter', 'candy online', 'eternal love', 'la doña', 'silvana sin lana', 'a christmas prince', 'jim & andy: the great beyond - featuring a very special, contractually obligated mention of tony clifton', 'krish trish and baltiboy: face your fears', 'mudbound', 'santa claws', 'shot in the dark', 'paranoid', 'drive', 'iron sky: the coming race', 'jeff dunham: all over the map', 'suffragette', 'the green inferno', 'cam', 'dogs', 'follow me', 'narcos: mexico', 'nothing to hide', 'the ballad of buster scruggs', 'the princess switch', 'vai anitta', '9', 'at the dolphin bay', 'earthquake bird', 'el sendero de la anaconda', 'go! the unforgettable party', 'guna 369', 'house arrest', \"i'm with the band: nasty cherry\", 'inheritors', 'k-on! the movie', 'klaus', 'la robe de mariee des cieux', 'leap year', 'my mvp valentine', 'my sassy girl', 'sunganges', 'the 24 hour war', 'the club', 'the garden of words', 'the stranded', 'westside story', 'aalorukkam', 'beyblade burst evolution', 'christmas wedding planner', 'halkaa', 'mala kahich problem nahi', 'may the devil take you', 'muzaffarnagar baaqi hai', 'odu raja odu', 'only the dead', 'pimpal', 'savita damodar paranjpe', 'shopkins: chef club', 'shopkins: wild', 'shopkins: world vacation', 'the crew', 'the giant', 'a flying jatt', 'chuck chicken', 'lucky: no time for love', 'the irregular at magic high school', 'the method', 'brown nation', 'dieter nuhr: nuhr in berlin', 'mumbai cha raja', \"oliver stone's untold history of the united states\", 'clarence clemons: who do i think i am?', 'fadily camara : la plus drôle de tes copines', 'my dear warrior', 'deray davis: how to act black', 'hickok', 'chelsea peretti: one of the greats', 'casa de mi padre', 'maradona in mexico', 'buybust', 'loudon wainwright iii: surviving twin', 'warrior', 'chasing trane', 'john mulaney: the comeback kid', 'w/ bob & david', 'jeff garlin: our man in chicago', 'green room', 'long time running', 'a single man', 'put your head on my shoulder', 'submission', 'to be of service', 'bon cop bad cop 2', 'the beginning of life: the series', 'true memoirs of an international assassin', 'age of tanks', 'helix', 'the workshop', 'bill burr: let it go', 'blazing transfer students', 'mea culpa', 'natalia valdebenito: gritona', 'the killer', 'einsatzgruppen: the nazi death squads', 'kathleen madigan: bothering jesus', '100% hotter', '16 blocks', '187', 'a remarkable tale', 'a year in space', 'ad vitam', 'american history x', 'american son', 'anger management', 'apache warrior', 'barbie dreamhouse adventures: go team roberts', 'butterfield 8', 'cat on a hot tin roof', 'christmas break-in', 'christmas in the heartland', 'christmas survival', 'cleopatra jones', 'code name: the cleaner', 'doctor zhivago', 'drive', 'elliot the littlest reindeer', 'enter the dragon', 'euphoria', 'executive decision', 'fallen', 'fear and loathing in las vegas', 'fire in paradise', 'forbidden planet', 'getting played', 'gigi', 'gosford park', 'gothika', 'grease', 'hache', 'harlem globetrotters: the team that changed the world', 'hello ninja', 'holiday in the wild', 'holly star', 'how to be a latin lover', 'how to be a player', 'invictus', 'jimi hendrix', \"king's ransom\", 'legion', 'like water for chocolate', 'listen up! the lives of quincy jones', \"logan's run\", 'lolita', 'love jones', 'mad money', 'maid-sama!', 'money talks', 'monster house', 'mutiny on the bounty', 'nacho libre', \"national lampoon's loaded weapon 1\", \"ocean's eleven\", 'paid in full', \"queer eye: we're in japan!\", 'rebel without a cause', 'revolutionary road', \"rosemary's baby\", 'rounders', 'rumble in the bronx', 'santa girl', 'sling blade', 'sparkle', 'spider-man 3', 'spitfire: the plane that saved the world', 'step brothers', 'superfly', 'the brave one', 'the christmas candle', 'the cincinnati kid', 'the game', 'the great raid', 'the house of flowers presents: the funeral', 'the king', 'the last boy scout', 'the man without gravity', 'the matrix', 'the matrix reloaded', 'the matrix revolutions', 'the old thieves: the legend of artegios', 'the pelican brief', 'the tuxedo', 'thelonious monk: straight, no chaser', 'true: grabbleapple harvest', 'vantage point', 'vientos de agua', 'we are the wave', 'wild child', 'zoé: panoramas', 'zombieland', 'a wednesday', 'aagey se right', 'aamir', 'abcd 2', 'abcd: any body can dance', 'arjun: the warrior prince', 'asees', 'barfi!', 'baseketball', 'calico critters', 'calico critters: a town of dreams', 'calico critters: the treasure of calico village', 'chaar\\xa0sahibzaade', 'chance pe dance', 'christmas with a view', 'chup chup ke', 'dhan dhana dhan goal', 'dhoondte reh jaoge', 'do dooni chaar', 'edge of fear', 'edmilson filho: notas, comedy about relationships', 'filmworker', 'gaddar: the traitor', 'get shorty', 'ghanchakkar', 'girl from nowhere', 'grandmaster', 'hattrick', 'heroine', 'himmatwala', 'husbands in goa', 'jatts in golmaal', 'kai po che!', 'kalakalappu', 'katt williams: the pimp chronicles: pt. 1', 'katti batti', 'life in a ... metro', 'marc maron: thinky pain', 'morris from america', 'mumbai meri jaan', 'mundeyan ton bachke rahin', 'no one killed jessica', 'oye lucky! lucky oye!', 'paan singh tomar', 'raja natwarlal', 'satyagraha', 'settai', 'sigaram thodu', 'sommore: the reign continues', 'stink!', 'the great british baking show: the beginnings', 'the tigers of scotland', 'the untold tales of armistead maupin', 'the water horse: legend of the deep', 'transcendence', 'vaya', 'welcome to sajjanpur', 'yeh hai bakrapur', 'zokkomon', '6-5=2', 'bandie', 'beiimaan love', 'coffee with d', 'getaway plan', 'golden time', 'hajwala: the missing engine', \"hitler's steel beast\", 'kacche dhaagey', 'kis kisko pyaar karoon', 'moor', 'my life my story', 'one heart: the a.r. rahman concert film', 'pettersson and findus 2', 'punjab 1984', 'rivaaz', 'romeo ranjha', 'roots', 'savage dog', 'stranger', 'the bittersweet', 'the family court', 'the golden path', 'the little nyonya', 'the truth', 'together', \"trip to bhangarh: asia's most haunted place\", 'undercover grandpa', 'waarrior savitri', 'warehoused', 'yaara o dildaara', 'a grand night in: the story of aardman', 'inborn pair', 'just you', 'love around', 'love family', 'love me or leave me', 'love now', 'norman lear: just another version of you', \"santa pac's merry berry day\", 'spanish affair 2', 'the interview', 'the last days of chez nous', 'tree man', 'winter of our dreams', 'young tiger', 'a russell peters christmas', 'aziz ansari: buried alive', \"mad ron's prevues from hell\", 'antar: son of shadad', 'bathtubs over broadway', 'gatao 2: rise of the king', 'insidious', \"lion's heart\", 'regatta', 'tattah', \"the bulbul's nest\", \"norm macdonald: hitler's dog, gossip & trickery\", 'away from home', 'bibik-bibikku', 'cinta 100kg', 'cinta iris', 'cinta si wedding planner', 'cinta teruna kimchi', 'secret of success', 'the missing menu', 'unchained fate', 'desolation', 'hari kondabolu: warn your relatives', 'kaleidoscope', 'national bird', 'the chosen ones', 'abyss', 'i have a script', 'in the bosom of a thorn', 'the heat: a kitchen (r)evolution', 'the writer', 'what if?', 'city of god: 10 years later', 'my fuhrer', 'lovetrue', 'last breath', 'like arrows', 'the wandering earth', 'war horse', 'ali wong: baby cobra', 'death house', 'family blood', 'miss dynamite', 'pup star: world tour', 'handsome: a netflix mystery movie', 'simplemente manu nna', 'the mars generation', 'what happens to my family', '4th man out', 'just another love story', 'a little help with carol burnett', 'anon', 'dany boon: des hauts de france', 'end game', 'forgive us our debts', 'lo más sencillo es complicarlo todo', 'manhunt', 'no estoy loca', 'thi mai', 'pasión de gavilanes', 'always be my maybe', 'c kkompany', 'chopsticks', 'how to sell drugs online (fast)', 'killer ratings', 'koi aap sa', 'krishna cottage', 'mere pyare prime minister', 'p', 'pegasus', 'ragini mms', 'ragini mms 2', 'shor in the city', 'when they see us', 'bombshell: the hedy lamarr story', 'without gorky', 'my week with marilyn', 'svaha: the sixth finger', 'the one i love', 'sarah silverman a speck of dust', 'all in my family', 'crime diaries: night out', 'dead to me', 'despite everything', 'extremely wicked, shockingly evil and vile', 'flinch', \"it's fine\", 'jo pil-ho: the dawning rage', 'the last summer', 'tuca & bertie', 'undercover', 'si saben cómo me pongo ¿pá qué me invitan?', 'forever pure', 'rangoon', 'hot girls wanted', 'lifechanger', 'the nutcracker and the four realms', 'after porn ends', 'charmed', 'historical roasts', 'the break with michelle wolf', 'the do-over', 'kiss the series', 'rampant', \"sara's notebook\", 'something in the rain', 'i am jane doe', 'joshua: teenager vs. superpower', 'raees', 'war machine', 'the last man on the moon', 'sotus the series', 'thackeray', 'colours of passion', 'fernando sanjiao: hombre', 'ibiza', 'steve martin and martin short: an evening you will forget for the rest of your life', 'detour', 'after maria', 'hyper hardboiled gourmet report', 'joy', 'rim of the world', 'the perfection', 'what / if', 'survivors guide to prison', 'the lonely island presents: the unauthorized bash brothers experience', 'arès', 'hasan minhaj: homecoming king', 'dramaworld', 'a tale of two kitchens', 'the man who feels no pain', 'mob psycho 100', 'tig notaro happy to be here', '12 years promise', 'beating again', 'can we get married?', 'elizabeth at 90: a family tribute', 'last', 'secret affair', 'this is my love', 'the super mario bros. super show!', \"jen kirkman: i'm gonna die alone (and i feel fine)\", 'the other one: the long strange trip of bob weir', 'moonlight', 'wanda sykes: not normal', 'zero', 'american experience: the circus', \"hamza's suitcase\", 'her only choice', 'john carter', 'laatu', 'olympus has fallen', 'revenge', 'jailbreak', 'maria bamford: old baby', 'two lovers and a bear', 'sgt. will gardner', 'jalpari: the desert mermaid', 'small town crime', 'behzat ç.', 'blame!', 'hidden singer', \"highland: thailand's marijuana awakening\", 'laerte-se', 'the keepers', \"the blackcoat's daughter\", 'the brawler', 'cargo', 'catching feelings', 'dance & sing with true', 'el clon', '1994', 'born in gaza', 'born in syria', 'dying to tell', 'first impression', \"it's bruno!\", 'maria', \"remastered: the lion's share\", 'saverio raimondo: il satiro parlante', 'see you yesterday', 'well-intended love', 'katt williams: american hustle (the movie)', 'tinker bell and the legend of the neverbeast', 'even the rain', 'good sam', 'jonaki', 'kyo kii... main jhuth nahin bolta', 'limitless', 'lsd: love, sex aur dhokha', 'mission istaanbul: darr ke aagey jeet hai', 'once upon a time in mumbai dobaara!', 'patrick (2019)', 'take me home tonight', \"'89\", 'action replayy', 'andaz apna apna', 'food on the go', 'christine', 'the place beyond the pines', 'tracy morgan: staying alive', '7 din mohabbat in', \"all the devil's men\", 'cake', 'dennis and gnasher unleashed', 'emi: liya hai to chukana padega', 'hamid', 'heidi, bienvenida a casa', 'i hear you', 'kucch to hai', 'kyaa kool hai hum', 'kyaa kool hain hum 3', 'once upon a time in mumbaai', 'shootout at lokhandwala', 'aadu 2', 'aiyaary', 'chalay thay saath', 'lupin the 3rd: the castle of cagliostro: special edition', 'only god forgives', 'saint seiya: the lost canvas', 'chamatkar', 'classic legends', 'command and control', 'kabhi haan kabhi naa', 'lovesong', 'natascha kampusch: the whole story', 'ram jaane', 'sin senos no hay paraíso', 'smash: motorized mayhem', \"the devil's mistress\", 'the intent', 'attacking the devil: harold evans and the last nazi war crime', 'backdraft 2', 'killer cove', 'revisions', 'still laugh-in: the stars celebrate', 'weed the people', 'the hunt', 'malibu rescue', 'norm of the north: keys to the kingdom', 'ali wong: hard knock wife', 'wild oats', 'merata: how mum decolonised the screen', 'the defected', 'spivak', 'all hail king julien: exiled', 'get me roger stone', 'mindhorn', 'sahara', 'dry martina', 'shéhérazade', 'the great magician', 'the jungle book', 'carlos ballarta: furia ñera', 'evil genius', 'the kissing booth', 'the who was? show', 'bheemayan', 'chhota bheem aur kaala yodha', 'chhota bheem ka romani adventure', 'chhota bheem ka troll se takkar', 'in family i trust', 'jailbirds', 'pose', 'the princess weiyoung', 'the society', 'wine country', 'aiyyaa', 'bbuddah hoga terra baap', 'gabbar is back', 'madras café', 'michael', 'the adventure club', 'the apostate', 'russell madness', 'american experience: the island murder', \"dr. seuss' the cat in the hat\", 'familiye', 'hidden in plain sight', 'john & yoko: above us only sky', 'kia and cosmos', 'kill hitler! the luck of the devil', 'knock down the house', 'le serment des hitler', 'munafik 2', 'robin hood: the rebellion', 'roswell, new mexico', 'snowpiercer', 'sur sapata', 'teenage mutant ninja turtles', 'the dark crystal', 'the kindness diaries', 'two graves', '27, el club de los malditos', '27: gone too soon', 'abhinetri', 'ajji', 'anjaan: special crimes unit', 'boys over flowers', 'cia: comrade in america', 'coffee for all', 'darc', 'despido procedente', \"god's own country\", 'gurgaon', 'hombanna', 'iris', \"jewel's catch one\", 'john mulaney: kid gorgeous at radio city', 'khan: no. 1 crime hunter', 'le k benzema', 'love ni bhavai', 'love rain', 'mere papa hero hiralal', 'my perfect romance', 'nibunan', 'onaatah', 'pocoyo & cars', 'pocoyo & the space circus', 'pocoyo carnival', 'pocoyo halloween: space halloween', 'pocoyo halloween: spooky movies', 'pocoyo special sports', 'queens of comedy', 'ringan', 'roberto saviano: writing under police protection', 'simon', 'sometimes', 'spiritual house', 'swami baba ramdev: the untold story', 'the carter effect', 'the clapper', 'toc toc', 'tremors 6: a cold day in hell', 'waiting', 'withdrawn', 'a kind of murder', 'a yellow bird', 'abby sen', 'bittoo boss', 'bombay talkies', 'boss', 'budhia singh: born to run', 'chaahat', 'chashme buddoor', \"defying the nazis: the sharps' war\", 'dharam sankat mein', \"don't think twice\", 'drishyam', 'english babu desi mem', 'fire in the blood', 'gollu aur pappu', 'halo legends', 'harry benson: shoot first', 'he even has your eyes', 'in the shadow of iris', 'inkaar', 'japanese style originator', 'jfk: the making of a president', 'kiss & cry', 'loev', 'losing sight of shore', 'mary kom', 'maya angelou: and still i rise', 'moh maya money', 'mostly sunny', 'mumbai delhi mumbai', 'oh my god', 'one by two', 'pyaar ka punchnama', 'pyaar ka punchnama 2', 'queen', 'raja hindustani', 'saeed mirza: the leftist sufi', 'shaitan', 'special 26', 'tanu weds manu', 'the next skin', 'what the fish', 'yamla pagla deewana 2', 'mark gatiss: a study in sherlock', 'palm trees in the snow', 'terra', 'apollo 18', 'a.i.c.o.', 'collateral', 'meditation park', 'the outsider', 'match', 'peter and the farm', 'the sunshine makers', 'the young offenders', 'thithi', 'zinzana', 'after life', 'bangkok love stories: hey you!', 'blue jasmine', 'champions', 'disappearance', 'formula 1: drive to survive', 'hajwala 2: mysterious mission', 'immortals', \"jojo's bizarre adventure\", 'juanita', 'lady j', 'shadow', 'spy kids 2: the island of lost dreams', 'the confrontation', 'the imaginarium of doctor parnassus', 'the jane austen book club', 'walk. ride. rodeo.', 'bad guys: vile city', 'ladies first', 'the waterboy', 'doubt', 'nappily ever after', 'sisterakas', 'starting over again', 'that thing called tadhana', 'the love affair', 'the order', 'aftershock', 'bullet head', 'amy schumer: the leather special', 'halo: the fall of reach', 'american crime story: the people v. o.j. simpson', 'the assassination of gianni versace', 'aliens ate my homework', 'benji', 'benji: off the leash', 'borderliner', 'for the love of benji', 'gad elmaleh: american dream', 'gook', 'aziz ansari live at madison square garden', 'my own man', 'a korean odyssey', 'bedtime stories', 'caregiver', 'christopher robin', 'the hard way', 'f the prom', 'everyday i love you', 'i am', 'kid kulafu', 'my only mother', 'no other woman', 'the dawn wall', 'expedition china', 'employee of the month', 'maggie & bianca: fashion friends', 'mercy black', 'the burial of kojo', 'trailer park boys: the animated series', 'bure kaam bura natija, kyun bhai chacha haan bhatija', 'dandy', 'revolt', 'th eena meena deeka chase comedy show', 'bottom of the world', 'bridget christie: stand up for her', 'firstborn', 'five came back', 'glow: the story of the gorgeous ladies of wrestling', 'hiroshima: the real history', 'know your enemy - japan', 'let there be light', 'london spy', 'monkey planet', 'nazi concentration camps', 'north & south', 'prelude to war', 'san pietro', 'the battle of midway', 'the discovery', 'the fear', 'the great train robbery', 'the memphis belle: a story of a\\nflying fortress', 'the murder detectives', 'the negro soldier', 'thunderbolt', 'tunisian victory', 'undercover: how to operate behind enemy lines', 'why we fight: the battle of russia', 'wild alaska', 'wild arabia', 'wwii: report from the aleutians', 'covered: alive in asia', 'jack taylor', 'pablo', 'แผนร้ายนายเจ้าเล่ห์', 'first match', 'happy anniversary', 'legend of the naga pearls', 'rapture', 'sofía niño de rivera: selección natural', 'the titan', 'trailer park boys: countdown to liquor day', 'trailer park boys: the movie', 'trump: an american dream', 'backcountry', 'colkatay columbus', 'officer downe', 'exit strategy', 'middle school: the worst years of my life', 'i am me!', '15-aug', 'bayonet', 'bitter daisies', 'osmosis', 'the bleeder', 'the highwaymen', 'the legend of cocaine island', 'the terminal', 'traitors', 'tucker and dale vs. evil', 'wolves', 'all american', 'ollie & moon', 'jo koy: live from seattle', 'danur: i can see ghosts', 'verses of love', 'ég man þig', 'james acaster: repertoire', 'blood money', 'nate bargatze: the tennessee kid', 'birdshot', 'sei', \"the eagle of el-se'eed\", 'kung fu panda: secrets of the scroll', 'superlopez', 'monster high: haunted', 'red trees', 'felipe neto: my life makes no sense', 'the c word', 'the most hated woman in america', 'drugs, inc.', \"i don't know how she does it\", 'oversize cops', 'day and night', 'game over, man!', 'layla m.', 'pablo escobar: angel or demon?', 'paradox', 'requiem', 'roxanne roxanne', 'secret superstar', 'welcome to new york', \"charlie's colorforms city\", 'crime diaries: the candidate', 'delhi crime', 'mirage', 'most beautiful thing', 'remastered: the miami showband massacre', 'selling sunset', 'the 10 sins', 'the dirt', 'the rolling stones: olé olé olé! a trip across latin america', 'antoine griezmann: the making of a legend', 'bo on the go!', 'stay tuned!', 'the amazing praybeyt benjamin', 'the super parental guardians', 'the third party', 'the unmarried wife', 'the wedding curse', 'vince and kath and james', 'conor mcgregor: notorious', 'another forever', 'dave chappelle', 'fire at sea', 'sacro gra', 'a.x.l.', 'alexis viera: a story of surviving', 'feb-09', 'imago', \"my husband won't fit\", \"100 years: one woman's fight for justice\", 'juana brava', 'one-punch man', 'contract', 'dear dad', \"river's edge\", 'sarkar', 'sarkar', 'saving mr. banks', 'the guild', 'wakefield', 'war chhod na yaar', 'weapon of choice', 'zubaan', 'b: the beginning', 'flint town', 'malena pichot: estupidez compleja', 'natalia valdebenito: el especial', 'ravenous', 'danny says', 'the salvation', 'for grace', 'amy schumer growing', 'social animals', \"tinker'\", 'in search of fellini', 'monkey up', 'all about nina', 'best worst thing that ever could have happened', 'train to busan', 'he never died', 'jimmy carr: funny business', 'my beautiful broken brain', \"pee-wee's big holiday\", '5 flights up', 'green door', 'deidra & laney rob a train', \"julie's greenroom\", \"naledi: a baby elephant's tale\", 'pandora', 'samurai gourmet', 'a separation', 'benji', 'edha', 'take your pills', 'wild wild country', 'yoo byung jae: too much information', '5 to 7', 'coraline', 'hotel beau séjour', 'howards end', 'the hollow point', 'the riot club', 'chicken little', 'bombairiya', 'burn out', 'chief daddy', 'edoardo ferrario: temi caldi', 'g-force', 'girl', \"if i hadn't met you\", 'jeff dunham: arguing with myself', 'jeff dunham: controlled chaos', 'jeff dunham: minding the monsters', \"jeff dunham's very special christmas special\", 'kung fu hustle', 'late life: the chien-ming wang story', 'love, death & robots', 'my pride', 'paskal', 'the disappearance of madeleine mccann', 'the lives of others', 'the student', 'top 10 secrets and mysteries', 'turn up charlie', 'twinsanity', 'bilu rakkhosh', 'chal dhar pakad', 'ek cup chya', 'haapus', 'in this corner of the world', 'irada pakka', 'jag älskar dig: en skilsmässokomedi', 'khotey sikkey', 'kills on wheels', 'lalbaug parel: zali mumbai sonyachi', 'little lunch: the halloween horror story', 'little lunch: the nightmare before graduation', 'mango dreams', 'martyrs of marriage', 'mystery science theater 3000', 'pizza, birra, faso', 'ranbhool', 'rishta.com', 'satrangi re', 'secret of the nile', 'sthaniya sambaad', 'tabula rasa', 'the art of loving', 'asoka', 'bon cop, bad cop', 'les bleus - une autre histoire de france, 1996-2016', 'namour', 'notes on blindness', 'one 2 ka 4', 'ottaal', 'sunrise', 'marvel & espn films present: 1 of 1: genesis', \"oscar's oasis\", '12 round gun', 'a love story', 'barcelona: a love untold', 'everything about her', 'finally found someone', 'seven sundays', 'steel rain', 'angry indian goddesses', 'cheer squad', 'jim norton: mouthful of shame', 'ken burns: the west', 'more to say', 'the land of hypocrisy', 'triple frontier', 'children of the whales', 'ricky gervais: humanity', 'stretch armstrong: the breakout', 'a man called god', 'cain and abel', 'jimmy carr: the best of ultimate gold greatest hits', 'kygo: live at the hollywood bowl', 'troy: the odyssey', 'eugenie nights', 'this evening', 'bad match', 'bitch', 'netflix presents: the characters', 'nails', 'septiembre, un llanto en silencio', '100 meters', 'bana masal anlatma', 'berlin kaplani', 'buddy thunderstruck', 'burning sands', 'çarsi pazar', 'çok filim hareketler bunlar', 'dedemin fisi', 'deliha', 'düğün dernek', 'dügün dernek 2: sünnet', 'eyyvah eyyvah', 'eyyvah eyyvah 2', 'eyyvah eyyvah 3', 'g.o.r.a', 'hayat öpücügü', 'hokkabaz', 'hükümet kadin', 'hükümet kadin 2', 'incir receli 2', 'kara bela', 'kocan kadar konus', 'kocan kadar konus 2: dirilis', 'kurtulus son durak', 'mucize', 'niyazi gül dörtnala', 'one more time', 'patron mutlu son istiyor', 'refugee', 'romantik komedi', 'romantik komedi 2: bekarlığa veda', 'sadece sen', 'sen kimsin?', \"the boss's daughter\", \"the butterfly's dream\", 'vizontele', 'vizontele tuuba', '2,215', 'an interview with god', \"bnk48: girls don't cry\", 'budapest', 'christmas in the smokies', 'cricket fever: mumbai indians', 'crouching tiger, hidden dragon', 'dead in a week (or your money back)', 'doomsday preppers', 'haunting on fraternity row', 'hulk vs.', 'junebug', 'kilo two bravo', 'layer cake', 'losers', 'northern rescue', 'pants on fire', 'paranormal investigation', 'radio rebel', 'room for rent', 'sarvam thaala mayam (tamil version)', 'the boy who harnessed the wind', 'the christmas project', 'the incredible story of the giant pear', 'the last runway', 'the spiderwick chronicles', 'thirteen terrors', 'tyson', 'wet hot american summer', \"winter's bone\", 'your son', '21 thunder', \"2307: winter's dream\", 'adel karam: live from beirut', 'ai weiwei: never sorry', 'aitraaz', 'bachelor girls', 'balu mahi', 'battle drone', 'boom', 'company', 'darr sabko lagta hai', 'deathgrip', 'dil se', 'dum', 'elles étaient en guerre 1939-1945', 'grand masti', 'guru', 'hamara dil aapke paas hai', 'hans zimmer: live in prague', 'haseena maan jaayegi', 'hide & seek', 'inconceivable', 'insan', 'iqbal', 'ishqedarriyaan', 'issaq', 'judwaa 2', 'kaakan', 'kalki', 'kanika', 'khalnayak', 'khushi', 'kyun! ho gaya na', 'la 92', 'laal rang', 'love beats rhymes', 'mahi way', 'monster high 13 wishes', 'monster high: ghouls rule', 'no entry', 'pardes', 'pitaah', 'pukar', 'rahasya', 'run', 'samarppanam', 'schubert in love', 'shakti: the power', 'shanghai', 'shararat', 'shaurya: it takes courage to make right... right', 'shubh aarambh', 'shuddhi', 'solo', 'something huge', 'super nani', 'swades', 'swearnet live', 'taal', 'tarif de nuit', 'teen patti', 'the pirates of somalia', 'the plan', 'the shaukeens', 'the silence', 'the silence', 'tope: the bait', 'trailer park boys live at the north pole', \"trailer park boys live in f**kin' dublin\", 'trailer park boys: say goodnight to the bad guys', 'trailer park boys: xmas special', 'trimurti', 'true to the game', 'tu hai mera sunday', 'welcome 2 karachi', 'y.m.i.: yeh mera india', 'yaadein', 'yuva', '9 months that made you', 'beak & brain: genius birds from down under', 'beary tales', 'chandani: the daughter of the elephant whisperer', \"earth's natural wonders\", 'forces of nature', \"india: nature's wonderland\", 'islands of the future', 'koko: the gorilla who talks', 'love is in the air', 'my honor was loyalty', 'nature: natural born hustlers', 'nature: raising the dinosaur giant', 'nila', 'revelations', 'servant of the people', 'supernature: wild flyers', 'sustainable', 'tiger', 'tong: memories', 'ugly', 'vikings unearthed', 'blue mountain state: the rise of thadland', 'hot bot', \"it's now or never\", 'retribution', 'your lie in april', 'my only love song', 'shimmer lake', 'beneath the leaves', 'berlin, i love you', 'equilibrium', 'alex strangelove', \"ali's wedding\", 'franco escamilla: por la anécdota', 'the hollow', 'the staircase', 'hypersomnia', 'belmonte', 'elisa & marcela', 'i am mother', 'luka chuppi', 'pachamama', 'rock my heart', 'stree', 'super monsters monster pets', 'tales of the city', 'the black godfather', 'the push', 'b.a. pass', 'yom', 'a perfect man', 'alles ist gut', 'best neighbors', 'cabin fever', 'christian mingle', 'everybody knows', 'farce', \"freezer's campaign\", 'from japan to egypt', 'immoral tales', \"it's okay, buddy\", 'ms. mammy', 'sameer abu alneel', 'step outside', 'the republic of imbaba', 'the thief and the imbecile', 'a silent voice', 'dolphin kick', \"dr. seuss' the grinch\", 'jiro dreams of sushi', 'would you rather', 'thor: ragnarok', 'suite française', 'the wishing tree', 'cosmos laundromat: first cycle', 'miranda sings live…your welcome', 'silent', 'the men who stare at goats', 'bangkok bachelors', 'the lamb', 'inhuman kiss', 'night moves', 'romeo akbar walter', 'bill burr: you people are all the same', 'mohawk', 'somewhere between', 'the maus', 'footprints: the path of your life', 'gypsy', 'the house on coco road', '(t)error', 'palio', 'malibu rescue: the series', 'acapulco la vida va', 'headshot', 'three', 'tunnel', 'bo burnham: make happy', 'pierre jackson', 'super deluxe', 'calibre', 'churchill’s secret agents: the new recruits', 'jani dueñas: grandes fracasos de ayer y hoy', 'kiss me first', 'los 10 años de peter capusotto', 'penalty kick', 'recovery boys', 'tau', 'the forest', 'ralphie may: imperfectly yours', '20th century women', '7seeds', 'el testigo', 'exhibit a', 'family business', 'la leyenda del diamante', 'staged killer', 'super bheem', 'tales of the city (1993)', 'the chosen one', 'birthmarked', 'okja', 'anima', 'answer for heaven', 'daniel sosa: maleducado', 'skydancers', \"chris d'elia: man on fire\", 'hikaru utada laughter in the dark tour 2018', 'kahaani', 'spider-man: into the spider-verse', 'the golem', 'unbroken', 'hotel transylvania', 'star wars: episode viii: the last jedi', 'w. kamau bell: private school negro', 'i am michael', 'neruda', 'what happened, miss simone?', 'mike epps: only one mike', 'recall', 'tottaa pataaka item maal', 'borges', 'expelled from paradise', 'kaabil', 'to each, her own', 'bruno and boots: go jump in the pool', \"bruno and boots: this can't be happening at macdonald hall\", 'justin time go!', 'sofía niño de rivera: exposed', 'the fundamentals of caring', 'the long goodbye: the kara tippetts story', 'hungerford', 'life sentence', 'tarzan', 'the darkest dawn', 'yoko', 'yoko and his friends', 'american anarchist', 'nobody speak: trials of the free press', 'tarzan 2', 'you get me', 'advantageous', \"salem: his sister's father\", 'triple threat', 'brain on fire', 'cooking on high', 'derren brown: miracle', 'us and them', 'bokeh', 'xx', 'blood will tell', 'bolívar', 'evangelion: death (true)²', 'good luck', 'melodies of life - born this way', 'mr. iglesias', 'neon genesis evangelion', 'the end of evangelion', 'dangal', 'an upper egyptian', 'bewildered bolbol', 'rakkhosh', 'reaction', 'the chord', 'the player', \"the wolf's call\", 'three-quarters decent', 'unruly friends', 'the vietnam war: a film by ken burns and lynn novick', 'amar akbar & tony', 'puss in book: trapped in an epic tale', 'rory scovel tries stand-up for the first time', 'life story', 'arthdal chronicles', 'good night, and good luck', 'krutant', 'the duel', \"the king's speech\", '1898: our last men in the philippines', 'crashing', 'lucid dream', 'the homecoming', 'hibana: spark', 'beats', 'memory games', 'running for grace', 'the edge of democracy', 'vs.', 'hannah gadsby: nanette', 'the underwear', 'the incident', 'adam devine: best time of our lives', 'antariksha ke rakhwale', 'big kill', 'bob lazar: area 51 & flying saucers', 'dragonkala ka rahasya', 'samudri lootere', 'super bheem bana vajraveer', 'the wrong babysitter', 'club de cuervos presents: the ballad of hugo sánchez', 'encerrados', 'love rhythms - accidental daddy', 'ip man 3', 'the stanford prison experiment', 'cop car', 'right here right now', 'counterpunch', 'the real miyagi', 'what the health', '3 seconds divorce', 'charité at war', 'kill la kill', 'life overtakes me', 'luckee', 'monopoly (the bank of luck)', 'pihu', 'puella magi madoka magica', 'somewhere only we know', 'the alcàsser murders', 'unit 42', 'chronicle of an escape', 'lego house - home of the brick', 'lust stories', 'maktub', 'pacificum: return to the ocean', 'set it up', \"sunday's illness\", 'the last hour', 'true: magical friends', 'true: wonderful wishes', 'cave', 'kanavu variyam', 'marco luque: tamo junto', 'mr. gaga: a true story of love and dance', 's is for stanley', 'the russian revolution', 'the pirate fairy', 'awake: the million dollar game', 'dj cinderella', 'leila', 'murder mystery', 'trinkets', 'yankee', 'cutie and the boxer', 'convict', 'flimflam', 'jinn', 'oprah presents when they see us now', 'savage raghda', 'the 3rd eye 2', \"the ant's scream\", 'the cell', 'the right one', 'dragonheart: battle for the heartfire', 'oh, hello on broadway', 'reincarnated', \"jo koy: comin' in hot\", 'rolling thunder revue: a bob dylan story by martin scorsese', 'a new capitalism', 'my daddy is in heaven', 'ralph breaks the internet: wreck-it ralph 2', 'upin & ipin', '28 moons', 'daughters of the dust', 'havenhurst', 'magic phone', 'man to man', 'my little baby', 'singles villa', 'sword master', 'under the black moonlight', '#selfie', '#selfie 69', '10,000 b.c.', '50/50', 'a thousand goodnights', 'bullitt county', 'carrie', 'falsa identidad', 'iii smoking barrels', 'life in the doghouse', 'love is a story', 'oh, ramona!', 'prosecuting evil: the extraordinary world of ben ferencz', 'righteous kill', 'satan & adam', 'small soldiers', 'the box', 'the phantom of the opera', 'the space between us', 'then came you', 'we are legends', 'what a girl wants', 'b.a. pass 2', 'bad genius', 'bobbi jene', 'gabru: hip hop revolution', 'he named me malala', 'miracle', 'national treasure', 'natsamrat - asa nat hone nahi', 'november 13: attack on paris', 'outside in', 'pedal the world', 'singularity', 'aashik awara', 'amelia: a tale of two sisters', 'betting on zero', 'burlesque: heart of the glitter tribe', 'catfight', \"chingo bling: they can't deport us all\", \"devil's bride\", 'fear files... har mod pe darr', 'how the grinch stole christmas', 'how to stage a coup', 'jackie: a tale of two sisters', 'jhansi ki rani', 'lens', 'little boxes', 'love.com', 'maya memsaab', 'michael lost and found', 'mind game', 'miniforce', 'oh darling yeh hai india', 'pablo escobar, el patrón del mal', 'power battle watch car', 'prince', 'qila', 'rab se sohna isshq', 'smoke & mirrors', 'the day will come', 'the dream job', 'the golden years with javed akhtar', 'the mitfords: a tale of two sisters', 'y tu mamá también', '72 cutest animals', '72 dangerous places to live', 'black man white skin', 'bob ross: beauty is everywhere', 'gentlemen and gangsters', 'spy time', 'the fear of 13', 'the heroes of evil', 'the perfect dictatorship', 'aziz ansari: right now', 'mary poppins returns', 'krishna balram', 'mr. sunshine', 'the invitation', 'the iron lady', '1 mile to you', 'diamond lover', 'king’s war', 'qin empire: alliance', 'take me', 'the legend of bruce lee', 'nsu german history x', 'monster high: scaris, city of frights', 'sicilian ghost story', '100 days of solitude', 'luciano mellera: infantiloide', 'the legacy of a whitetail deer hunter', 'the skin of the wolf', 'white fang', 'motu patlu: king of kings', 'speech & debate', 'brahman naman', 'in the dark', 'river, el más grande siempre', 'the legend of white snake', 'blue valentine', 'dharmakshetra', 'raja rasoi aur anya kahaniyan', 'stories by rabindranath tagore', 'cristina', 'skiptrace', 'sommore: chandelier status', 'vegas baby', 'bangkok love stories: innocence', 'ramen shop', 'the red sea diving resort', 'flying guillotine 2', 'reality of dream', 'the five venoms', 'wet hot american summer', '7 (seven)', 'all good ones get away', 'american hangman', 'whitney cummings: can i touch it?', 'holy man 2', 'holy man 3', 'the unborn child', 'loco love', 'the last czars', 'all the boys love mandy lane', \"felipe esparza: they're not going to laugh at you\", \"joan rivers: don't start with me\", 'katt williams: kattpacalypse', 'mission of honor', 'the croods', 'twelve forever', 'her', 'tallulah', 'da kath & kim code', 'kath & kimderella', 'the company men', 'the flying guillotine', 'the mansion', 'daughters of destiny', 'diana: 7 days that shook the world', 'the incredible jessica james', 'coco y raulito: carrusel de ternura', 'extinction', 'smoking', 'the bleeding edge', 'welcome to the family', '1st summoning', 'boi', 'eerie', 'fake or fortune?', 'girls with balls', 'guy martin: last flight of the vulcan bomber', 'love your garden', 'mary portas: secret shopper', \"monty don's french gardens\", \"monty don's italian gardens\", 'the exception', 'the son', 'amy', 'barely lethal', 'dark places', 'ex machina', 'man of tai chi', 'mississippi grind', 'mojave', 'pahuyut fighting beat', 'remember', 'slow west', 'the end of the tour', 'another life', 'bang rajan 2', 'my true friend', 'oh my ghost', 'oh my ghost 2', 'oh my ghost 4', 'parmanu: the story of pokhran', 'the holy man', 'train of the dead', 'waterschool', 'joe mande’s award-winning comedy special', 'lizzie borden took an ax', 'the great hack', 'iliza shlesinger: elder millennial', 'the warning', 'tusk', 'i called him morgan', 'victor', 'eurovision song contest', 'the competition', 'the devil and father amorth', 'inglourious basterds', 'my hotter half', 'storage wars: northern treasures', 'unfinished song', 'a most violent year', 'bolt', 'bewafaa', 'connected', 'd.l. hughley: contrarian', 'demetri martin: the overthinker', 'the beast stalker', 'the midas touch', 'the twins effect ii', 'twins mission', 'life after beth', 'revenge of the green dragons', 'city of tiny lights', 'internet famous', 'may you prosper', 'sexy central', 'amazing interiors', 'dark tourist', 'duck duck goose', 'father of the year', 'jimmy: the true story of a true idiot', 'nothing to lose', 'the captive', 'houston, we have a problem!', 'the most beautiful hands of delhi', 'dreamworks how to train your dragon legends', 'bangkok love stories: objects of affection', 'bangkok love stories: plead', 'designated survivor: 60 days', 'dance academy: the comeback', 'king of peking', 'black rose', '¡ay, mi madre!', 'iron cowboy: the story of the 50.50.50', '\\u200bsaint seiya: knights of the zodiac', 'typewriter', 'el club de los buenos infieles', 'katt williams: live', 'obvious child', 'room', 'say when', 'son of a gun', 'the rover', 'the stranger', 'rookie historian goo hae-ryung', 'secret obsession', 'short term 12', 'camarón revolution', 'camarón: the film', 'godzilla city on the edge of battle', \"aditi mittal: things they wouldn't let me say\", 'ari shaffir: double negative', 'theater of life', 'mauli', 'unrequited love', \"mary and the witch's flower\", 'uncertain glory', 'tig', 'bogda', 'frankenstein’s monster’s monster, frankenstein', 'jack of all trades', 'the break-up', 'the princess and the frog', 'we belong together', 'angel beats!', 'anohana: the flower we saw that day', 'god eater', 'granblue fantasy the animation', 'grizzy et les lemmings', 'love shot', 'a glimpse inside the mind of charles swan iii', 'enemy', 'esperando la carroza', 'froning: the fittest man in history', 'ginger & rosa', 'going for gold', 'locke', 'lucha: playing the impossible', 'spring breakers', 'stray bullet', 'tahaan', 'tango feroz', 'temporada de caza', 'the adderall diaries', 'the spectacular now', 'under the skin', 'amar', 'singh saab the great', 'vitti dandu', 'holidays', 'lusers', 'rebirth', 'tony robbins: i am not your guru', 'the physician', 'white christmas', 'blood & treasures', 'colonia', 'meteor garden', 'buddy thunderstruck: the maybe pile', 'chasing coral', 'to the bone', 'gridlocked', 'magi: adventure of sinbad', 'creep', 'plaire, aimer et courir vite', 'fatal destiny', 'how it ends', 'jim jefferies: this is me now', 'kevin hart: let me explain', 'romina', 'the signal', 'd.l. hughley: clear', 'my scientology movie', 'tom segura: completely normal', '4l', 'age gap love', 'ainsley eats the streets', 'black & privileged: volume 1', 'blown away', 'cities of last things', 'encounters with evil', 'extreme engagement', \"history's greatest hoaxes\", 'kidnapping stella', 'luis miguel - the series', 'mega food', 'megatruckers', 'money for nothing', 'one spring night', 'pili fantasy: war of dragons', 'point blank', 'smart people', 'taco chronicles', 'the milk system', 'true tunes', 'gonul', 'chhota bheem', 'family reunion', 'little singham bandarpur mein hu ha hu', 'parchís: the documentary', 'us and them', 'the battered bastards of baseball', 'sex doll', \"summer of '92\", 'chris tucker live', \"alice doesn't live here anymore\", 'dreamworks kung fu panda awesome secrets', 'flowering heart', 'frozen river', 'inkheart', 'inside the mind of a serial killer', 'katherine ryan: glitter room', 'kill the irishman', 'lady in the water', 'little monsters', 'mean dreams', 'mean streets', 'molang', 'next', 'nights in rodanthe', 'nova: bird brain', 'nova: black hole apocalypse', \"nova: building chernobyl's megatomb\", 'nova: chinese chariot revealed', 'nova: day the dinosaurs died', 'nova: death dive to saturn', 'nova: decoding the weather machine', 'nova: eclipse over america', 'nova: extreme animal weapons', 'nova: first face of america', 'nova: holocaust escape tunnel', 'nova: killer floods', 'nova: killer hurricanes', 'nova: killer volcanoes', 'nova: poisoned water', 'nova: prediction by the numbers', 'nova: secrets of the shining knight', 'nova: thai cave rescue', 'nova: the impossible flight', 'nova: ultimate mars challenge', 'paul blart: mall cop', 'philadelphia', 'rabbids invasion', 'race to witch mountain', 'rain man', 'record of grancrest war', 'room on the broom', 'scream 3', 'shorts', 'soul to keep', 'starsky & hutch', 'stone age', 'swiped', 'swordfish', 'taxi driver', 'tayo the little bus movie: mission ace', 'the accountant of auschwitz', 'the book of eli', 'the brothers grimm', 'the forbidden kingdom', 'the in-laws', 'the pink panther', 'titipo titipo', 'war against women', \"who's that knocking at my door?\", 'angamaly diaries', 'anthony kaun hai?', 'bo burnham: what.', 'cappuccino', 'chalte chalte', 'chicken kokkachi', 'comedy high school', 'counterfeiting in suburbia', 'daffedar', 'deewana main deewana', 'dream big: engineering our world', 'duck butter', 'gemini', 'i am kalam', 'kaviyude osyath', 'loving annabelle', 'ma chu ka', 'melvin goes to dinner', 'my birthday song', 'namastey london', 'our shining days', 'paathi', 'pareeth pandaari', 'paulettante veedu', 'paying guests', 'sarvopari palakkaran', 'secret', 'socha na tha', 'soul robbers', 'the feels', 'the music of silence', 'the redeemed and the dominant: fittest on earth', 'theeram', 'traitor', 'tum milo toh sahi', 'viswasapoorvam mansoor', 'we, the marines', 'what a wonderful family!', 'what we started', 'zoo', '1 chance 2 dance', '10 jours en or', '46', 'a 2nd chance', 'against the tide', 'albion: the enchanted stallion', 'amrapali', 'barbie life in the dreamhouse', 'black snow', 'breakout', 'bruno and boots: the wizzle war', 'deep water', 'hans teeuwen: real rancour', 'here alone', 'ho mann jahaan', 'lal patthar', 'learning songs by little baby bum: nursery rhyme friends', \"liar's dice\", 'momo salon', 'mystic whispers', 'players', 'professor', 'spice up', 'the invisible guest', 'the oath', 'the truth seekers', 'the ultimatum', 'tik tok', 'waar', 'world at your feet', 'wrong no.', 'yaar gaddar', 'yes we can!', 'yours fatefully', 'zipi & zape y la isla del capitan', 'deep', 'exit afghanistan', 'happyish', 'jim jefferies: freedumb', 'king jack', 'limitless', 'operation proposal', 'road to yesterday', 'stealing history', 'suicide (hitabdut)', 'the future of water', 'x: past is present', 'you carry me', 'bulletproof 2', 'speed is my need', 'godzilla the planet eater', 'next enti?', 'solo: a star wars story', 'solo: a star wars story (spanish version)', 'the monster', 'alien contact: outer space', 'the house next door', 'cheer', 'kurt & courtney', 'the conjuring', 'tundukkan playboy itu', 'tom segura: mostly stories', 'a ghost story', 'live twice, love once', 'the tourist', 'catwalk: tales from the cat show circuit', 'komola rocket', 'pahuna', 'miss sharon jones!', 'under the shadow', 'house of z', 'coin heist', 'growing up coy', 'lego: marvel super heroes: maximum overload', 'rustom', '3 heroines', '5 cowok jagoan', 'chaotic love poems', 'love you... love you not', 'mara', 'nang nak', 'soekarno', 'before i wake', 'devilman crybaby', 'don quixote: the ingenious gentleman of la mancha', 'back and forth', 'kraftidioten', 'rampage: president down', 'dracula', 'go! go! cory carson', 'and breathe normally', 'case closed', 'el potro: unstoppable', 'lionheart', 'see you in time', \"marvel's hulk: where monsters dwell\", 'agatha and the truth of murder', 'crime time', 'hantu kak limah', 'i dream of dance', 'love off the cuff', 'paprika', 'the gentleman driver', 'the hundred-foot journey', 'expedition happiness', 'bill burr: walk your way out', 'semana santa', 'maharaja: the story of ranjit singh', 'sat sri akal', 'swiss army man', 'the incredibles 2', 'the longshots', 'virsa', \"jerry seinfeld: i'm telling you for the last time\", 'monster high: freaky fusion', 'retribution', 'the lady in dignity', 'all the freckles in the world', 'deewangee', \"ferris bueller's day off\", 'occupation', 'pope francis: a man of his word', 'jen kirkman: just keep livin’?', 'ant-man and the wasp', 'bhasmasur', 'gabriel \"fluffy\" iglesias: one show fits all', 'high society', 'inside the mossad', 'up among  the stars', 'holy camp!', 'hostages', 'patient seventeen', 'the force', 'journey to greenland', 'alt-right: age of rage', 'habibie & ainun', 'nathicharami', 'rudy habibie', 'surga yang tak dirindukan', 'surga yang tak dirindukan 2', 'frozen planet', 'frozen planet: on thin ice', 'frozen planet: the epic journey', 'the making of frozen planet', 'a taiwanese tale of two cities', 'iboy', 'juana inés', 'shadow of truth', 'biggie & tupac', 'goyo: the boy general', 'a futile and stupid gesture', 'dirty money', 'fakkah fuzz: almost banned', 'mau nieto: viviendo sobrio… desde el bar', 'mune: guardian of the moon', 'sebastián marcelo wainraich', '13th: a conversation with oprah winfrey & ava duvernay', 'animas', 'black earth rising', 'examination of conscience', 'kingdom', 'mi obra maestra', 'polar', 'the perfect match', 'acts of vengeance', 'o silêncio do céu', 'conversations with a killer: the ted bundy tapes', 'hotel transylvania 3: summer vacation', 'just love', 'blockbuster', 'prison playbook', 'ricardo quevedo: hay gente así', 'the good catholic', 'cristela alonzo: lower classy', 'mitt', 'innocent', 'planet 51', 'iceman', 'my entire high school sinking into the sea', 'todd glass: act happy', 'gad gone wild', 'chelsea does', 'iliza shlesinger: freezing hot', 'countdown to death: pablo escobar', 'the traffickers', \"where's the money\", \"ricardo o'farrill abrazo genial\", 'justice', 'love and hong kong', 'caida del cielo', 'pink', 'take the 10', 'half girlfriend', 'sex, explained', 'thieves of the wood', 'déjà vu', 'monty python and the holy grail', 'haunters: the art of the scare', 'mustang island', 'the jack king affair', 'auschwitz: blueprints of genocide', 'harith iskander: i told you so', 'step sisters', 'the open house', 'good kids', 'the bling ring', 'close', 'fyre: the greatest party that never happened', 'io', 'lady-like', 'legends of strength', 'memory love', 'old lord savanna', 'patria', 'soni', 'strongland', 'trigger warning with killer mike', 'bad day for the cut', 'tiempos de guerra', 'enlighten us', 'a fall from grace', 'ares', 'nailed it! germany', 'arango y sanint: ríase el show', 'godzilla', 'neal brennan: 3 mics', \"roger corman's death race 2050\", 'şubat', 'the square', 'deadcon', 'get him to the greek', 'handsome siblings', 'hop', 'jezebel', 'legend', 'ninokuni', 'steve jobs', 'driven to dance', 'skyline', 'a serious man', 'dallas buyers club', 'katt williams: great america', 'flash of genius', 'the rezort', 'big fat liar', 'bulbul can sing', 'eye for an eye', 'killer inside: the mind of aaron hernandez', 'mindgamers', 'saving zoë', 'the brave', 'where the money is', 'abducted in plain sight', 'abdullah, the final witness', 'adhugo', 'chupan chupai', 'deadly switch', 'echcharikkai', 'la rosa de guadalupe', 'la viuda negra', 'lavender', 'only mine', 'pandigai', 'pari', 'revenger', 'sebastian maniscalco: stay hungry', 'the devil we know', 'the doll', 'the doll 2', 'a boy called po', 'alibaba aur 40 chor', 'down the fence', 'face 2 face', 'manolo: the boy who made shoes for lizards', 'one more shot', 'operation chromite', 'phir se', 'pyar ke do pal', 'rip tide', 'thong dee fun khao', 'unrest', 'urvi', 'berlin calling', 'harry and snowman', 'hostage to the devil', 'max rose', 'sarajevo', 'stereo', 'teenage cocktail', 'the similars', 'twisted trunk, big fat body', 'we are young. we are strong.', 'ip man', 'ip man 2', 'kipo and the age of wonderbeasts', 'leslie jones: time machine', 'the master', 'women of mafia 2', 'invisible essence: the little prince', 'la grande chaumière violette', 'camp x-ray', 'estar o no estar', 'little sister', 'the river thief', 'the healing powers of dude', 'the last face', '13 sins', 'baazaar', 'the fighter', 'aquarius', 'casablancas: the man who loved women', 'clinical', 'historia de un clan', 'betty white: first lady of television', 'made in china', 'becoming jane', \"he's out there\", 'milada', 'the man who would be polka king', 'the polka king', 'the reservoir game', 'tom segura: disgraceful', 'little men', 'very big shot', 'zoom', 'all of you', 'back with the ex', 'remastered: massacre at the stadium', 'sex education', 'solo', 'the last laugh', 'dayveon', 'aj and the queen', 'giri / haji', 'jamtara - sabka number ayega', 'medical police', 'monsters: dark continent', 'set up', 'sniper: special ops', 'the evil dead', 'until dawn', 'shaka zulu', 'when heroes fly', 'alejandro riaño: especial de stand up', 'in the deep', 'on yoga the architecture of peace', 'jim gaffigan: cinco', \"we're lalaloopsy\", '21', 'a cinderella story', 'alpha and omega: the legend of the saw tooth cave', 'american beauty', 'arthur christmas', 'aruna & her palate', 'as good as it gets', 'bad grandpa .5', 'because this is my first life', 'breaking the bank', 'catch me if you can', 'cells at work!', 'center stage', 'charlie and the chocolate factory', 'chasing amy', 'chhota bheem kung fu dhamaka series', 'chitty chitty bang bang', 'chloe', 'city of god', 'click', 'cloverfield', 'coach carter', 'dinner for schmucks', 'donnie brasco', 'dragonheart', 'dragonheart 3: the sorcerer', 'dragonheart: a new beginning', 'event horizon', 'fall girls', 'final destination', 'final destination 2', 'final destination 3', 'free willy', 'friday the 13th', 'garfield gets real', \"garfield's fun fest\", \"garfield's pet force\", 'ghost rider', 'ghost stories', 'godzilla', 'hairspray', 'harold & kumar go to white castle', 'hitch', 'hunt to kill', 'inception', 'instructions not included', 'jeff dunham: unhinged in hollywood', 'jimmy neutron: boy genius', 'julie & julia', 'kate & leopold', 'kill bill: vol. 1', 'kill bill: vol. 2', 'kingpin', 'kiss the girls', 'la bamba', \"legend of the guardians: the owls of ga'hoole\", 'live up to your name', \"luccas neto in: children's day\", 'magnolia', 'mandi', 'mansfield park', 'messiah', 'monster-in-law', 'moon', 'my girl', 'new york minute', 'nisman: the prosecutor, the president, and the spy', \"pan's labyrinth\", 'paranormal activity', 'patriot games', 'pokémon the movie: power of us', 'posesif', 'reply 1988', 'resident evil: afterlife', 'riot', 'road trip: beer pong', 'save me', 'scary movie', 'seal team six: the raid on osama bin laden', 'siren', 'sliver', 'snow day', 'spinning out', 'strictly ballroom', 'stuart little', 'stuart little 2', 'sweeney todd: the demon barber of fleet street', 'teenage mutant ninja turtles ii: the secret of the ooze', 'teenage mutant ninja turtles: the movie', 'terminator 3: rise of the machines', 'terminator salvation', 'the amityville horror', 'the bride of habaek', 'the circle', 'the craft', 'the crying game', 'the dukes of hazzard', 'the dukes of hazzard: the beginning', 'the final destination', 'the invention of lying', 'the lord of the rings: the return of the king', 'the lord of the rings: the two towers', 'the mask of zorro', 'the naked gun 2 1/2: the smell of fear', 'the naked gun: from the files of police squad!', 'the natural', 'the original kings of comedy', 'the peacemaker', 'the ring', 'the talented mr. ripley', 'tremors', 'tremors 2: aftershocks', 'tremors 3: back to perfection', 'tremors 4: the legend begins', 'tremors 5:  bloodline', 'true grit', 'up in the air', 'what lies beneath', 'wild wild west', 'willy wonka & the chocolate factory', 'wyatt earp', 'yes man', 'a perfect ending', 'across the universe', 'babel', 'back to the 90s', 'black hawk down', 'chappie', 'christmas with the kranks', 'daddy day care', 'gone are the days', 'good girls', 'hell or high water', 'indiana jones and the kingdom of the crystal skull', 'indiana jones and the last crusade', 'indiana jones and the raiders of the lost ark', 'indiana jones and the temple of doom', 'jay and silent bob strike back', 'jersey boys', 'kevyn aucoin: beauty & the beast in me', 'krystal', 'last night', 'lock, stock and two smoking barrels', 'merku thodarchi malai', 'mona lisa smile', 'moshe kasher: live in oakland', 'perfect stranger', 'pokémon the movie: i choose you!', 'pulp fiction', 'puriyatha puthir', 'taramani', 'tears of the sun', 'the boy in the striped pajamas', 'the crow', 'the pass', 'tidying up with marie kondo', 'trash', 'whitney cummings: money shot', 'xxx', 'xxx: state of the union', 'aajcha divas majha', 'aata pita', 'alphago', 'badha', 'camp cool kids', 'chittagong', 'devrai', 'dries', 'empire of scents', \"eve's apple\", 'fandry', 'fullmetal alchemist', 'functional fitness', 'green white green (and all the beautiful colours in my mosaic of madness)', 'happy hunting', 'heartthrob', 'hridaynath', 'hum aapke hain koun', 'hum saath-saath hain', 'ideachi kalpana', 'jora 10 numbaria', 'justin bieber: never say never', 'kay dyache bola', 'maacher jhol', 'maddman: the steve madden story', 'maine pyar kiya', 'martin luther: the idea that changed the world', 'maza pati karodpati', 'mi shivajiraje bhosale boltoy', 'monster high: escape from skull shores', 'monster high: friday night frights', 'monster high: fright on!', 'monster high: frights, camera, action!', 'monster high: why do ghouls fall in love?', 'not alone', 'now more than ever: the history of chicago', 'nymphomaniac: volume 1', 'planetarium', 'pokémon: indigo league', 'residente', 'sanai choughade', 'shahanpan dega deva', 'super dark times', 'the age of shadows', 'the arbitration', 'the damned rain', 'the frozen dead', 'the rehearsal', 'the trigger effect', 'the vault', 'time please', 'treasures from the wreck of the unbelievable', 'we speak dance', 'yanda kartavya aahe', 'a good wife', 'an american in madras', 'an innocent mistake', 'autohead', 'bee movie', 'ex-boyfriend', 'happy 300 days', 'headwinds', 'hurricane bianca', 'in between', 'radiopetti', 'saheb bibi golaam', 'the land of the enlightened', 'the rat race', 'to be a miss', 'udta punjab', 'what is love?', \"who's the one\", 'how to change the world', 'mighty morphin alien rangers', 'ninja turtles: the next mutation', 'power rangers dino thunder', 'power rangers in space', 'power rangers jungle fury', 'power rangers lightspeed rescue', 'power rangers lost galaxy', 'power rangers mystic force', 'power rangers ninja storm', 'power rangers operation overdrive', 'power rangers rpm', 'power rangers s.p.d.', 'power rangers samurai', 'power rangers samurai: christmas together, friends forever (christmas special)', 'power rangers samurai: clash of the red rangers', 'power rangers samurai: party monsters (halloween special)', 'power rangers super megaforce', 'power rangers super megaforce: the legendary battle (extended)', 'power rangers super samurai', 'power rangers super samurai: stuck on christmas', 'power rangers super samurai: trickster treat', 'power rangers time force', 'power rangers turbo', 'power rangers wild force', 'power rangers zeo', 'power rangers: megaforce', 'power rangers: megaforce: raising spirits', 'power rangers: megaforce: the robo knight before christmas', 'strawberry shortcake: berry bitty adventures', 'to and from new york', 'god bless the broken road', 'iron ladies', 'seeing allred', 'the ritual', 'the trader (sovdagari)', 'tientsin mystic', 'when we first met', \"don't knock twice\", 'high flying bird', 'incredibles 2 (spanish version)', \"kevin hart's guide to black history\", 'nailed it! mexico', 'remastered: the two killings of sam cooke', 'the tree of blood', 'unauthorized living', '6 days', 'blinky bill: the movie', 'happy times', 'jack and the cuckoo-clock heart', 'the pyramid code', 'lez bomb', 'the last of the schmucks', \"michael bolton's big, sexy valentine's day special\", 'di renjie zhi sidatianwang', 'the confirmation', 'fred armisen: standup for drummers', 'valor', 'welcome to willits', 'woody woodpecker', 'lila & eve', 'hidden worlds', 'live', 'ray romano: right here, around the corner', 'safe', 'tayee', 'violet evergarden', 'octb', 'princess cyd', 'the cloverfield paradox', 'thumper', 'naga the eternal yogi', 'star men', 'the lovers', 'hannibal buress: comedy camisado', 'el último testigo', 'the charnel house', 'french dirty', 'dinner for five', 'romance is a bonus book', 'daniel sosa: sosafado', 'imperial dreams', 'billy graham: an extraordinary journey', 'mine', 'quién te cantará', 'the rebound', 'big bear', '반드시 잡는다', 'be here now', 'mike birbiglia: thank god for jokes', 'people you may know', 'a second chance', 'beauty and the bestie', 'bride for rent', \"can't help falling in love\", 'evening shadows', 'four sisters and a wedding', 'girl, boy, bakla, tomboy', 'it takes a man and a woman', 'my ex & whys', 'rise: ini kalilah', \"she's dating the gangster\", 'the breakup playlist', 'the mistress', 'the only mother to you all', 'unsolved', 'you changed my life', \"you're my boss\", 'derren brown: the push', 'marlon wayans: woke-ish', 'force 2', 'ralphie may: unruly', 'our idiot brother', 'zach galifianakis: live at the purple onion', 'people you may know', 'the heyday of the insensitive bastards', 'the rift: the dark side of the moon', 'winnie', 'jonas', 'crouching tiger, hidden dragon: sword of destiny', 'the look of silence', 'blue ruin', 'dolphin tale 2', 'life of an outcast', 'veronica', 'dueños del paraíso', 'operações especiais', 'attack on titan', 'ghost pain', 'ghost tears', 'ghost whispers', \"i don't feel at home in this world anymore\", 'legend quest', 'the sound of your heart', 'marvel super hero adventures: frost fight!', 'the photographer of mauthausen', 'best lover', 'mute', 'seven seconds', 'timeline', 'ugly delicious', 'kill command', 'the lovers and the despot', 'bert kreischer: the machine', 'firebrand', 'paddleton', 'paris is us', 'shonar pahar', 'the prince', 'the unknown known', 'trespass against us', \"hitler's circle of evil\", 'ken burns: the civil war', 'ken burns: the roosevelts: an intimate history', 'magnus', 'prohibition: a film by ken burns and lynn novick', 'secrets of chatsworth', \"secrets of henry viii's palace: hampton court\", \"secrets of her majesty's secret service\", 'secrets of highclere castle', 'secrets of the tower of london', 'the war: a film by ken burns and lynn novick', 'the drug king', 'the intent 2: the come up', 'forgotten', 'lincoln', 'the bachelors', 'trevor noah: afraid of the dark', \"being elmo: a puppeteer's journey\", 'kevin james: sweat the small stuff', 'transformer', 'bugs', 'the breadwinner', 'mirzya', 'all light will end', 'await further instructions', 'manusangada', 'one strange rock', 'viking destiny', 'altered carbon', 'coach snoop', 'kavin jay: everybody calm down!', 'on body and soul', 'the bros', 'trash fire', 'postcards from london', 'spy kids: all the time in the world', 'the 2000s', 'a week in watts', 'dismissed', 'fullmetal alchemist', 'memoir of a murderer', '마녀사냥', 'boy missing', 'growing up wild', 'tini: the new life of violetta', 'cooked', 'gantz:o', 'abominable christmas', 'dear dracula', 'genius', 'the returned', 'blood money', 'brave miss world', 'india', 'kill ratio', 'love for ten: generation of youth', 'madaari', 'rocky handsome', 'te3n', 'black sea', 'studio 54', 'the super', 'agustín aristarán: soy rada', 'everything sucks!', 'irreplaceable you', 'kon kon kon', 'milk', 'operator', \"marvel's iron man & hulk: heroes united\", 'alone in berlin', 'among family', 'anchor and hope', 'awe', 'ayana', 'behind the curve', 'buddies', 'candyflip', 'chameli', 'deadly scholars', 'fatso', 'hjørdis', \"larry charles' dangerous world of comedy\", 'my travel buddy', 'neevevaro', 'never heard', 'outlawed', 'pyaar ke side effects', 'sur: the melody of life', 'the 43', 'the breaker upperers', 'the detained', 'the kirlian frequency', 'the umbrella academy', 'ugly aur pagli', \"you're everything to me\", 'yucatán', 'asura: the city of madness', 'daagdi chaawl', 'fakta ladh mhana', 'matichya chuli', 'morya', 'powder', 'premachi goshta', 're:mind', 'sakhi', 'sarivar sari', 'solomon kane', 'tukaram', 'zenda', 'a heavy heart', 'aram, aram', 'la coppia dei campioni', 'nightmare high', 'rush: beyond the lighted stage', 'spark', 'the fury of a patient man', 'the memory of water', 'stop at nothing: the lance armstrong story', 'dating around', 'grass', 'ken jeong: you complete me, ho', 'chris rock: tamborine', 'love per square foot', 'the mortified guide', \"girlfriend's day\", 'katherine ryan: in trouble', 'me and the alien', 'white nights', 'sister code', 'merantau', 'trophy', 'virunga: gorillas in peril', 'period. end of sentence.', 'ten years', 'clouds of sils maria', 'we the animals', 'stronger than the world', 'cyborg 009: call of justice', 'david brent: life on the road', 'grillo vs grillo', 'hitler - a career', 'metallica: some kind of monster', '14 minutes from earth', 'about a boy', 'always a witch', 'beast legends', 'billy elliot', 'camp x', 'cats & dogs: the revenge of kitty galore', 'dear ex', 'e-cigarettes: miracle or menace?', \"free rein: valentine's day\", 'guilty', 'harold shipman - driven to kill', 'have you seen the listers?', 'heal', 'hunters of the south seas', 'lego dc comics: batman be-leaguered', 'lego friends: girls on a mission', 'lego marvel super heroes: black panther', 'lego marvel super heroes: guardians of the galaxy', 'lego ninjago: masters of spinjitzu: day of the departed', 'lo que la verdad esconde: el caso asunta (operacion nenúfar)', 'malicious', 'my tattoo addiction', 'ninja assassin', 'operation gold rush', 'personal shopper', 'russian doll', 'sparta', 'sword art online alternative: gun gale online', \"the bible's buried secrets\", 'the big catch', 'the bomb squad', 'the edge of seventeen', 'the story of us with morgan freeman', 'the witch files', 'truckbhar swapna', 'true: happy hearts day', 'velvet buzzsaw', 'what makes a psychopath?', 'why are we getting so fat?', \"world's busiest cities\", \"world's weirdest homes\", '42 grams', 'æon flux', 'before the flood', 'emo the musical', 'gender revolution: a journey with katie couric', 'how the beatles changed the world', 'inxeba', 'john mellencamp: plain spoken', 'liberated: the new sexual revolution', 'little lunch', 'master', 'mortified nation', 'national parks adventure', 'newness', 'paint it black', 'revolting rhymes', 'the code', 'water & power: a california heist', 'camelia la texana', 'chauthi koot', 'dilwale', 'gun runners', 'happy new year', 'haraamkhor', 'heroes wanted', 'highly strung', 'i am sun mu', 'indiscretion', 'la última fiesta', 'maroon', 'mexico diseña', 'paris is burning', 'pioneers of african-american cinema', 'the hurt business', 'the reconquest', 'zapped', \"masha's tales\", 'the lizzie borden chronicles', 'a family reunion christmas', 'it comes at night', 'entanglement', 'captive', 'four seasons in havana', \"mariah carey's merriest christmas\", 'spectral', 'white rabbit project', 'trailer park boys: drunk, high and unemployed: live in austin', 'from paris with love', 'saaho', 'because of soccer', 'the art of the steal', 'the dancer', 'the gathering', \"what's up with love?\", 'delhi belly', 'dhobi ghat (mumbai diaries)', 'el camino christmas', 'jaal', 'jaane tu... ya jaane na', 'lagaan', 'papa the great', 'peepli live', 'shikari', 'taare zameen par', 'the oath', 'kickboxer: vengeance', 'miss in kiss', 'other people', 'the cuba libre story', 'imagine that', 'nothing to lose 2', '5 star christmas', 'dogs of berlin', \"dumplin'\", 'free rein: the twelve neighs of christmas', 'mowgli: legend of the jungle', 'pine gap', 'remastered: who killed jam master jay?', 'super monsters and the wish star', 'the american meme', 'the secret', 'astronomy club: the sketch show', 'banana island ghost', 'celebrity marriage', 'glow up', 'marriage story', 'no game no life: zero', 'slow country', 'spirit riding free: spirit of christmas', 'teasing master takagi-san', 'the confession killer', 'the rum diary', 'three days of christmas', 'triad princess', 'virgin river', 'wives on strike', 'wives on strike: the revolution', 'happy!', 'yes or no', 'trolls holiday special', 'blue jay', 'one in a billion', 'reggie watts: spatial', 'the model', 'a christmas prince: the royal baby', 'home for christmas', 'the irishman: in conversation', 'v wars', 'breath', 'cleo & cuquin', 'the last o.g.', 'craig ferguson: tickle fight', 'the good neighbor', \"bill burr: i'm sorry you feel that way\", \"let's dance\", 'the prince of tennis ~ match! tennis juniors ~', 'the road to love', \"god's not dead: a light in darkness\", 'russell brand: re:birth', 'the cakemaker', 'mercenary', 'a very murray christmas', '3 deewarein', 'aarakshan', 'aaviri', 'adrishya', 'ahista ahista', 'albert pinto ko gussa kyun aata hai?', 'amar akbar anthony', 'anwar', \"arashi's diary -voyage-\", 'barah aana', 'bawarchi', 'bazaar', 'benchwarmers 2: breaking balls', 'bhagam bhag', 'bhoot', 'bobby', 'carrie', 'chal mere bhai', \"child's play\", 'chupke chupke', 'deadline: sirf 24 ghante', 'dhamaal', 'die another day', 'don', 'encounter: the killing', 'ghayal', 'ghulam-e-musthafa', 'gol maal', 'goldeneye', 'golmaal: fun unlimited', 'heartbreakers', 'hera pheri', 'how high 2', \"jaan-e-mann: let's fall in love... again\", 'jail', 'jis desh men ganga behti hai', 'john day', 'judwaa', 'kaalia', 'katha', 'khubsoorat', 'koshish', \"kuldip patwal: i didn't do it!\", 'maine pyaar kyun kiya', 'masoom', 'mujhse shaadi karogi', 'namak halaal', 'phamous', 'phullu', 'pucca: love recipe', 'rainbow ruby', 'rajnigandha', 'ram teri ganga maili', 'ramji londonwaley', 'red dawn', 'road to sangam', 'saath saath', 'sadma', 'sangam', 'satte pe satta', 'shiva', 'swami', 'the dark side of life: mumbai city', 'the great gambler', 'the neighbor', 'the world is not enough', 'tomorrow never dies', 'traffic signal', 'trikal (past, present, future)', 'union leader', 'veerey ki wedding', 'vodka diaries', 'yanxi palace: princess adventures', 'zed plus', 'bill hicks: one night stand', 'bill hicks: reflections', 'bill hicks: relentless', 'bill hicks: revelations', 'bill hicks: sane man', 'conan without borders', 'for the win', 'gina yashere: laughing to america', 'gina yashere: skinny b*tch', 'inst@famous', 'mexicanos de bronce', 'sam kinison: breaking the rules', 'sam kinison: family entertainment hour', 'sam kinison: live in vegas', 'sam kinison: the scream continues', 'secrets in the hot spring', \"slobby's world\", 'taylor swift reputation stadium tour', 'the bill murray stories: life lessons learned from a mythical man', 'the seven deadly sins the movie: prisoners of the sky', 'tim allen: men are pigs', 'tim allen: rewires america', 'tim minchin and the heritage orchestra live', 'tim minchin: so f**king rock', 'todd glass: stand-up special', 'tom papa live in new york city', 'bat pat', 'blurred lines: inside the art world', 'born strong', 'dave chappelle: equanimity & the bird revelation', 'el chavo', 'elles étaient en guerre (1914-1918)', 'elles ont toutes une histoire', 'fun mom dinner', 'geronimo stilton', 'ghost house', 'lo que la vida me robó', 'numbered', 'rebelde', 'rubi', 'teresa', 'twice', 'you can tutu', 'dog eat dog', 'mr. pig', 'battle creek', 'the disastrous life of saiki k.: reawakened', 'after porn ends 3', 'anesthesia', 'pioneers: first women filmmakers*', 'the autopsy of jane doe', 'goon: last of the enforcers', 'my runway', 'the first temptation of christ', 'tiffany haddish: black mitzvah', 'war on everyone', 'wish man', 'blue planet ii', 'silencer', 'diary of a chambermaid', 'rezeta', 'lawless', 'in family we trust', 'la mante', 'shelter', 'the climb', 'the real football factories', 'wadi', 'shrek the musical', 'hot gimmick: girl meets boy', 'a twelve year night', 'avicii: true stories', 'black mirror: bandersnatch', 'hashoter hatov', 'life ki toh lag gayi', 'murder mountain', 'oasis: supersonic', 'rehmataan', 'selection day', 'the birth reborn 3', 'when angels sleep', 'the nsu-complex', 'fifty', 'blitz patrollie', 'el pepe, a supreme life', 'kevin hart: don’t f**k this up', 'the gift', 'the secret life of pets 2', 'the vendor', 'at first light', 'bibi & tina: tohuwabohu total', 'pusher', 'towies', 'chasing cameron', 'fast & furious spy racers', 'the app', 'the bonfire of destiny', 'left behind', 'the innocents', 'you', 'mr. roosevelt', 'todd barry: spicy honey', 'walk with me', 'ezel', 'kaçak', 'kurt seyit & sura', 'mahmut & meryem', 'marco polo: one hundred eyes', 'doom: annihilation', 'fireworks', 'grand-daddy day care', 'jarhead: law of return', 'mfkz', 'sweetheart', 'avengers: infinity war', 'backtrack', 'a gray state', 'part-time idol', 'planet earth ii', 'when hari got married', 'sammy & co', 'como caído del cielo', 'john mulaney & the sack lunch bunch', 'hi score girl', 'stand up and away! with brian regan', 'way back into love', 'ninja hattori', 'the little hours', 'watership down', 'creep 2', 'myths & monsters', '7:19', 'garfunkel and oates: trying to be special', 'lo and behold: reveries of the connected world', \"jacob's ladder\", \"demon's path\", 'i am vengeance', 'mr. church', 'single ladies senior', '72 dangerous animals: latin america', 'bright', 'madness in the desert', 'back of the net', 'lost in london', '7 days out', 'bad seeds', 'bird box', 'diablero', \"jojo's world\", 'lion pride', 'love @ seventeen', 'perfume', 'sirius the jaeger', 'struggle: the life and lost art of szukalski', 'the last hangover', 'what still remains', 'wolf', 'desire', 'figures of speech', 'fireplace 4k: classic crackling fireplace from fireplace for your home', 'fireplace 4k: crackling birchwood from fireplace for your home', 'agent', 'being mrs elliot', 'falz experience', 'iyore', 'the first lady', 'the two popes', 'the witcher', '2036 origin unknown', '23:59', 'aggretsuko: we wish you a metal christmas', 'durarara!!', 'imperfect', 'lang tong', 'miss j contemplates her choice', '48 christmas wishes', 'dance academy', 'jeremiah tower: the last magnificent', 'a christmas special: miraculous: tales of ladybug & cat noir', 'daemonium', 'gabriel lglesias: i’m sorry for what i said when i was hungry', 'george of the jungle 2', 'leo the lion', 'magic snowflake', \"santa's apprentice\", 'nightflyers', 'memories of the alhambra', 'teefa in trouble', 'the lobster', 'jab harry met sejal', 'temple', 'for the love of spock', 'pacific heat', 'white girl', 'yoga hosers', 'power rangers dino charge', 'after the raid', 'twice upon a time', 'ascharyachakit!', 'miss me this christmas', 'russell howard: recalibrate', 'the indian detective', \"the women's balcony\", 'you can’t fight christmas', 'miss stevens', 'total frat movie', \"bojack horseman christmas special: sabrina's christmas wish\", \"don't f**k with cats: hunting an internet killer\", 'soundtrack', 'ellen degeneres: relatable', 'the humanity bureau', 'some freaks', \"mike epps: don't take it personal\", \"pee-wee's playhouse: christmas special\", 'ronny chieng: asian comedian destroys america!', 'lilli', 'prince of peoria: a christmas moose miracle', 'skin trade', \"bob's broken sleigh\", 'my little pony equestria girls: rainbow rocks', 'burlesque', 'sincerely yours, dhaka', 'the danish girl', 'american circumcision', 'andhadhun', 'ashes of love', 'dragons: dawn of the dragon racers', 'dreamworks holiday classics', 'kill the messenger', 'maps to the stars', 'one day', 'springsteen on broadway', 'the theory of everything', 'god of war', 'stoked', 'barry', 'call me francis', 'crazyhead', 'rats', 'sister cities', 'theo who lived', 'a family man', 'bangistan', 'cinderella and the four knights', 'crash landing on you', 'crazy, lovely, cool', 'dil chahta hai', 'dil dhadakne do', 'don', 'don 2', 'fukrey', 'game', 'girls und panzer', 'holy expectations', 'honeymoon travels pvt. ltd.', 'hope: one in a billion', 'isoken', 'karthik calling karthik', 'lakshya', 'luck by chance', 'potato potahto', 'rock on!!', 'scooby-doo on zombie island', 'sym-bionic titan', 'talaash', 'tom and jerry: the magic ring', 'underdogs', 'zindagi na milegi dobara', 'anjaan: rural myths', 'emogenius', 'f.r.e.d.i.', 'idiotest', 'kita kita', 'minute to win it', 'once in a lifetime sessions with george ezra', 'once in a lifetime sessions with kasabian', 'once in a lifetime sessions with onerepublic', 'once in a lifetime sessions with snow patrol', 'sad hill unearthed', 'skin wars: fresh paint', 'the bad education movie', 'vanjagar ulagam', 'winsanity', '1920', 'a.d. kingdom and empire', 'beyblade: metal fusion', 'black', 'blackway', 'brave new jersey', 'breaking free', 'cheuk wan-chi: two night stand', 'christmas inheritance', 'dark chocolate (bengali version)', 'discovering bigfoot', 'erased', 'freeway: crack in the system', 'gelo', 'kabali (hindi version)', 'los niños héroes de chapultepec', 'mantostaan', 'mantra', 'muramba', 'pottersville', 'rise of the zombie', 'seoul searching', 'sexo, pudor y lagrimas', 'under an arctic sky', 'wormwood', '3 türken & ein baby', 'cannabis', 'color of woman', 'eddie - strongman', 'famous in ahmedabad', 'goodbye my wife', 'happy and', \"heaven's garden\", 'humsafar', 'ice fantasy', 'immortal classic', 'k-pop extreme survival', 'miss panda & mr. hedgehog', 'sadqay tumhare', 'sand storm', 'zindagi gulzar hai', 'zoom', 'the monster of mangatiti', 'this was tomorrow', 'hymn of death', 'inside the real narcos', 'roma', 'samson', \"sunderland 'til i die\", 'the fix', 'the innocent man', 'tidelands', 'at all costs', '6 underground', 'a trip to jamaica', 'my wife and i', \"okafor's law\", 'seven and a half dates', 'silent hill: revelation', 'the 9th precinct', 'zero hour', 'tokyo trial', 'jack whitehall: christmas with my father', 'back street girls -gokudols-', 'out of many, one', 'judd apatow: the return', 'the trip to spain', 'the unknown girl', \"viceroy's house\", 'blackfish', \"ricardo o'farrill: abrazo navideño\", 'get santa', 'the short game', 'the sky is pink', 'standoff', 'vir das: losing it', 'dawai asmara', 'red christmas', 'the hatred', \"asperger's are us\", 'the ridiculous 6', 'good and prosperous', 'michelle wolf: joke show', 'gehenna: where death lives', 'goldstone', 'susanne bartsch: on top', 'trotsky', 'nobel', 'sons of ben', 'a cinderella story: christmas wish', 'a night at the roxbury', 'austin powers in goldmember', 'austin powers: international man of mystery', 'austin powers: the spy who shagged me', 'baby dolls', 'cut bank', 'dead kids', 'high end yaariyan', 'hustle & flow', 'iron fists and kung-fu kicks', 'jindua', 'lakeeran', 'mahi nri', 'martin lawrence live: runteldat', 'morphle', 'primal fear', 'qismat', 'searching for sugar man', 'suits', 'sweet virginia', 'tee shot: ariya jutanugarn', 'the adventures of sharkboy and lavagirl', 'the bachelor', 'the departed', 'the tribes of palos verdes', 'thug life', 'wandering stars', 'why me?', '21 sarfarosh: saragarhi 1897', 'a beautiful life', 'accident', 'ayotzinapa, el paso de la tortuga', 'battle', 'black butler', 'blind detective', 'bobby robson: more than a manager', 'break up 100', 'chal bhaag', 'crossroads: one two jaga', \"don't go breaking my heart\", \"don't go breaking my heart 2\", 'faraar', 'haunted house', 'helios', 'hellboy', 'line walker', 'little singham', 'little singham aur kaal ka mahajaal', 'look for a star', 'man vs wild with sunny leone', 'oddbods: the festive menace', 'once a gangster', 'power paandi', 'roll with me', 'sdu: sex duties unit', 'set off', 'seven pounds', 'the little mermaid', 'a storybots christmas', 'atomic puppet', 'bhouri', 'cheapest weddings', 'dhia sofea', 'diana: in her own words', 'dream boat', 'dreamworks home: for the holidays', 'eh janam tumhare lekhe', 'forbidden games: the justin fashanu story', 'hisss', 'kantaro: the sweet tooth salaryman', 'monster island', 'my happy family', 'oggy and the cockroaches', 'padamu aku bersujud', 'playing for time', 'prague', 'sardaar ji', 'tezz', 'the jaime maussan show', 'the legend of 420', 'the worthy', 'voyeur', 'zig & sharko', '#rucker50', '1000 rupee note', 'across grace alley', 'asu mare 2', 'back to 1989', 'bromance', 'chill with bob ross', 'gargantia on the verdurous planet', 'interrogation', 'k', 'merlí', 'natural selection', 'nura: rise of the yokai clan: demon capital', 'rainbow time', 'refresh man', 'richard pryor: live in concert', 'tellur aliens', 'the irish mob', 'the violin player', 'yo-kai watch: the movie', 'atelier', 'my little pony equestria girls: friendship games', 'tyke elephant outlaw', 'kung fu panda: holiday', 'colin quinn: red state blue state', 'jaoon kahan bata ae dil', \"rocko's modern life: static cling\", 'sintonia', 'the family', 'the inbestigators', 'tiny house nation', 'westside vs. the world', 'perdida', 'the most unknown', 'black site delta', 'bad guys', 'dollar', 'judy moody and the not bummer summer', \"let's eat 2\", 'let’s eat', 'misaeng', 'oh my ghost', 'reply 1994', 'reply 1997', 'roll red roll', 'st. agatha', 'the naked director', 'wu assassins', 'enemigo íntimo', 'pretty man', 'denis leary: no cure for cancer', 'badla', 'the pursuit', 'theo von: no offense', 'baahubali 2: the conclusion (hindi version)', 'baahubali 2: the conclusion (malayalam version)', 'baahubali 2: the conclusion (tamil version)', 'baahubali: the beginning (hindi version)', 'baahubali: the beginning (malayalam version)', 'baahubali: the beginning (tamil version)', 'mission: destroy love', 'the black room', 'crazy beautiful you', \"i'm brent morin\", 'jim jefferies : bare', 'professor mack', 'screwball', 'sebastian maniscalco: why would you do that', \"jake's buccaneer blast\", 'lego marvel super heroes: avengers reassembled!', 'alarmoty in the land of fire', 'detention letter', 'enter the anime', 'no one will ever know', 'on children', 'enter the warriors gate', 'lady bloodfight', 'operation mekong', 'sky on fire', 'david cross: making america great again!', 'the little prince', 'yellowbird', '2 states', 'baaghi', 'brij mohan amar rahe', 'flavors of youth: international version', 'alan saldaña: mi vida de pobre', 'dino hunt', 'icarus', 'message from the king', 'wet hot american summer: ten years later', 'luo bao bei', 'cathedral of the sea', 'chennai express', 'inside the criminal mind', 'justice, my foot!', 'paradise pd', 'prince charming', 'the laws of thermodynamics', 'undercover law', 'yeh meri family', 'the eichmann show', 'back to school', 'carole & tuesday', 'feo pero sabroso', 'mi amigo alexis', 'styling hollywood', 'the a list', 'the dark crystal: age of resistance', 'the good bandit', 'unbridled', 'the surrounding game', 'misfit', 'cocaine coast', 'i am a killer', 'like father', 'marching orders', 'the invisible guardian', 'expo', 'falling inn love', 'kardec', 'starred up', 'be-be-bears', 'inequality for all', 'bring it on: worldwide showdown', 'ryan hamilton: happy face', 'travis scott: look mom i can fly', 'conjuring spirit', 'naam shabana', 'qarib qarib singlle', 'spyder', '3 generations', 'a leaf of faith', \"chicken soup for the soul's being dad\", 'menorca', 'dave chappelle: sticks & stones', 'may we chat', \"buster's mal heart\", 'madre', 'blue is the warmest color', 'jeff foxworthy and larry the cable guy: we’ve been thinking...', 'xoxo', 'one last thing', 'hank: five years from the brink', 'head on', 'inuyasha the movie: affections touching across time', 'maria bamford: the special special special', 'nymphomaniac: volume ii', 'behind \"the cove\": the quiet japanese speak out', 'berlin syndrome', 'death note', 'pekak', 'abzurdah', 'jonathan strange & mr norrell', 'drink drank drunk', 'fanatic', 'bert kreischer: secret time', 'el cartel', 'el cartel 2', 'ghoul', 'one last shot', 'take my brother away', 'the after party', 'the drunk and on drugs happy funtime hour', 'the innocents', 'the power of grayskull: the definitive history of he-man and the masters of the universe', 'kaake da viyah', 'marriage palace', 'mayday life', 'rust valley restorers', 'saavat', 'the congress', 'deadwind', 'elephants dream 4 hour', 'the lodgers', 'feel rich', 'love alarm', 'lynne koplitz: hormonal beast', \"sadie's last days on earth\", 'american factory', 'game over (hindi version)', 'game over (tamil version)', 'game over (telugu version)', 'hyperdrive', 'the girl allergic to wi-fi', 'bareilly ki barfi', 'mersal', 'mom', 'pad man', 'toilet: ek prem katha', 'bad rap', 'hati perempuan', 'kl zombi', 'rembat', 'unacknowledged', 'gangs of new york', 'our planet - behind the scenes', 'simon amstell: set free', 'leo & tig', 'camera store', 'dhanak', 'basketball or nothing', 'care bears: welcome to care-a-lot', 'for greater glory', 'léa & i', 'now and then', 'otherhood', 'uriyadi 2', '7 khoon maaf', 'chillar party', 'concussion', 'emelie', 'fashion', 'fitoor', 'fiza', 'forever chape', 'guzaarish', 'haider', 'highway', 'i hate luv storys', 'joker', 'khosla ka ghosla', 'main aurr mrs. khanna', 'mohenjo daro', 'on the wrong track', 'raajneeti', 'rang de basanti', 'rowdy rathore', 'tamasha', 'tees maar khan', 'tere naal love ho gaya', 'thank you', 'the blue umbrella', 'lavell crawford: can a brother get some love?', 'attitude test', 'barrio universitario', 'héroes', 'hide and seek', 'railroad tigers', 'fearless', \"i'll sleep when i'm dead\", 'alejandro sanz: what i was is what i am', 'peter rabbit', 'save our shelter', \"marvel's the defenders\", 'undefeated', 'what happened to monday', 'magic for humans', 'party monster: scratching the surface', 'same kind of different as me', 'stay here', 'the motive', 'to all the boys i’ve loved before', 'ultraviolet', 'yoo byung jae: discomfort zone', 'cop and a half: new recruit', \"dreamworks shrek's swamp stories\", '45 rpm', 'apache: the life of carlos tevez', 'better than us', 'blue exorcist', 'diagnosis', 'for love or money', 'green frontier', 'invader zim: enter the florpus', 'selfless', 'sextuplets', 'super monsters back to school', \"the king's avatar\", 'the little switzerland', 'victim number 8', 'bhavesh joshi superhero', 'casino tycoon 2', 'disciples of the 36th chamber', 'legendary weapons of china', 'lifeline', 'look out, officer', 'love on delivery', 'loving you', 'mahjong heroes', 'martial arts of shaolin', 'mr. virgin', 'my schoolmate, the barbarian', 'oh my ghost 3', 'opium and the kung fu master', 'painted faces', 'return to the 36th chamber', 'shark busters', 'sword masters: two champions of shaolin', 'the bare-footed kid', 'the mad monk', 'the young vagabond', 'wish i was here', 'cannon busters', 'chhota bheem kungfu dhamaka', 'til death do us part', 'whindersson nunes: adult', 'adventures in public school', 'bioscope', 'for here or to go?', 'hostiles', 'hurricane bianca: from russia with hate', 'nuestra lucha libre', 'the creative indians', \"what's your raashee?\", '20 minutes', 'barbecue', \"brad paisley's comedy rodeo\", 'colin quinn: unconstitutional', 'goon', 'million yen women', 'my ex-ex', \"we're no animals\", 'behind enemy lines', 'being ap', 'john & jane', 'louis c.k.: live at the comedy store', 'real crime: supermarket heist (tesco bomber)', 'mission blue', 'happy jail', 'uyare', 'exclusive edition', 'glowing embers', 'persona', 'the iron lady', 'the outcasts', 'demetri martin: live (at the time)', '90 ml', 'calum von moger: unbroken', 'hasta los dientes', 'tiffany haddish presents: they ready', 'woodstock', 'hot property', 'mission control: the unsung heroes of apollo', '13 cameras', 'dc super hero girls', 'chocolate city: vegas strip', 'los herederos', 'naked', 'jim gaffigan: beyond the pale', 'jim gaffigan: king baby', 'jim gaffigan: mr. universe', 'jim gaffigan: obsessed', '72 dangerous animals: asia', 'afflicted', 'all about the washingtons', 'beyond the clouds', 'the birth reborn', 'the guernsey literary and potato peel pie society', 'the package', 'zion', 'alive and kicking', 'demonic', 'shot! the psycho-spiritual mantra of rock', 'the saint', '3 idiots', 'are we done yet?', 'boyka: undisputed', 'clash of the titans', 'darna mana hai', 'ek hasina thi', 'ferrari ki sawaari', 'four weddings and a funeral', 'horns', 'jackie brown', 'jupiter ascending', 'khaani', 'last knights', 'manu', 'mi-5', 'panic room', 'regiment diaries', 'rocky', 'rocky ii', 'rocky iii', 'rocky iv', 'rocky v', 'rumor has it', 'running out of time', 'sleepless society: nyctophobia', \"something's gotta give\", 'space cowboys', \"the chefs' line\", 'to wong foo, thanks for everything! julie newmar', 'wazir', 'white chamber', 'bean: the ultimate disaster movie', 'becoming champions', 'being napoleon', 'casino tycoon', 'chernobyl diaries', 'doubles cause troubles', 'flock of four', 'hero', 'history of joy', 'initial d', 'invisible', 'kaaliyan', 'kung fu magoo', 'kuppivala', 'lechmi', 'little dragon maiden', 'los tiempos de pablo escobar', 'love in a puff', 'mahabharat', 'mater', 'melle', 'minnaminugu the firefly', 'mythily veendum varunnu', 'once in a lifetime sessions with moby', 'once in a lifetime sessions with nile rodgers', 'once in a lifetime sessions with noel gallagher', 'once in a lifetime sessions with tlc', 'oru vishsheshapetta biryani kissa', 'p se pm tak', \"r.l. stine's mostly ghostly\", 'rangreza', 'sudani from nigeria', 'switched', 'the could’ve-gone-all-the-way committee', 'the diabolical', 'the informant!', 'the parole officer', 'tikli and laxmi bomb', 'a sort of homecoming', \"all hallows' eve\", 'anarkali of aarah', 'annabelle hooper and the ghosts of nantucket', 'aussie gold hunters', 'below her mouth', 'bountiful blessings', 'close your eyes before it’s dark', 'cloud atlas', 'cop watchers', 'entangled', 'everyday miracles', 'fartsa', 'genius of the ancient world', 'genius of the modern world', 'handsome devil', 'have you ever fallen in love, miss jiang?', 'hogie the globehopper', \"jessica darling's it list\", 'life plan a and b', 'locust', 'love storm', 'maz jobrani: immigrant', 'nurses who kill', 'opening night', 'raising the bar', 'surviving escobar - alias jj', 'the blind christ', 'the bomb', 'the in-laws', 'the truth about alcohol', 'the women who kill lions', 'un plus une', 'winter sun', 'world war ii in colour', 'apex: the story of the hypercar', \"autumn's concerto\", 'battlefield recovery', 'children of god', 'cocaine', 'edge of the universe', \"hitler's olympics\", 'holding the man', 'how to win the us presidency', 'interview with a serial killer', 'la esclava blanca', 'love cuisine', 'miss rose', 'office girls', 'queen of no marriage', 'real crime: diamond geezers', 'the prince who turns into a frog', 'two fathers', \"you're my destiny\", 'movie 43', 'the basement', 'amo', 'the tiger hunter', \"look who's back\", 'sarvam thaala mayam (telugu version)', 'the great battle', 'el fin de eta', 'incomplete', 'hush', 'residue', 'petta (telugu version)', 'time: the kalief browder story', '24 hours to live', 'newtown', 'strike a pose', 'the lighthouse of the orcas', 'win it all', 'between worlds', 'queen of the desert', '6 balloons', 'amateur', 'orbiter 9', 'ram dass, going home', \"seth rogen's hilarity for charity\", 'sun dogs', 'the 4th company', 'todo lo que sería lucas lauriente', 'troy', 'the eyes of my mother', 'alien warfare', 'backfire', 'legacies', 'lupt', 'our planet', 'petta', 'playing hard', 'quicksand', 'rimba racer', 'the spy who fell to earth', 'tijuana', 'unicorn store', 'behind the curtain: todrick hall', 'day of the dead: bloodline', 'american odyssey', 'possessed', 'ali baba ve 7 cüceler', 'aşk tesadüfleri sever', 'bir baba hindu', 'ekşi elmalar', 'görümce', 'hadi i̇nşallah', 'i̇stanbul kırmızısı', 'küçük esnaf', 'monster family', 'organize isler', 'pek yakında', 'louis c.k. 2017', 'a home with a view', \"angel 'n' devil\", 'anthony jeselnik: fire in the maternity ward', 'hong kong west side stories', 'ingress: the animation', 'k.o. one re-act', 'k.o.3an guo', 'ko one return', 'perfect bid: the contestant who knew too much', 'the outsiders', 'babam ve oğlum', 'black crows', 'running shaadi', 'the price of success', '14 blades', 'ricardo quevedo: los amargados somos más', 'suzzanna: buried alive', 'tango', 'fary is the new black', 'honey: rise up and dance', 'ittefaq', 'burning', 'crd', 'teen aur aadha', 'special correspondents', 'team foxcatcher', '2015 dream concert', 'a murder in the park', 'casting jonbenet', 'jumping girl', 'president', 'rodney king', 'small crimes', 'what in the world happened?', 'africa', 'american honey', 'bobby kennedy for president', 'candy jar', 'dancing angels', 'holy goalie', 'moving on', 'rea(l)ove', 'the new legends of monkey', 'the rachel divide', 'the week of', 'trio and a bed', '海的儿子', \"amar's hands\", 'an hour and a half', 'chambers', 'kon-tiki', 'loving is losing', 'money trap', 'njan prakashan', 'remastered: devil at the crossroads', 'season of the witch', 'street food', 'the sapphires', 'enissa amani: ehrenwort', 'kickboxer: retaliation', 'the daughter', 'a mission in an old movie', 'aurora', 'goosebumps 2: haunted halloween', 'love station', 'omar and salma 3', 'shattered memories', \"the consul's son\", 'the hateful eight: extended version', 'the ugly truth', 'bill nye: science guy', 'fishtronaut: the movie', 'psychokinesis', 'dear zindagi', 'shepherds and butchers', 'the 101-year-old man who skipped out on the bill and disappeared', 'vir das: abroad understanding', 'democrats', 'fireflies', 'furthest witness', \"kevin james: never don't give up\", 'the magic pill', 'i think you should leave with tim robinson', 'little singham in london', 'fangbone', 'secrets of althorp - the spencers', 'secrets of scotland yard', 'secrets of selfridges', 'secrets of underground london', 'secrets of westminster', 'catching the sun', 'patton oswalt: talking for clapping', 'life', 'life on location', \"nature's great events: diaries\", 'planet earth: the complete collection', 'the last resort', 'girlboss', 'hot girls wanted: turned on', 'sand castle', 'tramps', 'a fortunate man', 'grass is greener', 'paper year', 'a love so beautiful', 'club friday to be continued - friend & enemy', 'club friday to be continued - the promise', 'dude', 'kodachrome', 'mercury 13', 'mac & devin go to high school', 'boy bye', 'ek ladki ko dekha toh aisa laga', 'jagat', 'kevin hart: irresponsible', 'la piloto', 'good kill', 'the d train', 'abdo mota', \"brampton's own\", 'brené brown: the call to courage', 'i, daniel blake', 'ko one', 'lunatics', 'music teacher', 'my dear boy', 'rilakkuma and kaoru', \"roh's beauty\", 'someone great', 'the mayo clinic', 'the ruthless', 'all the reasons to forget', 'charité', 'chasing the dragon', 'american experience: ruby ridge', 'oklahoma city', '30 days of luxury', \"because we're heading out\", 'my dog is my guide', 'my wife and my wifey', 'the walls of the moon', 'warda', 'friend request', 'the adventures of sonic the hedgehog', 'bigger fatter liar', 'lucas brothers: on drugs', 'a little chaos', 'dabbe 6: the return', 'de film van dylan haegens', 'franco escamilla: bienvenido al mundo', 'homecoming: a film by beyoncé', 'the chalet', 'the honeymoon stand up special', 'the messengers', \"chris d'elia: incorrigible\", '21 & over', 'about time', 'evan almighty', 'jonathan', 'super monsters furever friends', 'the creative brain', \"cirque du freak: the vampire's assistant\", 'porto', 'manglehorn', 'star-crossed', 'bollywood calling', 'ek khiladi ek haseena', 'generation iron 3', 'hazaaron khwaishein aisi', 'jhankaar beats', 'mumbai matinee', 'rainbow jelly', 'shabd', 'shortcut safari', 'the new romantic', 'beyond skyline', 'eddie murphy: delirious', 'harriet the spy: blog wars', 'numero zero. the roots of italian rap', 'a patch of fog', 'agent raghav', 'bhaage re mann', 'bibi & tina', 'bibi & tina ii', 'bibi & tina: girls versus boys', 'gangs of hassepur', 'maharakshak devi', 'oddbods', 'rosario tijeras', 'slam', 'the wedding party', 'band of robbers', 'belgica', 'prescription thugs', 'from one second to the next', 'antidote', 'thriller', 'nowhere boy', 'arctic heart', 'our lovers', 'sandy wexler', 'the chosen', 'the seven five', 'we are family', 'a land imagined', 'who would you take to a deserted island?', 'club friday to be continued - my beautiful tomboy', 'come sunday', 'i am not an easy man', 'lost in space', 'o-negative, love can’t be designed', 'azhar', 'band aid', 'buffalo boys', 'dabbe 5: zehr-i cin', 'dabbe: the possession', 'francesco de carlo: cose di questo mondo', 'horror story', 'huge in france', 'special', 'the perfect date', 'pickpockets', 'macho', 'radical: the controversial saga of dada figueiredo', 'black summer', 'persona', 'kevin hart: what now?', '#roxy', 'liss pereira: reteniendo líquidos', 'the silence', 'you vs. wild', 'greg davies: you magnificent beast', 'frat star', 'the miracle', '706', 'across the line', 'american masters: ted williams', 'arthur', 'fracture', 'get smart', 'hedgehogs', 'i am maris', 'jesus: countdown to calvary', 'jinglekids', 'kicko & super speedo', 'love o2o', 'midnight misadventures with mallika dua', 'p.s. i love you', 'peasants rebellion', 'penelope', 'pinky memsaab', 'secrets of great british castles', 'sherlock holmes', 'spy kids', 'spy kids 3: game over', 'that winter, the wind blows', 'the bye bye man', 'the calling', 'the devil is a part-timer!', 'the legend of michael mishra', 'the trap', 'the trust', \"the world's most wanted animal\", 'ultraman', 'war', 'a billion colour story', 'a dangerous woman', 'a sort of family', 'an american tail', 'an american tail: fievel goes west', 'an american tail: the mystery of the night monster', 'an american tail: the treasures of manhattan island', 'balto', 'balto 2: wolf quest', 'balto 3: wings of change', 'barsaat', 'bh se bhade', 'big time', 'billu', 'buddha', \"class of '61\", 'dad', 'dagh ujala', 'dare to be wild', 'dil hai tumhaara', 'ethirmarai', 'fallet', 'fishpeople', 'gringo: the dangerous life of john mcafee', 'how to make an american quilt', 'influx', 'john mulaney: new in town', 'kya kehna', 'lady, la vendedora de rosas', 'loaded', 'locked up', 'main hoon na', 'mandobasar galpo', 'metro', 'om shanti om', 'paheli', 'phir bhi dil hai hindustani', 'prince', 'ramayan', 'rukh', 'sairat', \"schindler's list\", 'secret in their eyes', 'the aerial', 'the duchess', 'the search for life in space', 'una', 'badalte rishton ki dastaan', 'bala loca', 'beyond all boundaries', 'born to be free', 'burned cocoon', 'celluloid man', 'couples counseling', 'dancing quietly', 'deuces', \"don't look down\", 'elaan', 'fairy tail', 'five nights in maine', 'joe cocker: mad dog with soul', 'khelti hai zindagi aankh micholi', 'killa', 'lavender', 'life 2.0', 'maharakshak: aryan', 'ouran high school host club', 'razia sultan', 'salaakhen', 'satrangi', 'silicon cowboys', 'skins', 'the bad kids', 'the human factor: the untold story of the bombay film orchestras', 'the tenth man', 'toro', 'cyborg 009 vs devilman', 'frank and cindy', 'frank and cindy', 'iverson', \"jeremy scott: the people's designer\", 'yo-kai watch', 'dreamworks happy holidays from madagascar', 'show me the money', 'ripper street', 'haven', \"marvel's iron fist\", 'stretch armstrong & the flex fighters', 'galavant', 'elite', 'jack whitehall: travels with my father', 'once upon a time', 'reign', 'the vampire diaries', 'gotham', 'real rob', 'reboot: the guardian code', 'skylanders academy', 'el marginal', 'explained', 'norsemen', 'terrace house: aloha state', 'abstract: the art of design', 'glitch', 'locked up', 'portlandia', 'dark matter', 'american horror story', 'resurrection: ertugrul', 'veggietales in the house', 'person of interest', 'disenchantment', 'fastest car', 'quantico', 'the blacklist', 'beauty & the beast', 'the adjusters', 'penny dreadful', 'mini wolf', 'silver spoon', 'veggietales in the city', 'american vandal', 'ingobernable', \"i'm sorry\", 'the chef show', 'the ranch', 'zak storm', 'offspring', 'tobot', 'shameless (u.s.)', 'sword art online', \"marvel's agents of s.h.i.e.l.d.\", 'moving art', 'naruto', \"nature's weirdest events\", 'scream', 'the walking dead', 'narcos', 'robocar poli', 'toast of london', 'forensic files', 'the 4400', 'sofia the first', 'gossip girl', 'kibaoh klashers', 'word party', 'the fosters', 'creeped out', 'peaky blinders', 'rotten', 'super monsters', 'kengan ashura', 'midnight diner: tokyo stories', 'goldie & bear', 'flavorful origins', 'fate/extra last encore', 'zoo', 'jeopardy!', 'castlevania', 'bojack horseman', 'chuchu tv kids songs, learning videos & bedtime stories', 'greenhouse academy', 'the kominsky method', 'great news', 'w1a', 'the hollywood masters', 'hemlock grove', \"bunk'd\", 'haters back off', \"monty python's flying circus\", 'making a murderer', \"marvel's daredevil\", 'project s the series', 'baby', 'little baby bum: nursery rhyme friends', 'meateater', 'spirit riding free: pony tales', 'the house of flowers', 'toon', 'chosen', \"my babysitter's a vampire\", 'rake', 'some assembly required', 'octonauts', 'power rangers ninja steel', 'the seven deadly sins', 'west coast customs', 'vampire knight', \"edgar rice burroughs' tarzan and jane\", 'the boss baby: back in business', 'haunted', 'insatiable', 'the hook up plan', 'yoohoo to the rescue', \"schitt's creek\", 'burnistoun', 'carmen sandiego', \"limmy's show!\", 'killer women with piers morgan', 'still game', 'charmed', 'cleverman', 'gilmore girls', 'noddy toyland detective', 'star trek', 'star trek: enterprise', 'star trek: voyager', 'skin wars', 'little things', 'treehouse detectives', 'danger mouse', 'busted!', 'the great british baking show: holidays', 'wild district', 'fate/apocrypha', 'project mc²', 'millennials', 'sam & cat', 'she-ra and the princesses of power', 'the end of the f***ing world', 'meet the adebanjos', 'f is for family', 'spy kids: mission critical', 'man down', 'bleach', 'kopitiam', 'julius jr.', 'chip and potato', 'la reina del sur', 'good morning call', 'broadchurch', 'the crime', 'frontier', 'sick note', 'high seas', 'nailed it! holiday!', 'the dragon prince', 'trolls: the beat goes on!', 'mystery science theater 3000: the return', 'lilyhammer', 'victorious', 'house of cards', 'the last kingdom', 'goosebumps', 'the magic school bus', 'the crown', 'longmire', 'luna petunia', 'ponysitters club', 'k-on!', 'llama llama', 'the toys that made us', 'the yard', 'chief of staff', 'my little pony: friendship is magic', 'patriot act with hasan minhaj', 'glitter force doki doki', 'lady dynamite', 'atypical', 'billy on the street', 'bondi rescue', 'clannad', 'haikyu!!', 'love, chunibyo & other delusions!', 'mars', 'mobile suit gundam: iron-blooded orphans', 'the boulet brothers dragula', 'the deep', 'creators', 'follow this', 'grand hotel', \"that '70s show\", 'the mind of a chef', 'top boy', 'highway to heaven', 'women behind bars', 'lucifer', 'queen of the south', 'prince jai aur dumdaar viru', 'kazoops!', 'kong: king of the apes', 'bad blood', 'my next guest needs no introduction with david letterman', \"oh no! it's an alien invasion\", 'unbreakable kimmy schmidt', 'american crime', 'cupcake & dino - general services', 'supernatural', 'total drama', 'arrested development', \"dc's legends of tomorrow\", 'hell on wheels', 'supergirl', 'mako mermaids: an h2o adventure', 'bloodline', 'bitten', 'trollhunters', \"she's gotta have it\", 'fauda', 'riverdale', 'the flash', 'velvet', 'richie rich', 'arrow', 'prince of peoria', 'rosario tijeras', 'colony', 'scandal', 'mother goose club', 'inspector gadget', 'royal pains', 'nailed it', 'the rain', 'white gold', 'call the midwife', 'sherlock', 'master of none', 'bill nye saves the world', 'ha unlimited', 'easy', 'the mechanism', 'code geass: lelouch of the rebellion', 'lolirock', 'yu-gi-oh! arc-v', 'club friday the series 6', 'love', 'hunter x hunter (2011)', 'hap and leonard', 'secret city', 'rectify', \"dad's army\", 'days we stared at the sun', 'doctor foster', 'father brown', 'vir: the robot boy', 'wake up', 'yu-gi-oh!', 'extras', 'hoff the record', 'the house that made me', 'weird wonders of the world', 'republic of doyle', 'how to get away with murder', 'trailer park boys', 'on my block', 'santa clarita diet', 'versailles', \"hyori's bed & breakfast\", 'ainori love wagon: asian journey', 'black lightning', 'better call saul', 'bottersnikes & gumbles', 'the oa', 'mad men', 'the l word', 'the standups', 'el reemplazante', 'outback truckers', 'angry birds', 'happy valley', 'brain games', 'las muñecas de la mafia', 'robozuna', 'terrace house: opening new doors', 'into the badlands', 'guru aur bhole', 'larva island', 'sab jholmaal hai', 'the disastrous life of saiki k.', 'murder maps', 'nazi mega weapons', 'marcella', '3%', 'designated survivor', 'the night shift', 'black mirror', 'madam secretary', 'scare tactics', 'hormones', 'criminal minds', 'little witch academia', 'the day my butt went psycho!', 'documentary now!', 'dynasty', 'dope', 'instant hotel', 'motown magic', 'paquita salas', 'slasher', 'forest of piano', 'heavy rescue: 401', \"marvel's luke cage\", 'dark', 'girls incarcerated', 'go! live your way', 'magi: the labyrinth of magic', 'roonpi secret love', 'shooter', 'the casketeers', 'the confession tapes', 'young & hungry', 'pac-man and the ghostly adventures', 'dinosaur king', 'flaked', 'club friday the series 7', 'aquarius', 'world of winx', 'fate/zero', \"grey's anatomy\", 'danger mouse: classic collection', 'aggretsuko', 'black spot', 'el desconocido', \"girlfriends' guide to divorce\", 'marlon', \"marvel's jessica jones\", 'kakegurui', 'lego friends: the power of friendship', 'herrens veje', 'march comes in like a lion', 'the sniffer', 'mutant busters', 'off camera', 'pyaar tune kya kiya', 'johnny test', 'dawn of the croods', 'degrassi: next class', 'free rein', 'first team: juventus', 'somebody feed phil', 'kakegurui', 'stranger things', 'kuromukuro', 'the letdown', 'a very secret service', 'swordgai the animation', 'yummy mummies', 'lego bionicle: the journey to one', 'kath and kim', 'el chapo', 'big dreams, small spaces', 'my first first love', 'orange is the new black', 'sugar rush', 'the worst witch', 'popples', 'beat bugs', 'deep undercover collection', 'fix it and finish it', 'home: adventures with tip & oh', 'luna petunia: return to amazia', 'origins collection', 'good witch', 'comedians in cars getting coffee', 'la casa de papel', 'last chance u', 'queer eye', 'the epic tales of captain underpants', \"can't cope, won't cope\", 'intelligence', 'glee', 'pinky malinky', 'wynonna earp', 'the joel mchale show with joel mchale', 'h2o: mermaid adventures', '3below: tales of arcadia', 'bonus family', 'nightmare tenants, slum landlords', 'mossad 101', 'baby ballroom', 'drug lords', 'hatchimals | adventures in hatchtopia', 'tayo the little bus', 'zombie dumb', 'ncis', 'being mary jane: the series', 'cheers', 'el barco', 'hostages', 'intersection', 'the andy griffith show', 'the twilight zone (original series)', 'twin peaks', 'unriddle', 'between', 'marco polo', 'the tudors', 'episodes', 'tales by light', 'call my agent!', 'anne with an e', 'the ministry of time', 'z nation', 'the adventures of puss in boots', 'club of crows', 'medici: masters of florence', 'the shannara chronicles', \"marvel's the punisher\", \"the world's most extraordinary homes\", 'hip-hop evolution', 'friday night tykes', 'yunus emre', 'booba', 'soul eater', 'rita', 'grace and frankie', 'the cat in the hat knows a lot about that!', 'parks and recreation', 'taken', 'disjointed', 'friends from college', 'hardy bucks', 'horrid henry', 'sin senos sí hay paraíso', 'harvey street kids', 'pocoyo', 'saint seiya', \"border security: america's front line\", 'mia and me', 'rurouni kenshin', 'a series of unfortunate events', 'comedians of the world', 'the paper', 'dexter', 'fullmetal alchemist: brotherhood', 'huntik: secrets and seekers', 'lovesick', 'the inbetweeners', 'star trek: deep space nine', 'big bad beetleborgs', 'mighty morphin power rangers', 'the office (u.s.)', 'v.r. troopers', 'the break', 'big mouth', 'man like mobeen', 'one day at a time', 'h2o: just add water', 'care bears & cousins', 'turbo fast', 'el vato', 'babylon berlin', 'marseille', \"chef's table\", 'rebellion', 'suburra: blood on rome', 'the big family cooking showdown', 'z4', 'love me as i am', 'bates motel', 'the frankenstein chronicles', 'bordertown', 'club friday the series 8', 'dragons: race to the edge', 'ugly duckling', 'barbie dreamhouse adventures', 'velvet colección', 'dangerous roads', 'lego friends', 'lego ninjago: masters of spinjitzu', 'littlest pet shop: a world of our own', 'the garfield show', 'the story of god with morgan freeman', 'masha and the bear', 'under arrest', 'the furchester hotel', 'larva', 'spartacus', 'the borgias', 'neo yokio', 'fuller house', 'greenleaf', 'from dusk till dawn', 'robot trains', 'occupied', 'top grier', 'nurse jackie', 'alexa & katie', 'highway thru hell', 'the sound of your heart: reboot', 'lost & found music studios', 'when calls the heart', 'comedy bang! bang!', 'ajin: demi-human', 'the west wing', 'el señor de los cielos', '忍者ハットリくん', 'sense8', 'private practice', 'people just do nothing', 'last hope', 'fate/stay night: unlimited blade works', 'borderline', 'hello, my twenties!', \"pee-wee's playhouse\", 'the magicians', 'cocomong', 'scooby-doo!: mystery incorporated', \"what's new scooby-doo?\", 'bad education', 'flowers', 'shtisel', 'chasing monsters', 'reggie yates outside man', 'the windsors', 'inuyasha', 'merlin', 'hart of dixie', 'fit for fashion', 'inside the world’s toughest prisons', 'the apartment', 'travelers', 'voltron: legendary defender', 'halt and catch fire', 'wanted', 'outlander', 'knights of sidonia', 'sonic x', 'space jungle', 'the repair shop', 'eastsiders', 'sensitive skin', 'great interior design challenge', 'the great british baking show: masterclass', 'all hail king julien', 'super wings', \"turn: washington's spies\", 'cable girls', 'glow', 'izombie', 'the originals', 'jane the virgin', 'no good nick', 'ever after high', 'abnormal summit', 'chef & my fridge', 'paranormal survivor', 'ozark', 'the comedy lineup', 'ultimate beastmaster', 'ultimate beastmaster méxico', 'mighty little bheem', 'the great british baking show', 'true and the rainbow kingdom', 'dinotrux supercharged', \"workin' moms\", \"droppin' cash: los angeles\", 'van helsing', 'million pound menu', 'the good place', 'glitter force', '13 reasons why', '13 reasons why: beyond the reasons', 'hero mask', 'gomorrah', 'ask the storybots', 'dear white people', 'derry girls', 'miraculous: tales of ladybug & cat noir', 'skins', 'breaking bad', 'the investigator: a british crime story', 'dinotrux', 'puffin rock', 'mindhunter', 'qb1: beyond the lights', 'jericho', 'sacred games', 'caught on camera', 'the 100', 'age of glory', 'knightfall', 'splash and bubbles', 'grand designs', 'heartland', 'the sinner', 'wentworth', 'hinterland', 'land girls', 'the it crowd', 'vexed', 'vroomiz', 'men on a mission', 'the get down', 'wakfu', 'chilling adventures of sabrina', 'derek', 'imposters', 'roman empire: reign of blood', 'spirit: riding free', 'chewing gum', 'baki', \"kim's convenience\", 'ash vs. evil dead', 'señora acero', 'goodnight dj 1', 'mar de plástico', 'rica, famosa, latina', 'the protector', 'beauty and the bitches', 'liv and maddie', 'the mr. peabody and sherman show', 'the cravings', 'star trek: the next generation', 'cuckoo', 'pororo - the little penguin', 'samantha!', 'murderous affairs', 'lost girl', 'mr. young', 'psiconautas', 'the minimighty kids', 'filinta', 'leyla and mecnun', 'chelsea', 'crazy ex-girlfriend', 'the magic school bus rides again', 'new girl', 'talking tom and friends', 'pokémon the series', 'justin time', 'terrace house: boys & girls in the city', 'weeds', 'gunslinger girl', 'anthony bourdain: parts unknown', 'frasier', 'la familia p. luche', 'the adventures of figaro pho', 'kikoriki', 'red vs. blue', 'maron', 'little baby bum: nursery rhyme friends', \"a young doctor's notebook and other stories\", 'friends']\n"
          ]
        }
      ]
    },
    {
      "cell_type": "code",
      "source": [
        "inp= input(' Enter your favourite movie name : ')\n",
        "movie=inp.lower()\n",
        "close_matches = difflib.get_close_matches(movie, titles_list)\n",
        "print('\\nAvailable Movies Closest to : ',inp)\n",
        "print('\\n0) {0} \\n1) {1} \\n2) {2} \\n3) Exit the Operation '.format(close_matches[0],close_matches[1],close_matches[2]))\n",
        "inp2=int(input('\\nInput the number to get your recommendation: '))\n",
        "if inp2 >3 :\n",
        "  print('\\nInvalid Input')\n",
        "elif inp2==3:\n",
        "  print('\\n____Thank you For Using Our Service!____')\n",
        "else:\n",
        "  print('\\nSelected Movie: ',close_matches[inp2])\n",
        "Slct=close_matches[inp2]"
      ],
      "metadata": {
        "colab": {
          "base_uri": "https://localhost:8080/"
        },
        "id": "YDWDv0yLO9-K",
        "outputId": "bd000bff-93bb-40e1-8e28-40f33037f295"
      },
      "id": "YDWDv0yLO9-K",
      "execution_count": 150,
      "outputs": [
        {
          "output_type": "stream",
          "name": "stdout",
          "text": [
            " Enter your favourite movie name : transformer\n",
            "\n",
            "Available Movies Closest to :  transformer\n",
            "\n",
            "0) transformer \n",
            "1) transfers \n",
            "2) transformers prime \n",
            "3) Exit the Operation \n",
            "\n",
            "Input the number to get your recommendation: 2\n",
            "\n",
            "Selected Movie:  transformers prime\n"
          ]
        }
      ]
    },
    {
      "cell_type": "code",
      "source": [
        "#_______RUN THIS CELL TO GET THE RECOMMENDED MOVIES_________\n",
        "\n",
        "\n",
        "#Lets find the index of selected movie in the DataFrame\n",
        "Slct=close_matches[inp2]\n",
        "index_of_the_movie = df.index[df.lower == Slct].tolist()\n",
        "idx=index_of_the_movie[0]\n",
        "\n",
        "sim_mov= list(enumerate(cos_sim[idx]))\n",
        "\n",
        "#Sort the movies in descending order\n",
        "similar_movies = sorted(sim_mov, key = lambda x:x[1], reverse = True) \n",
        "\n",
        "#Displaying the Similar Movies\n",
        "\n",
        "print(\" Top Ten Recommended movies \\n\")\n",
        "i = 1\n",
        "for mov in similar_movies:\n",
        "  index = mov[0]\n",
        "  title = df[df.index==index]['title'].values[0]\n",
        "  if (i<10):\n",
        "    print(i, '.',title)\n",
        "    i+=1"
      ],
      "metadata": {
        "colab": {
          "base_uri": "https://localhost:8080/"
        },
        "id": "m48kc334dOeu",
        "outputId": "099cde74-acb8-478f-f4f8-e579a9346a62"
      },
      "id": "m48kc334dOeu",
      "execution_count": 151,
      "outputs": [
        {
          "output_type": "stream",
          "name": "stdout",
          "text": [
            " Top Ten Recommended movies \n",
            "\n",
            "1 . Transformers Prime\n",
            "2 . Transformers: Robots in Disguise\n",
            "3 . All Hail King Julien: Exiled\n",
            "4 . Kulipari: Dream Walker\n",
            "5 . Transformers: Rescue Bots\n",
            "6 . 3Below: Tales of Arcadia\n",
            "7 . A Fairly Odd Summer\n",
            "8 . Kulipari: An Army of Frogs\n",
            "9 . Transformers: Cyberverse\n"
          ]
        }
      ]
    }
  ],
  "metadata": {
    "kernelspec": {
      "display_name": "Python 3 (ipykernel)",
      "language": "python",
      "name": "python3"
    },
    "language_info": {
      "codemirror_mode": {
        "name": "ipython",
        "version": 3
      },
      "file_extension": ".py",
      "mimetype": "text/x-python",
      "name": "python",
      "nbconvert_exporter": "python",
      "pygments_lexer": "ipython3",
      "version": "3.9.10"
    },
    "colab": {
      "provenance": [],
      "collapsed_sections": []
    }
  },
  "nbformat": 4,
  "nbformat_minor": 5
}